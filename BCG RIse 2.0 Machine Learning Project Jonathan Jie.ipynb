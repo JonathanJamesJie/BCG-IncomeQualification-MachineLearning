{
 "cells": [
  {
   "cell_type": "markdown",
   "id": "3f8596ce",
   "metadata": {},
   "source": [
    "# DA- IU3.6.9_STANDARD PROJECT Machine Learning- Group Number 4 - Jonathan Jie\n"
   ]
  },
  {
   "cell_type": "markdown",
   "id": "def6607a",
   "metadata": {},
   "source": [
    "## DESCRIPTION \n",
    "\n",
    "### Identify the level of income qualification needed for the families in Latin America. \n",
    "\n",
    " \n",
    "\n",
    "## Problem Statement Scenario: \n",
    "\n",
    "### Many social programs have a hard time ensuring that the right people are given enough aid. It’s tricky when a program focuses on the poorest segment of the population. This segment of the population can’t provide the necessary income and expense records to prove that they qualify. \n",
    "\n",
    "### In Latin America, a popular method called Proxy Means Test (PMT) uses an algorithm to verify income qualification. With PMT, agencies use a model that considers a family’s observable household attributes like the material of their walls and ceiling or the assets found in their homes to \n",
    "\n",
    "### classify them and predict their level of need. \n",
    "\n",
    "### While this is an improvement, accuracy remains a problem as the region’s population grows and poverty declines. \n",
    "\n",
    "### The Inter-American Development Bank (IDB)believes that new methods beyond traditional econometrics, based on a dataset of Costa Rican household characteristics, might help improve PMT’s performance. \n",
    "\n",
    "## Following actions should be performed:  \n",
    "\n",
    "### 1. Identify the output variable. \n",
    "\n",
    "### 2. Understand the type of data. \n",
    "\n",
    "### 3. Check if there are any biases in your dataset. \n",
    "\n",
    "### 4. Check whether all members of the house have the same poverty level. \n",
    "\n",
    "### 5. Check if there is a house without a family head. \n",
    "\n",
    "### 6. Set poverty level of the members and the head of the house within a family. \n",
    "\n",
    "### 7. Count how many null values are existing in columns. \n",
    "\n",
    "### 8. Remove null value rows of the target variable. \n",
    "\n",
    "### 9. Predict the accuracy using random forest classifier. \n",
    "\n",
    "### 10. Check the accuracy using random forest with cross validation. "
   ]
  },
  {
   "cell_type": "code",
   "execution_count": 1,
   "id": "39526205",
   "metadata": {},
   "outputs": [],
   "source": [
    "import numpy as np\n",
    "import pandas as pd\n",
    "import seaborn as sns\n",
    "import matplotlib.pyplot as plt\n",
    "import scipy as sp"
   ]
  },
  {
   "cell_type": "code",
   "execution_count": 2,
   "id": "709590e2",
   "metadata": {},
   "outputs": [],
   "source": [
    "# Importing our test and train data \n",
    "\n",
    "train = pd.read_csv('C:\\\\Users\\\\Jonathan Jie\\\\Machine Learning\\\\ML Project\\\\train.csv')"
   ]
  },
  {
   "cell_type": "code",
   "execution_count": 3,
   "id": "44cce25c",
   "metadata": {},
   "outputs": [],
   "source": [
    "test = pd.read_csv('C:\\\\Users\\\\Jonathan Jie\\\\Machine Learning\\\\ML Project\\\\test.csv')"
   ]
  },
  {
   "cell_type": "markdown",
   "id": "1f5eb9fa",
   "metadata": {},
   "source": [
    "#### Data Set Exploration"
   ]
  },
  {
   "cell_type": "code",
   "execution_count": 4,
   "id": "2d975462",
   "metadata": {},
   "outputs": [
    {
     "data": {
      "text/html": [
       "<div>\n",
       "<style scoped>\n",
       "    .dataframe tbody tr th:only-of-type {\n",
       "        vertical-align: middle;\n",
       "    }\n",
       "\n",
       "    .dataframe tbody tr th {\n",
       "        vertical-align: top;\n",
       "    }\n",
       "\n",
       "    .dataframe thead th {\n",
       "        text-align: right;\n",
       "    }\n",
       "</style>\n",
       "<table border=\"1\" class=\"dataframe\">\n",
       "  <thead>\n",
       "    <tr style=\"text-align: right;\">\n",
       "      <th></th>\n",
       "      <th>Id</th>\n",
       "      <th>v2a1</th>\n",
       "      <th>hacdor</th>\n",
       "      <th>rooms</th>\n",
       "      <th>hacapo</th>\n",
       "      <th>v14a</th>\n",
       "      <th>refrig</th>\n",
       "      <th>v18q</th>\n",
       "      <th>v18q1</th>\n",
       "      <th>r4h1</th>\n",
       "      <th>...</th>\n",
       "      <th>SQBescolari</th>\n",
       "      <th>SQBage</th>\n",
       "      <th>SQBhogar_total</th>\n",
       "      <th>SQBedjefe</th>\n",
       "      <th>SQBhogar_nin</th>\n",
       "      <th>SQBovercrowding</th>\n",
       "      <th>SQBdependency</th>\n",
       "      <th>SQBmeaned</th>\n",
       "      <th>agesq</th>\n",
       "      <th>Target</th>\n",
       "    </tr>\n",
       "  </thead>\n",
       "  <tbody>\n",
       "    <tr>\n",
       "      <th>0</th>\n",
       "      <td>ID_279628684</td>\n",
       "      <td>190000.0</td>\n",
       "      <td>0</td>\n",
       "      <td>3</td>\n",
       "      <td>0</td>\n",
       "      <td>1</td>\n",
       "      <td>1</td>\n",
       "      <td>0</td>\n",
       "      <td>NaN</td>\n",
       "      <td>0</td>\n",
       "      <td>...</td>\n",
       "      <td>100</td>\n",
       "      <td>1849</td>\n",
       "      <td>1</td>\n",
       "      <td>100</td>\n",
       "      <td>0</td>\n",
       "      <td>1.000000</td>\n",
       "      <td>0.0</td>\n",
       "      <td>100.0</td>\n",
       "      <td>1849</td>\n",
       "      <td>4</td>\n",
       "    </tr>\n",
       "    <tr>\n",
       "      <th>1</th>\n",
       "      <td>ID_f29eb3ddd</td>\n",
       "      <td>135000.0</td>\n",
       "      <td>0</td>\n",
       "      <td>4</td>\n",
       "      <td>0</td>\n",
       "      <td>1</td>\n",
       "      <td>1</td>\n",
       "      <td>1</td>\n",
       "      <td>1.0</td>\n",
       "      <td>0</td>\n",
       "      <td>...</td>\n",
       "      <td>144</td>\n",
       "      <td>4489</td>\n",
       "      <td>1</td>\n",
       "      <td>144</td>\n",
       "      <td>0</td>\n",
       "      <td>1.000000</td>\n",
       "      <td>64.0</td>\n",
       "      <td>144.0</td>\n",
       "      <td>4489</td>\n",
       "      <td>4</td>\n",
       "    </tr>\n",
       "    <tr>\n",
       "      <th>2</th>\n",
       "      <td>ID_68de51c94</td>\n",
       "      <td>NaN</td>\n",
       "      <td>0</td>\n",
       "      <td>8</td>\n",
       "      <td>0</td>\n",
       "      <td>1</td>\n",
       "      <td>1</td>\n",
       "      <td>0</td>\n",
       "      <td>NaN</td>\n",
       "      <td>0</td>\n",
       "      <td>...</td>\n",
       "      <td>121</td>\n",
       "      <td>8464</td>\n",
       "      <td>1</td>\n",
       "      <td>0</td>\n",
       "      <td>0</td>\n",
       "      <td>0.250000</td>\n",
       "      <td>64.0</td>\n",
       "      <td>121.0</td>\n",
       "      <td>8464</td>\n",
       "      <td>4</td>\n",
       "    </tr>\n",
       "    <tr>\n",
       "      <th>3</th>\n",
       "      <td>ID_d671db89c</td>\n",
       "      <td>180000.0</td>\n",
       "      <td>0</td>\n",
       "      <td>5</td>\n",
       "      <td>0</td>\n",
       "      <td>1</td>\n",
       "      <td>1</td>\n",
       "      <td>1</td>\n",
       "      <td>1.0</td>\n",
       "      <td>0</td>\n",
       "      <td>...</td>\n",
       "      <td>81</td>\n",
       "      <td>289</td>\n",
       "      <td>16</td>\n",
       "      <td>121</td>\n",
       "      <td>4</td>\n",
       "      <td>1.777778</td>\n",
       "      <td>1.0</td>\n",
       "      <td>121.0</td>\n",
       "      <td>289</td>\n",
       "      <td>4</td>\n",
       "    </tr>\n",
       "    <tr>\n",
       "      <th>4</th>\n",
       "      <td>ID_d56d6f5f5</td>\n",
       "      <td>180000.0</td>\n",
       "      <td>0</td>\n",
       "      <td>5</td>\n",
       "      <td>0</td>\n",
       "      <td>1</td>\n",
       "      <td>1</td>\n",
       "      <td>1</td>\n",
       "      <td>1.0</td>\n",
       "      <td>0</td>\n",
       "      <td>...</td>\n",
       "      <td>121</td>\n",
       "      <td>1369</td>\n",
       "      <td>16</td>\n",
       "      <td>121</td>\n",
       "      <td>4</td>\n",
       "      <td>1.777778</td>\n",
       "      <td>1.0</td>\n",
       "      <td>121.0</td>\n",
       "      <td>1369</td>\n",
       "      <td>4</td>\n",
       "    </tr>\n",
       "  </tbody>\n",
       "</table>\n",
       "<p>5 rows × 143 columns</p>\n",
       "</div>"
      ],
      "text/plain": [
       "             Id      v2a1  hacdor  rooms  hacapo  v14a  refrig  v18q  v18q1  \\\n",
       "0  ID_279628684  190000.0       0      3       0     1       1     0    NaN   \n",
       "1  ID_f29eb3ddd  135000.0       0      4       0     1       1     1    1.0   \n",
       "2  ID_68de51c94       NaN       0      8       0     1       1     0    NaN   \n",
       "3  ID_d671db89c  180000.0       0      5       0     1       1     1    1.0   \n",
       "4  ID_d56d6f5f5  180000.0       0      5       0     1       1     1    1.0   \n",
       "\n",
       "   r4h1  ...  SQBescolari  SQBage  SQBhogar_total  SQBedjefe  SQBhogar_nin  \\\n",
       "0     0  ...          100    1849               1        100             0   \n",
       "1     0  ...          144    4489               1        144             0   \n",
       "2     0  ...          121    8464               1          0             0   \n",
       "3     0  ...           81     289              16        121             4   \n",
       "4     0  ...          121    1369              16        121             4   \n",
       "\n",
       "   SQBovercrowding  SQBdependency  SQBmeaned  agesq  Target  \n",
       "0         1.000000            0.0      100.0   1849       4  \n",
       "1         1.000000           64.0      144.0   4489       4  \n",
       "2         0.250000           64.0      121.0   8464       4  \n",
       "3         1.777778            1.0      121.0    289       4  \n",
       "4         1.777778            1.0      121.0   1369       4  \n",
       "\n",
       "[5 rows x 143 columns]"
      ]
     },
     "execution_count": 4,
     "metadata": {},
     "output_type": "execute_result"
    }
   ],
   "source": [
    "train.head()"
   ]
  },
  {
   "cell_type": "code",
   "execution_count": 5,
   "id": "310f9a7b",
   "metadata": {},
   "outputs": [
    {
     "data": {
      "text/html": [
       "<div>\n",
       "<style scoped>\n",
       "    .dataframe tbody tr th:only-of-type {\n",
       "        vertical-align: middle;\n",
       "    }\n",
       "\n",
       "    .dataframe tbody tr th {\n",
       "        vertical-align: top;\n",
       "    }\n",
       "\n",
       "    .dataframe thead th {\n",
       "        text-align: right;\n",
       "    }\n",
       "</style>\n",
       "<table border=\"1\" class=\"dataframe\">\n",
       "  <thead>\n",
       "    <tr style=\"text-align: right;\">\n",
       "      <th></th>\n",
       "      <th>v2a1</th>\n",
       "      <th>hacdor</th>\n",
       "      <th>rooms</th>\n",
       "      <th>hacapo</th>\n",
       "      <th>v14a</th>\n",
       "      <th>refrig</th>\n",
       "      <th>v18q</th>\n",
       "      <th>v18q1</th>\n",
       "      <th>r4h1</th>\n",
       "      <th>r4h2</th>\n",
       "      <th>...</th>\n",
       "      <th>SQBescolari</th>\n",
       "      <th>SQBage</th>\n",
       "      <th>SQBhogar_total</th>\n",
       "      <th>SQBedjefe</th>\n",
       "      <th>SQBhogar_nin</th>\n",
       "      <th>SQBovercrowding</th>\n",
       "      <th>SQBdependency</th>\n",
       "      <th>SQBmeaned</th>\n",
       "      <th>agesq</th>\n",
       "      <th>Target</th>\n",
       "    </tr>\n",
       "  </thead>\n",
       "  <tbody>\n",
       "    <tr>\n",
       "      <th>count</th>\n",
       "      <td>2.697000e+03</td>\n",
       "      <td>9557.000000</td>\n",
       "      <td>9557.000000</td>\n",
       "      <td>9557.000000</td>\n",
       "      <td>9557.000000</td>\n",
       "      <td>9557.000000</td>\n",
       "      <td>9557.000000</td>\n",
       "      <td>2215.000000</td>\n",
       "      <td>9557.000000</td>\n",
       "      <td>9557.000000</td>\n",
       "      <td>...</td>\n",
       "      <td>9557.000000</td>\n",
       "      <td>9557.000000</td>\n",
       "      <td>9557.000000</td>\n",
       "      <td>9557.000000</td>\n",
       "      <td>9557.000000</td>\n",
       "      <td>9557.000000</td>\n",
       "      <td>9557.000000</td>\n",
       "      <td>9552.000000</td>\n",
       "      <td>9557.000000</td>\n",
       "      <td>9557.000000</td>\n",
       "    </tr>\n",
       "    <tr>\n",
       "      <th>mean</th>\n",
       "      <td>1.652316e+05</td>\n",
       "      <td>0.038087</td>\n",
       "      <td>4.955530</td>\n",
       "      <td>0.023648</td>\n",
       "      <td>0.994768</td>\n",
       "      <td>0.957623</td>\n",
       "      <td>0.231767</td>\n",
       "      <td>1.404063</td>\n",
       "      <td>0.385895</td>\n",
       "      <td>1.559171</td>\n",
       "      <td>...</td>\n",
       "      <td>74.222769</td>\n",
       "      <td>1643.774302</td>\n",
       "      <td>19.132887</td>\n",
       "      <td>53.500262</td>\n",
       "      <td>3.844826</td>\n",
       "      <td>3.249485</td>\n",
       "      <td>3.900409</td>\n",
       "      <td>102.588867</td>\n",
       "      <td>1643.774302</td>\n",
       "      <td>3.302292</td>\n",
       "    </tr>\n",
       "    <tr>\n",
       "      <th>std</th>\n",
       "      <td>1.504571e+05</td>\n",
       "      <td>0.191417</td>\n",
       "      <td>1.468381</td>\n",
       "      <td>0.151957</td>\n",
       "      <td>0.072145</td>\n",
       "      <td>0.201459</td>\n",
       "      <td>0.421983</td>\n",
       "      <td>0.763131</td>\n",
       "      <td>0.680779</td>\n",
       "      <td>1.036574</td>\n",
       "      <td>...</td>\n",
       "      <td>76.777549</td>\n",
       "      <td>1741.197050</td>\n",
       "      <td>18.751395</td>\n",
       "      <td>78.445804</td>\n",
       "      <td>6.946296</td>\n",
       "      <td>4.129547</td>\n",
       "      <td>12.511831</td>\n",
       "      <td>93.516890</td>\n",
       "      <td>1741.197050</td>\n",
       "      <td>1.009565</td>\n",
       "    </tr>\n",
       "    <tr>\n",
       "      <th>min</th>\n",
       "      <td>0.000000e+00</td>\n",
       "      <td>0.000000</td>\n",
       "      <td>1.000000</td>\n",
       "      <td>0.000000</td>\n",
       "      <td>0.000000</td>\n",
       "      <td>0.000000</td>\n",
       "      <td>0.000000</td>\n",
       "      <td>1.000000</td>\n",
       "      <td>0.000000</td>\n",
       "      <td>0.000000</td>\n",
       "      <td>...</td>\n",
       "      <td>0.000000</td>\n",
       "      <td>0.000000</td>\n",
       "      <td>1.000000</td>\n",
       "      <td>0.000000</td>\n",
       "      <td>0.000000</td>\n",
       "      <td>0.040000</td>\n",
       "      <td>0.000000</td>\n",
       "      <td>0.000000</td>\n",
       "      <td>0.000000</td>\n",
       "      <td>1.000000</td>\n",
       "    </tr>\n",
       "    <tr>\n",
       "      <th>25%</th>\n",
       "      <td>8.000000e+04</td>\n",
       "      <td>0.000000</td>\n",
       "      <td>4.000000</td>\n",
       "      <td>0.000000</td>\n",
       "      <td>1.000000</td>\n",
       "      <td>1.000000</td>\n",
       "      <td>0.000000</td>\n",
       "      <td>1.000000</td>\n",
       "      <td>0.000000</td>\n",
       "      <td>1.000000</td>\n",
       "      <td>...</td>\n",
       "      <td>16.000000</td>\n",
       "      <td>289.000000</td>\n",
       "      <td>9.000000</td>\n",
       "      <td>0.000000</td>\n",
       "      <td>0.000000</td>\n",
       "      <td>1.000000</td>\n",
       "      <td>0.111111</td>\n",
       "      <td>36.000000</td>\n",
       "      <td>289.000000</td>\n",
       "      <td>3.000000</td>\n",
       "    </tr>\n",
       "    <tr>\n",
       "      <th>50%</th>\n",
       "      <td>1.300000e+05</td>\n",
       "      <td>0.000000</td>\n",
       "      <td>5.000000</td>\n",
       "      <td>0.000000</td>\n",
       "      <td>1.000000</td>\n",
       "      <td>1.000000</td>\n",
       "      <td>0.000000</td>\n",
       "      <td>1.000000</td>\n",
       "      <td>0.000000</td>\n",
       "      <td>1.000000</td>\n",
       "      <td>...</td>\n",
       "      <td>36.000000</td>\n",
       "      <td>961.000000</td>\n",
       "      <td>16.000000</td>\n",
       "      <td>36.000000</td>\n",
       "      <td>1.000000</td>\n",
       "      <td>2.250000</td>\n",
       "      <td>0.444444</td>\n",
       "      <td>81.000000</td>\n",
       "      <td>961.000000</td>\n",
       "      <td>4.000000</td>\n",
       "    </tr>\n",
       "    <tr>\n",
       "      <th>75%</th>\n",
       "      <td>2.000000e+05</td>\n",
       "      <td>0.000000</td>\n",
       "      <td>6.000000</td>\n",
       "      <td>0.000000</td>\n",
       "      <td>1.000000</td>\n",
       "      <td>1.000000</td>\n",
       "      <td>0.000000</td>\n",
       "      <td>2.000000</td>\n",
       "      <td>1.000000</td>\n",
       "      <td>2.000000</td>\n",
       "      <td>...</td>\n",
       "      <td>121.000000</td>\n",
       "      <td>2601.000000</td>\n",
       "      <td>25.000000</td>\n",
       "      <td>81.000000</td>\n",
       "      <td>4.000000</td>\n",
       "      <td>4.000000</td>\n",
       "      <td>1.777778</td>\n",
       "      <td>134.560010</td>\n",
       "      <td>2601.000000</td>\n",
       "      <td>4.000000</td>\n",
       "    </tr>\n",
       "    <tr>\n",
       "      <th>max</th>\n",
       "      <td>2.353477e+06</td>\n",
       "      <td>1.000000</td>\n",
       "      <td>11.000000</td>\n",
       "      <td>1.000000</td>\n",
       "      <td>1.000000</td>\n",
       "      <td>1.000000</td>\n",
       "      <td>1.000000</td>\n",
       "      <td>6.000000</td>\n",
       "      <td>5.000000</td>\n",
       "      <td>8.000000</td>\n",
       "      <td>...</td>\n",
       "      <td>441.000000</td>\n",
       "      <td>9409.000000</td>\n",
       "      <td>169.000000</td>\n",
       "      <td>441.000000</td>\n",
       "      <td>81.000000</td>\n",
       "      <td>36.000000</td>\n",
       "      <td>64.000000</td>\n",
       "      <td>1369.000000</td>\n",
       "      <td>9409.000000</td>\n",
       "      <td>4.000000</td>\n",
       "    </tr>\n",
       "  </tbody>\n",
       "</table>\n",
       "<p>8 rows × 138 columns</p>\n",
       "</div>"
      ],
      "text/plain": [
       "               v2a1       hacdor        rooms       hacapo         v14a  \\\n",
       "count  2.697000e+03  9557.000000  9557.000000  9557.000000  9557.000000   \n",
       "mean   1.652316e+05     0.038087     4.955530     0.023648     0.994768   \n",
       "std    1.504571e+05     0.191417     1.468381     0.151957     0.072145   \n",
       "min    0.000000e+00     0.000000     1.000000     0.000000     0.000000   \n",
       "25%    8.000000e+04     0.000000     4.000000     0.000000     1.000000   \n",
       "50%    1.300000e+05     0.000000     5.000000     0.000000     1.000000   \n",
       "75%    2.000000e+05     0.000000     6.000000     0.000000     1.000000   \n",
       "max    2.353477e+06     1.000000    11.000000     1.000000     1.000000   \n",
       "\n",
       "            refrig         v18q        v18q1         r4h1         r4h2  ...  \\\n",
       "count  9557.000000  9557.000000  2215.000000  9557.000000  9557.000000  ...   \n",
       "mean      0.957623     0.231767     1.404063     0.385895     1.559171  ...   \n",
       "std       0.201459     0.421983     0.763131     0.680779     1.036574  ...   \n",
       "min       0.000000     0.000000     1.000000     0.000000     0.000000  ...   \n",
       "25%       1.000000     0.000000     1.000000     0.000000     1.000000  ...   \n",
       "50%       1.000000     0.000000     1.000000     0.000000     1.000000  ...   \n",
       "75%       1.000000     0.000000     2.000000     1.000000     2.000000  ...   \n",
       "max       1.000000     1.000000     6.000000     5.000000     8.000000  ...   \n",
       "\n",
       "       SQBescolari       SQBage  SQBhogar_total    SQBedjefe  SQBhogar_nin  \\\n",
       "count  9557.000000  9557.000000     9557.000000  9557.000000   9557.000000   \n",
       "mean     74.222769  1643.774302       19.132887    53.500262      3.844826   \n",
       "std      76.777549  1741.197050       18.751395    78.445804      6.946296   \n",
       "min       0.000000     0.000000        1.000000     0.000000      0.000000   \n",
       "25%      16.000000   289.000000        9.000000     0.000000      0.000000   \n",
       "50%      36.000000   961.000000       16.000000    36.000000      1.000000   \n",
       "75%     121.000000  2601.000000       25.000000    81.000000      4.000000   \n",
       "max     441.000000  9409.000000      169.000000   441.000000     81.000000   \n",
       "\n",
       "       SQBovercrowding  SQBdependency    SQBmeaned        agesq       Target  \n",
       "count      9557.000000    9557.000000  9552.000000  9557.000000  9557.000000  \n",
       "mean          3.249485       3.900409   102.588867  1643.774302     3.302292  \n",
       "std           4.129547      12.511831    93.516890  1741.197050     1.009565  \n",
       "min           0.040000       0.000000     0.000000     0.000000     1.000000  \n",
       "25%           1.000000       0.111111    36.000000   289.000000     3.000000  \n",
       "50%           2.250000       0.444444    81.000000   961.000000     4.000000  \n",
       "75%           4.000000       1.777778   134.560010  2601.000000     4.000000  \n",
       "max          36.000000      64.000000  1369.000000  9409.000000     4.000000  \n",
       "\n",
       "[8 rows x 138 columns]"
      ]
     },
     "execution_count": 5,
     "metadata": {},
     "output_type": "execute_result"
    }
   ],
   "source": [
    "train.describe()"
   ]
  },
  {
   "cell_type": "code",
   "execution_count": 6,
   "id": "61478bcb",
   "metadata": {},
   "outputs": [
    {
     "data": {
      "text/plain": [
       "<bound method DataFrame.info of                 Id      v2a1  hacdor  rooms  hacapo  v14a  refrig  v18q  \\\n",
       "0     ID_279628684  190000.0       0      3       0     1       1     0   \n",
       "1     ID_f29eb3ddd  135000.0       0      4       0     1       1     1   \n",
       "2     ID_68de51c94       NaN       0      8       0     1       1     0   \n",
       "3     ID_d671db89c  180000.0       0      5       0     1       1     1   \n",
       "4     ID_d56d6f5f5  180000.0       0      5       0     1       1     1   \n",
       "...            ...       ...     ...    ...     ...   ...     ...   ...   \n",
       "9552  ID_d45ae367d   80000.0       0      6       0     1       1     0   \n",
       "9553  ID_c94744e07   80000.0       0      6       0     1       1     0   \n",
       "9554  ID_85fc658f8   80000.0       0      6       0     1       1     0   \n",
       "9555  ID_ced540c61   80000.0       0      6       0     1       1     0   \n",
       "9556  ID_a38c64491   80000.0       0      6       0     1       1     0   \n",
       "\n",
       "      v18q1  r4h1  ...  SQBescolari  SQBage  SQBhogar_total  SQBedjefe  \\\n",
       "0       NaN     0  ...          100    1849               1        100   \n",
       "1       1.0     0  ...          144    4489               1        144   \n",
       "2       NaN     0  ...          121    8464               1          0   \n",
       "3       1.0     0  ...           81     289              16        121   \n",
       "4       1.0     0  ...          121    1369              16        121   \n",
       "...     ...   ...  ...          ...     ...             ...        ...   \n",
       "9552    NaN     0  ...           81    2116              25         81   \n",
       "9553    NaN     0  ...            0       4              25         81   \n",
       "9554    NaN     0  ...           25    2500              25         81   \n",
       "9555    NaN     0  ...          121     676              25         81   \n",
       "9556    NaN     0  ...           64     441              25         81   \n",
       "\n",
       "      SQBhogar_nin  SQBovercrowding  SQBdependency  SQBmeaned  agesq  Target  \n",
       "0                0         1.000000         0.0000   100.0000   1849       4  \n",
       "1                0         1.000000        64.0000   144.0000   4489       4  \n",
       "2                0         0.250000        64.0000   121.0000   8464       4  \n",
       "3                4         1.777778         1.0000   121.0000    289       4  \n",
       "4                4         1.777778         1.0000   121.0000   1369       4  \n",
       "...            ...              ...            ...        ...    ...     ...  \n",
       "9552             1         1.562500         0.0625    68.0625   2116       2  \n",
       "9553             1         1.562500         0.0625    68.0625      4       2  \n",
       "9554             1         1.562500         0.0625    68.0625   2500       2  \n",
       "9555             1         1.562500         0.0625    68.0625    676       2  \n",
       "9556             1         1.562500         0.0625    68.0625    441       2  \n",
       "\n",
       "[9557 rows x 143 columns]>"
      ]
     },
     "execution_count": 6,
     "metadata": {},
     "output_type": "execute_result"
    }
   ],
   "source": [
    "train.info"
   ]
  },
  {
   "cell_type": "markdown",
   "id": "bcffd4bd",
   "metadata": {},
   "source": [
    "### Qn 2 Understand the type of data"
   ]
  },
  {
   "cell_type": "code",
   "execution_count": 7,
   "id": "f36e063e",
   "metadata": {},
   "outputs": [
    {
     "name": "stdout",
     "output_type": "stream",
     "text": [
      "<class 'pandas.core.frame.DataFrame'>\n",
      "RangeIndex: 9557 entries, 0 to 9556\n",
      "Data columns (total 143 columns):\n",
      " #    Column           Non-Null Count  Dtype  \n",
      "---   ------           --------------  -----  \n",
      " 0    Id               9557 non-null   object \n",
      " 1    v2a1             2697 non-null   float64\n",
      " 2    hacdor           9557 non-null   int64  \n",
      " 3    rooms            9557 non-null   int64  \n",
      " 4    hacapo           9557 non-null   int64  \n",
      " 5    v14a             9557 non-null   int64  \n",
      " 6    refrig           9557 non-null   int64  \n",
      " 7    v18q             9557 non-null   int64  \n",
      " 8    v18q1            2215 non-null   float64\n",
      " 9    r4h1             9557 non-null   int64  \n",
      " 10   r4h2             9557 non-null   int64  \n",
      " 11   r4h3             9557 non-null   int64  \n",
      " 12   r4m1             9557 non-null   int64  \n",
      " 13   r4m2             9557 non-null   int64  \n",
      " 14   r4m3             9557 non-null   int64  \n",
      " 15   r4t1             9557 non-null   int64  \n",
      " 16   r4t2             9557 non-null   int64  \n",
      " 17   r4t3             9557 non-null   int64  \n",
      " 18   tamhog           9557 non-null   int64  \n",
      " 19   tamviv           9557 non-null   int64  \n",
      " 20   escolari         9557 non-null   int64  \n",
      " 21   rez_esc          1629 non-null   float64\n",
      " 22   hhsize           9557 non-null   int64  \n",
      " 23   paredblolad      9557 non-null   int64  \n",
      " 24   paredzocalo      9557 non-null   int64  \n",
      " 25   paredpreb        9557 non-null   int64  \n",
      " 26   pareddes         9557 non-null   int64  \n",
      " 27   paredmad         9557 non-null   int64  \n",
      " 28   paredzinc        9557 non-null   int64  \n",
      " 29   paredfibras      9557 non-null   int64  \n",
      " 30   paredother       9557 non-null   int64  \n",
      " 31   pisomoscer       9557 non-null   int64  \n",
      " 32   pisocemento      9557 non-null   int64  \n",
      " 33   pisoother        9557 non-null   int64  \n",
      " 34   pisonatur        9557 non-null   int64  \n",
      " 35   pisonotiene      9557 non-null   int64  \n",
      " 36   pisomadera       9557 non-null   int64  \n",
      " 37   techozinc        9557 non-null   int64  \n",
      " 38   techoentrepiso   9557 non-null   int64  \n",
      " 39   techocane        9557 non-null   int64  \n",
      " 40   techootro        9557 non-null   int64  \n",
      " 41   cielorazo        9557 non-null   int64  \n",
      " 42   abastaguadentro  9557 non-null   int64  \n",
      " 43   abastaguafuera   9557 non-null   int64  \n",
      " 44   abastaguano      9557 non-null   int64  \n",
      " 45   public           9557 non-null   int64  \n",
      " 46   planpri          9557 non-null   int64  \n",
      " 47   noelec           9557 non-null   int64  \n",
      " 48   coopele          9557 non-null   int64  \n",
      " 49   sanitario1       9557 non-null   int64  \n",
      " 50   sanitario2       9557 non-null   int64  \n",
      " 51   sanitario3       9557 non-null   int64  \n",
      " 52   sanitario5       9557 non-null   int64  \n",
      " 53   sanitario6       9557 non-null   int64  \n",
      " 54   energcocinar1    9557 non-null   int64  \n",
      " 55   energcocinar2    9557 non-null   int64  \n",
      " 56   energcocinar3    9557 non-null   int64  \n",
      " 57   energcocinar4    9557 non-null   int64  \n",
      " 58   elimbasu1        9557 non-null   int64  \n",
      " 59   elimbasu2        9557 non-null   int64  \n",
      " 60   elimbasu3        9557 non-null   int64  \n",
      " 61   elimbasu4        9557 non-null   int64  \n",
      " 62   elimbasu5        9557 non-null   int64  \n",
      " 63   elimbasu6        9557 non-null   int64  \n",
      " 64   epared1          9557 non-null   int64  \n",
      " 65   epared2          9557 non-null   int64  \n",
      " 66   epared3          9557 non-null   int64  \n",
      " 67   etecho1          9557 non-null   int64  \n",
      " 68   etecho2          9557 non-null   int64  \n",
      " 69   etecho3          9557 non-null   int64  \n",
      " 70   eviv1            9557 non-null   int64  \n",
      " 71   eviv2            9557 non-null   int64  \n",
      " 72   eviv3            9557 non-null   int64  \n",
      " 73   dis              9557 non-null   int64  \n",
      " 74   male             9557 non-null   int64  \n",
      " 75   female           9557 non-null   int64  \n",
      " 76   estadocivil1     9557 non-null   int64  \n",
      " 77   estadocivil2     9557 non-null   int64  \n",
      " 78   estadocivil3     9557 non-null   int64  \n",
      " 79   estadocivil4     9557 non-null   int64  \n",
      " 80   estadocivil5     9557 non-null   int64  \n",
      " 81   estadocivil6     9557 non-null   int64  \n",
      " 82   estadocivil7     9557 non-null   int64  \n",
      " 83   parentesco1      9557 non-null   int64  \n",
      " 84   parentesco2      9557 non-null   int64  \n",
      " 85   parentesco3      9557 non-null   int64  \n",
      " 86   parentesco4      9557 non-null   int64  \n",
      " 87   parentesco5      9557 non-null   int64  \n",
      " 88   parentesco6      9557 non-null   int64  \n",
      " 89   parentesco7      9557 non-null   int64  \n",
      " 90   parentesco8      9557 non-null   int64  \n",
      " 91   parentesco9      9557 non-null   int64  \n",
      " 92   parentesco10     9557 non-null   int64  \n",
      " 93   parentesco11     9557 non-null   int64  \n",
      " 94   parentesco12     9557 non-null   int64  \n",
      " 95   idhogar          9557 non-null   object \n",
      " 96   hogar_nin        9557 non-null   int64  \n",
      " 97   hogar_adul       9557 non-null   int64  \n",
      " 98   hogar_mayor      9557 non-null   int64  \n",
      " 99   hogar_total      9557 non-null   int64  \n",
      " 100  dependency       9557 non-null   object \n",
      " 101  edjefe           9557 non-null   object \n",
      " 102  edjefa           9557 non-null   object \n",
      " 103  meaneduc         9552 non-null   float64\n",
      " 104  instlevel1       9557 non-null   int64  \n",
      " 105  instlevel2       9557 non-null   int64  \n",
      " 106  instlevel3       9557 non-null   int64  \n",
      " 107  instlevel4       9557 non-null   int64  \n",
      " 108  instlevel5       9557 non-null   int64  \n",
      " 109  instlevel6       9557 non-null   int64  \n",
      " 110  instlevel7       9557 non-null   int64  \n",
      " 111  instlevel8       9557 non-null   int64  \n",
      " 112  instlevel9       9557 non-null   int64  \n",
      " 113  bedrooms         9557 non-null   int64  \n",
      " 114  overcrowding     9557 non-null   float64\n",
      " 115  tipovivi1        9557 non-null   int64  \n",
      " 116  tipovivi2        9557 non-null   int64  \n",
      " 117  tipovivi3        9557 non-null   int64  \n",
      " 118  tipovivi4        9557 non-null   int64  \n",
      " 119  tipovivi5        9557 non-null   int64  \n",
      " 120  computer         9557 non-null   int64  \n",
      " 121  television       9557 non-null   int64  \n",
      " 122  mobilephone      9557 non-null   int64  \n",
      " 123  qmobilephone     9557 non-null   int64  \n",
      " 124  lugar1           9557 non-null   int64  \n",
      " 125  lugar2           9557 non-null   int64  \n",
      " 126  lugar3           9557 non-null   int64  \n",
      " 127  lugar4           9557 non-null   int64  \n",
      " 128  lugar5           9557 non-null   int64  \n",
      " 129  lugar6           9557 non-null   int64  \n",
      " 130  area1            9557 non-null   int64  \n",
      " 131  area2            9557 non-null   int64  \n",
      " 132  age              9557 non-null   int64  \n",
      " 133  SQBescolari      9557 non-null   int64  \n",
      " 134  SQBage           9557 non-null   int64  \n",
      " 135  SQBhogar_total   9557 non-null   int64  \n",
      " 136  SQBedjefe        9557 non-null   int64  \n",
      " 137  SQBhogar_nin     9557 non-null   int64  \n",
      " 138  SQBovercrowding  9557 non-null   float64\n",
      " 139  SQBdependency    9557 non-null   float64\n",
      " 140  SQBmeaned        9552 non-null   float64\n",
      " 141  agesq            9557 non-null   int64  \n",
      " 142  Target           9557 non-null   int64  \n",
      "dtypes: float64(8), int64(130), object(5)\n",
      "memory usage: 10.4+ MB\n"
     ]
    }
   ],
   "source": [
    "train.info(verbose=True, show_counts=True)"
   ]
  },
  {
   "cell_type": "code",
   "execution_count": 8,
   "id": "1ac87831",
   "metadata": {},
   "outputs": [
    {
     "data": {
      "text/plain": [
       "Id                 9557\n",
       "v2a1                157\n",
       "hacdor                2\n",
       "rooms                11\n",
       "hacapo                2\n",
       "                   ... \n",
       "SQBovercrowding      38\n",
       "SQBdependency        31\n",
       "SQBmeaned           155\n",
       "agesq                97\n",
       "Target                4\n",
       "Length: 143, dtype: int64"
      ]
     },
     "execution_count": 8,
     "metadata": {},
     "output_type": "execute_result"
    }
   ],
   "source": [
    "train.nunique()"
   ]
  },
  {
   "cell_type": "code",
   "execution_count": 9,
   "id": "c4e8e557",
   "metadata": {},
   "outputs": [
    {
     "name": "stdout",
     "output_type": "stream",
     "text": [
      "int64      130\n",
      "float64      8\n",
      "object       5\n",
      "Name: count, dtype: int64\n"
     ]
    }
   ],
   "source": [
    "print(train.dtypes.value_counts())"
   ]
  },
  {
   "cell_type": "markdown",
   "id": "49223e42",
   "metadata": {},
   "source": [
    "### Qn 7 Count how many null values are existing in columns"
   ]
  },
  {
   "cell_type": "code",
   "execution_count": 10,
   "id": "7c04a1b6",
   "metadata": {},
   "outputs": [
    {
     "data": {
      "text/plain": [
       "Id                    0\n",
       "v2a1               6860\n",
       "hacdor                0\n",
       "rooms                 0\n",
       "hacapo                0\n",
       "                   ... \n",
       "SQBovercrowding       0\n",
       "SQBdependency         0\n",
       "SQBmeaned             5\n",
       "agesq                 0\n",
       "Target                0\n",
       "Length: 143, dtype: int64"
      ]
     },
     "execution_count": 10,
     "metadata": {},
     "output_type": "execute_result"
    }
   ],
   "source": [
    "train.isnull().sum()"
   ]
  },
  {
   "cell_type": "code",
   "execution_count": 11,
   "id": "be1ca79b",
   "metadata": {},
   "outputs": [
    {
     "data": {
      "text/plain": [
       "Id                  0.000000\n",
       "v2a1               71.779847\n",
       "hacdor              0.000000\n",
       "rooms               0.000000\n",
       "hacapo              0.000000\n",
       "                     ...    \n",
       "SQBovercrowding     0.000000\n",
       "SQBdependency       0.000000\n",
       "SQBmeaned           0.052318\n",
       "agesq               0.000000\n",
       "Target              0.000000\n",
       "Length: 143, dtype: float64"
      ]
     },
     "execution_count": 11,
     "metadata": {},
     "output_type": "execute_result"
    }
   ],
   "source": [
    "# % of Nulls\n",
    "\n",
    "(train.isnull().sum()/(len(train)))*100"
   ]
  },
  {
   "cell_type": "code",
   "execution_count": 12,
   "id": "374e64e9",
   "metadata": {},
   "outputs": [
    {
     "data": {
      "text/html": [
       "<div>\n",
       "<style scoped>\n",
       "    .dataframe tbody tr th:only-of-type {\n",
       "        vertical-align: middle;\n",
       "    }\n",
       "\n",
       "    .dataframe tbody tr th {\n",
       "        vertical-align: top;\n",
       "    }\n",
       "\n",
       "    .dataframe thead th {\n",
       "        text-align: right;\n",
       "    }\n",
       "</style>\n",
       "<table border=\"1\" class=\"dataframe\">\n",
       "  <thead>\n",
       "    <tr style=\"text-align: right;\">\n",
       "      <th></th>\n",
       "      <th>v2a1</th>\n",
       "      <th>hacdor</th>\n",
       "      <th>rooms</th>\n",
       "      <th>hacapo</th>\n",
       "      <th>v14a</th>\n",
       "      <th>refrig</th>\n",
       "      <th>v18q</th>\n",
       "      <th>v18q1</th>\n",
       "      <th>r4h1</th>\n",
       "      <th>r4h2</th>\n",
       "      <th>...</th>\n",
       "      <th>SQBescolari</th>\n",
       "      <th>SQBage</th>\n",
       "      <th>SQBhogar_total</th>\n",
       "      <th>SQBedjefe</th>\n",
       "      <th>SQBhogar_nin</th>\n",
       "      <th>SQBovercrowding</th>\n",
       "      <th>SQBdependency</th>\n",
       "      <th>SQBmeaned</th>\n",
       "      <th>agesq</th>\n",
       "      <th>Target</th>\n",
       "    </tr>\n",
       "  </thead>\n",
       "  <tbody>\n",
       "    <tr>\n",
       "      <th>count</th>\n",
       "      <td>2.697000e+03</td>\n",
       "      <td>9557.000000</td>\n",
       "      <td>9557.000000</td>\n",
       "      <td>9557.000000</td>\n",
       "      <td>9557.000000</td>\n",
       "      <td>9557.000000</td>\n",
       "      <td>9557.000000</td>\n",
       "      <td>2215.000000</td>\n",
       "      <td>9557.000000</td>\n",
       "      <td>9557.000000</td>\n",
       "      <td>...</td>\n",
       "      <td>9557.000000</td>\n",
       "      <td>9557.000000</td>\n",
       "      <td>9557.000000</td>\n",
       "      <td>9557.000000</td>\n",
       "      <td>9557.000000</td>\n",
       "      <td>9557.000000</td>\n",
       "      <td>9557.000000</td>\n",
       "      <td>9552.000000</td>\n",
       "      <td>9557.000000</td>\n",
       "      <td>9557.000000</td>\n",
       "    </tr>\n",
       "    <tr>\n",
       "      <th>mean</th>\n",
       "      <td>1.652316e+05</td>\n",
       "      <td>0.038087</td>\n",
       "      <td>4.955530</td>\n",
       "      <td>0.023648</td>\n",
       "      <td>0.994768</td>\n",
       "      <td>0.957623</td>\n",
       "      <td>0.231767</td>\n",
       "      <td>1.404063</td>\n",
       "      <td>0.385895</td>\n",
       "      <td>1.559171</td>\n",
       "      <td>...</td>\n",
       "      <td>74.222769</td>\n",
       "      <td>1643.774302</td>\n",
       "      <td>19.132887</td>\n",
       "      <td>53.500262</td>\n",
       "      <td>3.844826</td>\n",
       "      <td>3.249485</td>\n",
       "      <td>3.900409</td>\n",
       "      <td>102.588867</td>\n",
       "      <td>1643.774302</td>\n",
       "      <td>3.302292</td>\n",
       "    </tr>\n",
       "    <tr>\n",
       "      <th>std</th>\n",
       "      <td>1.504571e+05</td>\n",
       "      <td>0.191417</td>\n",
       "      <td>1.468381</td>\n",
       "      <td>0.151957</td>\n",
       "      <td>0.072145</td>\n",
       "      <td>0.201459</td>\n",
       "      <td>0.421983</td>\n",
       "      <td>0.763131</td>\n",
       "      <td>0.680779</td>\n",
       "      <td>1.036574</td>\n",
       "      <td>...</td>\n",
       "      <td>76.777549</td>\n",
       "      <td>1741.197050</td>\n",
       "      <td>18.751395</td>\n",
       "      <td>78.445804</td>\n",
       "      <td>6.946296</td>\n",
       "      <td>4.129547</td>\n",
       "      <td>12.511831</td>\n",
       "      <td>93.516890</td>\n",
       "      <td>1741.197050</td>\n",
       "      <td>1.009565</td>\n",
       "    </tr>\n",
       "    <tr>\n",
       "      <th>min</th>\n",
       "      <td>0.000000e+00</td>\n",
       "      <td>0.000000</td>\n",
       "      <td>1.000000</td>\n",
       "      <td>0.000000</td>\n",
       "      <td>0.000000</td>\n",
       "      <td>0.000000</td>\n",
       "      <td>0.000000</td>\n",
       "      <td>1.000000</td>\n",
       "      <td>0.000000</td>\n",
       "      <td>0.000000</td>\n",
       "      <td>...</td>\n",
       "      <td>0.000000</td>\n",
       "      <td>0.000000</td>\n",
       "      <td>1.000000</td>\n",
       "      <td>0.000000</td>\n",
       "      <td>0.000000</td>\n",
       "      <td>0.040000</td>\n",
       "      <td>0.000000</td>\n",
       "      <td>0.000000</td>\n",
       "      <td>0.000000</td>\n",
       "      <td>1.000000</td>\n",
       "    </tr>\n",
       "    <tr>\n",
       "      <th>25%</th>\n",
       "      <td>8.000000e+04</td>\n",
       "      <td>0.000000</td>\n",
       "      <td>4.000000</td>\n",
       "      <td>0.000000</td>\n",
       "      <td>1.000000</td>\n",
       "      <td>1.000000</td>\n",
       "      <td>0.000000</td>\n",
       "      <td>1.000000</td>\n",
       "      <td>0.000000</td>\n",
       "      <td>1.000000</td>\n",
       "      <td>...</td>\n",
       "      <td>16.000000</td>\n",
       "      <td>289.000000</td>\n",
       "      <td>9.000000</td>\n",
       "      <td>0.000000</td>\n",
       "      <td>0.000000</td>\n",
       "      <td>1.000000</td>\n",
       "      <td>0.111111</td>\n",
       "      <td>36.000000</td>\n",
       "      <td>289.000000</td>\n",
       "      <td>3.000000</td>\n",
       "    </tr>\n",
       "    <tr>\n",
       "      <th>50%</th>\n",
       "      <td>1.300000e+05</td>\n",
       "      <td>0.000000</td>\n",
       "      <td>5.000000</td>\n",
       "      <td>0.000000</td>\n",
       "      <td>1.000000</td>\n",
       "      <td>1.000000</td>\n",
       "      <td>0.000000</td>\n",
       "      <td>1.000000</td>\n",
       "      <td>0.000000</td>\n",
       "      <td>1.000000</td>\n",
       "      <td>...</td>\n",
       "      <td>36.000000</td>\n",
       "      <td>961.000000</td>\n",
       "      <td>16.000000</td>\n",
       "      <td>36.000000</td>\n",
       "      <td>1.000000</td>\n",
       "      <td>2.250000</td>\n",
       "      <td>0.444444</td>\n",
       "      <td>81.000000</td>\n",
       "      <td>961.000000</td>\n",
       "      <td>4.000000</td>\n",
       "    </tr>\n",
       "    <tr>\n",
       "      <th>75%</th>\n",
       "      <td>2.000000e+05</td>\n",
       "      <td>0.000000</td>\n",
       "      <td>6.000000</td>\n",
       "      <td>0.000000</td>\n",
       "      <td>1.000000</td>\n",
       "      <td>1.000000</td>\n",
       "      <td>0.000000</td>\n",
       "      <td>2.000000</td>\n",
       "      <td>1.000000</td>\n",
       "      <td>2.000000</td>\n",
       "      <td>...</td>\n",
       "      <td>121.000000</td>\n",
       "      <td>2601.000000</td>\n",
       "      <td>25.000000</td>\n",
       "      <td>81.000000</td>\n",
       "      <td>4.000000</td>\n",
       "      <td>4.000000</td>\n",
       "      <td>1.777778</td>\n",
       "      <td>134.560010</td>\n",
       "      <td>2601.000000</td>\n",
       "      <td>4.000000</td>\n",
       "    </tr>\n",
       "    <tr>\n",
       "      <th>max</th>\n",
       "      <td>2.353477e+06</td>\n",
       "      <td>1.000000</td>\n",
       "      <td>11.000000</td>\n",
       "      <td>1.000000</td>\n",
       "      <td>1.000000</td>\n",
       "      <td>1.000000</td>\n",
       "      <td>1.000000</td>\n",
       "      <td>6.000000</td>\n",
       "      <td>5.000000</td>\n",
       "      <td>8.000000</td>\n",
       "      <td>...</td>\n",
       "      <td>441.000000</td>\n",
       "      <td>9409.000000</td>\n",
       "      <td>169.000000</td>\n",
       "      <td>441.000000</td>\n",
       "      <td>81.000000</td>\n",
       "      <td>36.000000</td>\n",
       "      <td>64.000000</td>\n",
       "      <td>1369.000000</td>\n",
       "      <td>9409.000000</td>\n",
       "      <td>4.000000</td>\n",
       "    </tr>\n",
       "  </tbody>\n",
       "</table>\n",
       "<p>8 rows × 138 columns</p>\n",
       "</div>"
      ],
      "text/plain": [
       "               v2a1       hacdor        rooms       hacapo         v14a  \\\n",
       "count  2.697000e+03  9557.000000  9557.000000  9557.000000  9557.000000   \n",
       "mean   1.652316e+05     0.038087     4.955530     0.023648     0.994768   \n",
       "std    1.504571e+05     0.191417     1.468381     0.151957     0.072145   \n",
       "min    0.000000e+00     0.000000     1.000000     0.000000     0.000000   \n",
       "25%    8.000000e+04     0.000000     4.000000     0.000000     1.000000   \n",
       "50%    1.300000e+05     0.000000     5.000000     0.000000     1.000000   \n",
       "75%    2.000000e+05     0.000000     6.000000     0.000000     1.000000   \n",
       "max    2.353477e+06     1.000000    11.000000     1.000000     1.000000   \n",
       "\n",
       "            refrig         v18q        v18q1         r4h1         r4h2  ...  \\\n",
       "count  9557.000000  9557.000000  2215.000000  9557.000000  9557.000000  ...   \n",
       "mean      0.957623     0.231767     1.404063     0.385895     1.559171  ...   \n",
       "std       0.201459     0.421983     0.763131     0.680779     1.036574  ...   \n",
       "min       0.000000     0.000000     1.000000     0.000000     0.000000  ...   \n",
       "25%       1.000000     0.000000     1.000000     0.000000     1.000000  ...   \n",
       "50%       1.000000     0.000000     1.000000     0.000000     1.000000  ...   \n",
       "75%       1.000000     0.000000     2.000000     1.000000     2.000000  ...   \n",
       "max       1.000000     1.000000     6.000000     5.000000     8.000000  ...   \n",
       "\n",
       "       SQBescolari       SQBage  SQBhogar_total    SQBedjefe  SQBhogar_nin  \\\n",
       "count  9557.000000  9557.000000     9557.000000  9557.000000   9557.000000   \n",
       "mean     74.222769  1643.774302       19.132887    53.500262      3.844826   \n",
       "std      76.777549  1741.197050       18.751395    78.445804      6.946296   \n",
       "min       0.000000     0.000000        1.000000     0.000000      0.000000   \n",
       "25%      16.000000   289.000000        9.000000     0.000000      0.000000   \n",
       "50%      36.000000   961.000000       16.000000    36.000000      1.000000   \n",
       "75%     121.000000  2601.000000       25.000000    81.000000      4.000000   \n",
       "max     441.000000  9409.000000      169.000000   441.000000     81.000000   \n",
       "\n",
       "       SQBovercrowding  SQBdependency    SQBmeaned        agesq       Target  \n",
       "count      9557.000000    9557.000000  9552.000000  9557.000000  9557.000000  \n",
       "mean          3.249485       3.900409   102.588867  1643.774302     3.302292  \n",
       "std           4.129547      12.511831    93.516890  1741.197050     1.009565  \n",
       "min           0.040000       0.000000     0.000000     0.000000     1.000000  \n",
       "25%           1.000000       0.111111    36.000000   289.000000     3.000000  \n",
       "50%           2.250000       0.444444    81.000000   961.000000     4.000000  \n",
       "75%           4.000000       1.777778   134.560010  2601.000000     4.000000  \n",
       "max          36.000000      64.000000  1369.000000  9409.000000     4.000000  \n",
       "\n",
       "[8 rows x 138 columns]"
      ]
     },
     "execution_count": 12,
     "metadata": {},
     "output_type": "execute_result"
    }
   ],
   "source": [
    "train.describe()"
   ]
  },
  {
   "cell_type": "markdown",
   "id": "07ee7e03",
   "metadata": {},
   "source": [
    "### Qn 1 Identify the output variable and Qn 3 check for Bias"
   ]
  },
  {
   "cell_type": "code",
   "execution_count": 13,
   "id": "ed91fb7f",
   "metadata": {},
   "outputs": [
    {
     "name": "stdout",
     "output_type": "stream",
     "text": [
      "Our Target variable is Target\n"
     ]
    }
   ],
   "source": [
    "for i in train.columns:\n",
    "    if i not in test.columns:\n",
    "        print(\"Our Target variable is {}\".format(i))"
   ]
  },
  {
   "cell_type": "code",
   "execution_count": 14,
   "id": "2912bc9d",
   "metadata": {},
   "outputs": [
    {
     "data": {
      "text/plain": [
       "<Axes: xlabel='Target', ylabel='Count'>"
      ]
     },
     "execution_count": 14,
     "metadata": {},
     "output_type": "execute_result"
    },
    {
     "data": {
      "image/png": "[encoded data removed]",
      "text/plain": [
       "<Figure size 640x480 with 1 Axes>"
      ]
     },
     "metadata": {},
     "output_type": "display_data"
    }
   ],
   "source": [
    "sns.histplot(train['Target'])"
   ]
  },
  {
   "cell_type": "code",
   "execution_count": 15,
   "id": "328f982c",
   "metadata": {},
   "outputs": [
    {
     "data": {
      "text/plain": [
       "Target\n",
       "4    5996\n",
       "2    1597\n",
       "3    1209\n",
       "1     755\n",
       "Name: count, dtype: int64"
      ]
     },
     "execution_count": 15,
     "metadata": {},
     "output_type": "execute_result"
    }
   ],
   "source": [
    "train['Target'].value_counts()"
   ]
  },
  {
   "cell_type": "code",
   "execution_count": 16,
   "id": "33dcd4fa",
   "metadata": {},
   "outputs": [
    {
     "data": {
      "text/plain": [
       "0"
      ]
     },
     "execution_count": 16,
     "metadata": {},
     "output_type": "execute_result"
    }
   ],
   "source": [
    "train['Target'].isnull().sum()"
   ]
  },
  {
   "cell_type": "markdown",
   "id": "be378858",
   "metadata": {},
   "source": [
    "### Qn 8 Remove null value rows of the target variable - Target Variable has no Null Values"
   ]
  },
  {
   "cell_type": "code",
   "execution_count": 17,
   "id": "0aaf96d8",
   "metadata": {},
   "outputs": [
    {
     "data": {
      "text/html": [
       "<div>\n",
       "<style scoped>\n",
       "    .dataframe tbody tr th:only-of-type {\n",
       "        vertical-align: middle;\n",
       "    }\n",
       "\n",
       "    .dataframe tbody tr th {\n",
       "        vertical-align: top;\n",
       "    }\n",
       "\n",
       "    .dataframe thead th {\n",
       "        text-align: right;\n",
       "    }\n",
       "</style>\n",
       "<table border=\"1\" class=\"dataframe\">\n",
       "  <thead>\n",
       "    <tr style=\"text-align: right;\">\n",
       "      <th></th>\n",
       "      <th>count</th>\n",
       "      <th>unique</th>\n",
       "      <th>top</th>\n",
       "      <th>freq</th>\n",
       "    </tr>\n",
       "  </thead>\n",
       "  <tbody>\n",
       "    <tr>\n",
       "      <th>Id</th>\n",
       "      <td>9557</td>\n",
       "      <td>9557</td>\n",
       "      <td>ID_279628684</td>\n",
       "      <td>1</td>\n",
       "    </tr>\n",
       "    <tr>\n",
       "      <th>idhogar</th>\n",
       "      <td>9557</td>\n",
       "      <td>2988</td>\n",
       "      <td>fd8a6d014</td>\n",
       "      <td>13</td>\n",
       "    </tr>\n",
       "    <tr>\n",
       "      <th>dependency</th>\n",
       "      <td>9557</td>\n",
       "      <td>31</td>\n",
       "      <td>yes</td>\n",
       "      <td>2192</td>\n",
       "    </tr>\n",
       "    <tr>\n",
       "      <th>edjefe</th>\n",
       "      <td>9557</td>\n",
       "      <td>22</td>\n",
       "      <td>no</td>\n",
       "      <td>3762</td>\n",
       "    </tr>\n",
       "    <tr>\n",
       "      <th>edjefa</th>\n",
       "      <td>9557</td>\n",
       "      <td>22</td>\n",
       "      <td>no</td>\n",
       "      <td>6230</td>\n",
       "    </tr>\n",
       "  </tbody>\n",
       "</table>\n",
       "</div>"
      ],
      "text/plain": [
       "           count unique           top  freq\n",
       "Id          9557   9557  ID_279628684     1\n",
       "idhogar     9557   2988     fd8a6d014    13\n",
       "dependency  9557     31           yes  2192\n",
       "edjefe      9557     22            no  3762\n",
       "edjefa      9557     22            no  6230"
      ]
     },
     "execution_count": 17,
     "metadata": {},
     "output_type": "execute_result"
    }
   ],
   "source": [
    "train.describe(include = \"O\").T"
   ]
  },
  {
   "cell_type": "code",
   "execution_count": 18,
   "id": "badc22e8",
   "metadata": {},
   "outputs": [
    {
     "data": {
      "text/html": [
       "<div>\n",
       "<style scoped>\n",
       "    .dataframe tbody tr th:only-of-type {\n",
       "        vertical-align: middle;\n",
       "    }\n",
       "\n",
       "    .dataframe tbody tr th {\n",
       "        vertical-align: top;\n",
       "    }\n",
       "\n",
       "    .dataframe thead th {\n",
       "        text-align: right;\n",
       "    }\n",
       "</style>\n",
       "<table border=\"1\" class=\"dataframe\">\n",
       "  <thead>\n",
       "    <tr style=\"text-align: right;\">\n",
       "      <th></th>\n",
       "      <th>count</th>\n",
       "      <th>mean</th>\n",
       "      <th>std</th>\n",
       "      <th>min</th>\n",
       "      <th>0%</th>\n",
       "      <th>10%</th>\n",
       "      <th>20%</th>\n",
       "      <th>30%</th>\n",
       "      <th>40%</th>\n",
       "      <th>50%</th>\n",
       "      <th>60%</th>\n",
       "      <th>70%</th>\n",
       "      <th>80%</th>\n",
       "      <th>90%</th>\n",
       "      <th>100%</th>\n",
       "      <th>max</th>\n",
       "    </tr>\n",
       "  </thead>\n",
       "  <tbody>\n",
       "    <tr>\n",
       "      <th>v2a1</th>\n",
       "      <td>2697.0</td>\n",
       "      <td>165231.606971</td>\n",
       "      <td>150457.133301</td>\n",
       "      <td>0.00</td>\n",
       "      <td>0.00</td>\n",
       "      <td>40000.000000</td>\n",
       "      <td>70000.0000</td>\n",
       "      <td>90000.000000</td>\n",
       "      <td>102000.000000</td>\n",
       "      <td>130000.000000</td>\n",
       "      <td>150000.00</td>\n",
       "      <td>180000.0000</td>\n",
       "      <td>220000.00000</td>\n",
       "      <td>320000.00</td>\n",
       "      <td>2353477.0</td>\n",
       "      <td>2353477.0</td>\n",
       "    </tr>\n",
       "    <tr>\n",
       "      <th>hacdor</th>\n",
       "      <td>9557.0</td>\n",
       "      <td>0.038087</td>\n",
       "      <td>0.191417</td>\n",
       "      <td>0.00</td>\n",
       "      <td>0.00</td>\n",
       "      <td>0.000000</td>\n",
       "      <td>0.0000</td>\n",
       "      <td>0.000000</td>\n",
       "      <td>0.000000</td>\n",
       "      <td>0.000000</td>\n",
       "      <td>0.00</td>\n",
       "      <td>0.0000</td>\n",
       "      <td>0.00000</td>\n",
       "      <td>0.00</td>\n",
       "      <td>1.0</td>\n",
       "      <td>1.0</td>\n",
       "    </tr>\n",
       "    <tr>\n",
       "      <th>rooms</th>\n",
       "      <td>9557.0</td>\n",
       "      <td>4.955530</td>\n",
       "      <td>1.468381</td>\n",
       "      <td>1.00</td>\n",
       "      <td>1.00</td>\n",
       "      <td>3.000000</td>\n",
       "      <td>4.0000</td>\n",
       "      <td>4.000000</td>\n",
       "      <td>5.000000</td>\n",
       "      <td>5.000000</td>\n",
       "      <td>5.00</td>\n",
       "      <td>5.0000</td>\n",
       "      <td>6.00000</td>\n",
       "      <td>7.00</td>\n",
       "      <td>11.0</td>\n",
       "      <td>11.0</td>\n",
       "    </tr>\n",
       "    <tr>\n",
       "      <th>hacapo</th>\n",
       "      <td>9557.0</td>\n",
       "      <td>0.023648</td>\n",
       "      <td>0.151957</td>\n",
       "      <td>0.00</td>\n",
       "      <td>0.00</td>\n",
       "      <td>0.000000</td>\n",
       "      <td>0.0000</td>\n",
       "      <td>0.000000</td>\n",
       "      <td>0.000000</td>\n",
       "      <td>0.000000</td>\n",
       "      <td>0.00</td>\n",
       "      <td>0.0000</td>\n",
       "      <td>0.00000</td>\n",
       "      <td>0.00</td>\n",
       "      <td>1.0</td>\n",
       "      <td>1.0</td>\n",
       "    </tr>\n",
       "    <tr>\n",
       "      <th>v14a</th>\n",
       "      <td>9557.0</td>\n",
       "      <td>0.994768</td>\n",
       "      <td>0.072145</td>\n",
       "      <td>0.00</td>\n",
       "      <td>0.00</td>\n",
       "      <td>1.000000</td>\n",
       "      <td>1.0000</td>\n",
       "      <td>1.000000</td>\n",
       "      <td>1.000000</td>\n",
       "      <td>1.000000</td>\n",
       "      <td>1.00</td>\n",
       "      <td>1.0000</td>\n",
       "      <td>1.00000</td>\n",
       "      <td>1.00</td>\n",
       "      <td>1.0</td>\n",
       "      <td>1.0</td>\n",
       "    </tr>\n",
       "    <tr>\n",
       "      <th>...</th>\n",
       "      <td>...</td>\n",
       "      <td>...</td>\n",
       "      <td>...</td>\n",
       "      <td>...</td>\n",
       "      <td>...</td>\n",
       "      <td>...</td>\n",
       "      <td>...</td>\n",
       "      <td>...</td>\n",
       "      <td>...</td>\n",
       "      <td>...</td>\n",
       "      <td>...</td>\n",
       "      <td>...</td>\n",
       "      <td>...</td>\n",
       "      <td>...</td>\n",
       "      <td>...</td>\n",
       "      <td>...</td>\n",
       "    </tr>\n",
       "    <tr>\n",
       "      <th>SQBovercrowding</th>\n",
       "      <td>9557.0</td>\n",
       "      <td>3.249485</td>\n",
       "      <td>4.129547</td>\n",
       "      <td>0.04</td>\n",
       "      <td>0.04</td>\n",
       "      <td>0.694444</td>\n",
       "      <td>1.0000</td>\n",
       "      <td>1.000000</td>\n",
       "      <td>1.777778</td>\n",
       "      <td>2.250000</td>\n",
       "      <td>2.25</td>\n",
       "      <td>3.0625</td>\n",
       "      <td>4.00000</td>\n",
       "      <td>6.25</td>\n",
       "      <td>36.0</td>\n",
       "      <td>36.0</td>\n",
       "    </tr>\n",
       "    <tr>\n",
       "      <th>SQBdependency</th>\n",
       "      <td>9557.0</td>\n",
       "      <td>3.900409</td>\n",
       "      <td>12.511831</td>\n",
       "      <td>0.00</td>\n",
       "      <td>0.00</td>\n",
       "      <td>0.000000</td>\n",
       "      <td>0.0625</td>\n",
       "      <td>0.250000</td>\n",
       "      <td>0.250000</td>\n",
       "      <td>0.444444</td>\n",
       "      <td>1.00</td>\n",
       "      <td>1.0000</td>\n",
       "      <td>2.25000</td>\n",
       "      <td>4.00</td>\n",
       "      <td>64.0</td>\n",
       "      <td>64.0</td>\n",
       "    </tr>\n",
       "    <tr>\n",
       "      <th>SQBmeaned</th>\n",
       "      <td>9552.0</td>\n",
       "      <td>102.588867</td>\n",
       "      <td>93.516890</td>\n",
       "      <td>0.00</td>\n",
       "      <td>0.00</td>\n",
       "      <td>18.777779</td>\n",
       "      <td>36.0000</td>\n",
       "      <td>44.444443</td>\n",
       "      <td>64.000000</td>\n",
       "      <td>81.000000</td>\n",
       "      <td>100.00</td>\n",
       "      <td>121.0000</td>\n",
       "      <td>160.44446</td>\n",
       "      <td>225.00</td>\n",
       "      <td>1369.0</td>\n",
       "      <td>1369.0</td>\n",
       "    </tr>\n",
       "    <tr>\n",
       "      <th>agesq</th>\n",
       "      <td>9557.0</td>\n",
       "      <td>1643.774302</td>\n",
       "      <td>1741.197050</td>\n",
       "      <td>0.00</td>\n",
       "      <td>0.00</td>\n",
       "      <td>49.000000</td>\n",
       "      <td>196.0000</td>\n",
       "      <td>361.000000</td>\n",
       "      <td>625.000000</td>\n",
       "      <td>961.000000</td>\n",
       "      <td>1521.00</td>\n",
       "      <td>2209.0000</td>\n",
       "      <td>3025.00000</td>\n",
       "      <td>4096.00</td>\n",
       "      <td>9409.0</td>\n",
       "      <td>9409.0</td>\n",
       "    </tr>\n",
       "    <tr>\n",
       "      <th>Target</th>\n",
       "      <td>9557.0</td>\n",
       "      <td>3.302292</td>\n",
       "      <td>1.009565</td>\n",
       "      <td>1.00</td>\n",
       "      <td>1.00</td>\n",
       "      <td>2.000000</td>\n",
       "      <td>2.0000</td>\n",
       "      <td>3.000000</td>\n",
       "      <td>4.000000</td>\n",
       "      <td>4.000000</td>\n",
       "      <td>4.00</td>\n",
       "      <td>4.0000</td>\n",
       "      <td>4.00000</td>\n",
       "      <td>4.00</td>\n",
       "      <td>4.0</td>\n",
       "      <td>4.0</td>\n",
       "    </tr>\n",
       "  </tbody>\n",
       "</table>\n",
       "<p>138 rows × 16 columns</p>\n",
       "</div>"
      ],
      "text/plain": [
       "                  count           mean            std   min    0%  \\\n",
       "v2a1             2697.0  165231.606971  150457.133301  0.00  0.00   \n",
       "hacdor           9557.0       0.038087       0.191417  0.00  0.00   \n",
       "rooms            9557.0       4.955530       1.468381  1.00  1.00   \n",
       "hacapo           9557.0       0.023648       0.151957  0.00  0.00   \n",
       "v14a             9557.0       0.994768       0.072145  0.00  0.00   \n",
       "...                 ...            ...            ...   ...   ...   \n",
       "SQBovercrowding  9557.0       3.249485       4.129547  0.04  0.04   \n",
       "SQBdependency    9557.0       3.900409      12.511831  0.00  0.00   \n",
       "SQBmeaned        9552.0     102.588867      93.516890  0.00  0.00   \n",
       "agesq            9557.0    1643.774302    1741.197050  0.00  0.00   \n",
       "Target           9557.0       3.302292       1.009565  1.00  1.00   \n",
       "\n",
       "                          10%         20%           30%            40%  \\\n",
       "v2a1             40000.000000  70000.0000  90000.000000  102000.000000   \n",
       "hacdor               0.000000      0.0000      0.000000       0.000000   \n",
       "rooms                3.000000      4.0000      4.000000       5.000000   \n",
       "hacapo               0.000000      0.0000      0.000000       0.000000   \n",
       "v14a                 1.000000      1.0000      1.000000       1.000000   \n",
       "...                       ...         ...           ...            ...   \n",
       "SQBovercrowding      0.694444      1.0000      1.000000       1.777778   \n",
       "SQBdependency        0.000000      0.0625      0.250000       0.250000   \n",
       "SQBmeaned           18.777779     36.0000     44.444443      64.000000   \n",
       "agesq               49.000000    196.0000    361.000000     625.000000   \n",
       "Target               2.000000      2.0000      3.000000       4.000000   \n",
       "\n",
       "                           50%        60%          70%           80%  \\\n",
       "v2a1             130000.000000  150000.00  180000.0000  220000.00000   \n",
       "hacdor                0.000000       0.00       0.0000       0.00000   \n",
       "rooms                 5.000000       5.00       5.0000       6.00000   \n",
       "hacapo                0.000000       0.00       0.0000       0.00000   \n",
       "v14a                  1.000000       1.00       1.0000       1.00000   \n",
       "...                        ...        ...          ...           ...   \n",
       "SQBovercrowding       2.250000       2.25       3.0625       4.00000   \n",
       "SQBdependency         0.444444       1.00       1.0000       2.25000   \n",
       "SQBmeaned            81.000000     100.00     121.0000     160.44446   \n",
       "agesq               961.000000    1521.00    2209.0000    3025.00000   \n",
       "Target                4.000000       4.00       4.0000       4.00000   \n",
       "\n",
       "                       90%       100%        max  \n",
       "v2a1             320000.00  2353477.0  2353477.0  \n",
       "hacdor                0.00        1.0        1.0  \n",
       "rooms                 7.00       11.0       11.0  \n",
       "hacapo                0.00        1.0        1.0  \n",
       "v14a                  1.00        1.0        1.0  \n",
       "...                    ...        ...        ...  \n",
       "SQBovercrowding       6.25       36.0       36.0  \n",
       "SQBdependency         4.00       64.0       64.0  \n",
       "SQBmeaned           225.00     1369.0     1369.0  \n",
       "agesq              4096.00     9409.0     9409.0  \n",
       "Target                4.00        4.0        4.0  \n",
       "\n",
       "[138 rows x 16 columns]"
      ]
     },
     "execution_count": 18,
     "metadata": {},
     "output_type": "execute_result"
    }
   ],
   "source": [
    "train.describe(percentiles=np.linspace(0,1,11)).T"
   ]
  },
  {
   "cell_type": "markdown",
   "id": "0cde3d99",
   "metadata": {},
   "source": [
    "#### Taking a closer look at columns that need replacement"
   ]
  },
  {
   "cell_type": "code",
   "execution_count": 19,
   "id": "2b732672",
   "metadata": {},
   "outputs": [
    {
     "data": {
      "text/plain": [
       "count     9557\n",
       "unique      31\n",
       "top        yes\n",
       "freq      2192\n",
       "Name: dependency, dtype: object"
      ]
     },
     "execution_count": 19,
     "metadata": {},
     "output_type": "execute_result"
    }
   ],
   "source": [
    "train['dependency'].describe()"
   ]
  },
  {
   "cell_type": "code",
   "execution_count": 20,
   "id": "12bcd800",
   "metadata": {},
   "outputs": [
    {
     "name": "stdout",
     "output_type": "stream",
     "text": [
      "['no' '8' 'yes' '3' '0.5' '0.25' '2' '0.66666669' '0.33333334' '1.5'\n",
      " '0.40000001' '0.75' '1.25' '0.2' '2.5' '1.2' '4' '1.3333334' '2.25'\n",
      " '0.22222222' '5' '0.83333331' '0.80000001' '6' '3.5' '1.6666666'\n",
      " '0.2857143' '1.75' '0.71428573' '0.16666667' '0.60000002']\n"
     ]
    }
   ],
   "source": [
    "unique_values = train['dependency'].unique()\n",
    "print(unique_values)"
   ]
  },
  {
   "cell_type": "code",
   "execution_count": 21,
   "id": "cf29ca17",
   "metadata": {},
   "outputs": [
    {
     "data": {
      "text/plain": [
       "count     9557\n",
       "unique      22\n",
       "top         no\n",
       "freq      3762\n",
       "Name: edjefe, dtype: object"
      ]
     },
     "execution_count": 21,
     "metadata": {},
     "output_type": "execute_result"
    }
   ],
   "source": [
    "train['edjefe'].describe()"
   ]
  },
  {
   "cell_type": "code",
   "execution_count": 22,
   "id": "9d0bcf95",
   "metadata": {},
   "outputs": [
    {
     "name": "stdout",
     "output_type": "stream",
     "text": [
      "['10' '12' 'no' '11' '9' '15' '4' '6' '8' '17' '7' '16' '14' '5' '21' '2'\n",
      " '19' 'yes' '3' '18' '13' '20']\n"
     ]
    }
   ],
   "source": [
    "unique_values = train['edjefe'].unique()\n",
    "print(unique_values)"
   ]
  },
  {
   "cell_type": "code",
   "execution_count": 23,
   "id": "66b0daa7",
   "metadata": {},
   "outputs": [
    {
     "data": {
      "text/plain": [
       "count     9557\n",
       "unique      22\n",
       "top         no\n",
       "freq      6230\n",
       "Name: edjefa, dtype: object"
      ]
     },
     "execution_count": 23,
     "metadata": {},
     "output_type": "execute_result"
    }
   ],
   "source": [
    "train['edjefa'].describe()"
   ]
  },
  {
   "cell_type": "code",
   "execution_count": 24,
   "id": "b10948f3",
   "metadata": {},
   "outputs": [
    {
     "name": "stdout",
     "output_type": "stream",
     "text": [
      "['no' '11' '4' '10' '9' '15' '7' '14' '13' '8' '17' '6' '5' '3' '16' '19'\n",
      " 'yes' '21' '12' '2' '20' '18']\n"
     ]
    }
   ],
   "source": [
    "unique_values = train['edjefa'].unique()\n",
    "print(unique_values)"
   ]
  },
  {
   "cell_type": "markdown",
   "id": "a1758fb7",
   "metadata": {},
   "source": [
    "### Qn 4 Check whether all members of the house have the same poverty level. "
   ]
  },
  {
   "cell_type": "code",
   "execution_count": 25,
   "id": "62e6f1ba",
   "metadata": {},
   "outputs": [],
   "source": [
    "#Check if \n",
    "household_not_same_target = train.groupby(['idhogar'])['Target'].nunique()\n",
    "household_not_same_target = household_not_same_target[household_not_same_target != 1].sort_values(ascending=False)"
   ]
  },
  {
   "cell_type": "code",
   "execution_count": 26,
   "id": "93e2662b",
   "metadata": {},
   "outputs": [],
   "source": [
    "#set pandas to display 100 columns and rows\n",
    "pd.set_option('display.max_rows', 100)\n",
    "pd.set_option('display.max_columns', 100)\n",
    "pd.set_option('display.width', 100)"
   ]
  },
  {
   "cell_type": "code",
   "execution_count": 27,
   "id": "e3380c5f",
   "metadata": {},
   "outputs": [
    {
     "data": {
      "text/plain": [
       "idhogar\n",
       "5c6f32bbc    3\n",
       "0172ab1d9    2\n",
       "7e9d58c5c    2\n",
       "932287f5d    2\n",
       "8bb6da3c1    2\n",
       "8ae3e74ca    2\n",
       "8420bcfca    2\n",
       "8242a51ec    2\n",
       "811a35744    2\n",
       "80a66379b    2\n",
       "7ea6aca15    2\n",
       "7c57f8237    2\n",
       "a20ff33ba    2\n",
       "7ad269eef    2\n",
       "73d85d05d    2\n",
       "71cd52a80    2\n",
       "6c543442a    2\n",
       "6bcf799cf    2\n",
       "6a389f3de    2\n",
       "694a0cbf4    2\n",
       "9bbf7c6ca    2\n",
       "a3288e6fa    2\n",
       "67ad49822    2\n",
       "d9b1558b5    2\n",
       "f7b421c2c    2\n",
       "f006348ed    2\n",
       "efd3aec61    2\n",
       "e65d4b943    2\n",
       "e235a4eec    2\n",
       "e17b252ed    2\n",
       "dfb966eec    2\n",
       "daafc1281    2\n",
       "d64524b6b    2\n",
       "a94a45642    2\n",
       "cc971b690    2\n",
       "c7ce4e30c    2\n",
       "c38913488    2\n",
       "c13325faf    2\n",
       "be91da044    2\n",
       "bd82509d1    2\n",
       "bcab69521    2\n",
       "bcaa2e2f5    2\n",
       "6833ac5dc    2\n",
       "654ef7612    2\n",
       "03f4e5f4d    2\n",
       "3fe29a56b    2\n",
       "3c73c107f    2\n",
       "3c6973219    2\n",
       "30a70901d    2\n",
       "309fb7246    2\n",
       "2cb443214    2\n",
       "2c9872b82    2\n",
       "28893b5e7    2\n",
       "288579c97    2\n",
       "26b3a0f41    2\n",
       "18832b840    2\n",
       "17fb04a62    2\n",
       "15a891635    2\n",
       "0f9494d3a    2\n",
       "0f3e65c83    2\n",
       "09e25d616    2\n",
       "078a0b6e2    2\n",
       "0511912b6    2\n",
       "3df651058    2\n",
       "410194c8b    2\n",
       "636330516    2\n",
       "417865404    2\n",
       "614b48fb7    2\n",
       "5e9329fc6    2\n",
       "5c3f7725d    2\n",
       "594d3eb27    2\n",
       "564eab113    2\n",
       "55a662731    2\n",
       "54118d5d9    2\n",
       "513adb616    2\n",
       "50e064ee8    2\n",
       "4e19bd549    2\n",
       "4dc11e11f    2\n",
       "4c2dba109    2\n",
       "4b6077882    2\n",
       "46af47063    2\n",
       "44f219a16    2\n",
       "43b9c83e5    2\n",
       "42ec8bef5    2\n",
       "f94589d38    2\n",
       "Name: Target, dtype: int64"
      ]
     },
     "execution_count": 27,
     "metadata": {},
     "output_type": "execute_result"
    }
   ],
   "source": [
    "household_not_same_target"
   ]
  },
  {
   "cell_type": "code",
   "execution_count": 28,
   "id": "fe2964fe",
   "metadata": {},
   "outputs": [
    {
     "name": "stdout",
     "output_type": "stream",
     "text": [
      "Number of households with different poverty count is 85\n"
     ]
    }
   ],
   "source": [
    "total_unique_idhogar_count = household_not_same_target.count()\n",
    "\n",
    "count = total_unique_idhogar_count\n",
    "message = \"Number of households with different poverty count is {}\".format(count)\n",
    "print(message)"
   ]
  },
  {
   "cell_type": "markdown",
   "id": "9a99eb6c",
   "metadata": {},
   "source": [
    "### Qn 5 Check if there is a house without a family head. "
   ]
  },
  {
   "cell_type": "code",
   "execution_count": 29,
   "id": "365dc501",
   "metadata": {},
   "outputs": [],
   "source": [
    "#Check if anyone in the household is household head 0 = No\n",
    "\n",
    "no_household_head = train.groupby(['idhogar'])['parentesco1'].max()"
   ]
  },
  {
   "cell_type": "code",
   "execution_count": 30,
   "id": "7410a342",
   "metadata": {},
   "outputs": [
    {
     "data": {
      "text/plain": [
       "idhogar\n",
       "03c6bdf85    0\n",
       "09b195e7a    0\n",
       "1367ab31d    0\n",
       "1bc617b23    0\n",
       "374ca5a19    0\n",
       "61c10e099    0\n",
       "6b1b2405f    0\n",
       "896fe6d3e    0\n",
       "a0812ef17    0\n",
       "ad687ad89    0\n",
       "b1f4d89d7    0\n",
       "bfd5067c2    0\n",
       "c0c8a5013    0\n",
       "d363d9183    0\n",
       "f2bfa75c4    0\n",
       "Name: parentesco1, dtype: int64"
      ]
     },
     "execution_count": 30,
     "metadata": {},
     "output_type": "execute_result"
    }
   ],
   "source": [
    "no_household_head[no_household_head != 1].sort_values(ascending = True)"
   ]
  },
  {
   "cell_type": "code",
   "execution_count": 31,
   "id": "1ba62dc0",
   "metadata": {},
   "outputs": [
    {
     "name": "stdout",
     "output_type": "stream",
     "text": [
      "Number of households with no household head is 15\n"
     ]
    }
   ],
   "source": [
    "no_head_count = no_household_head[no_household_head != 1].count()\n",
    "\n",
    "message = f\"Number of households with no household head is {no_head_count}\"\n",
    "print(message)"
   ]
  },
  {
   "cell_type": "markdown",
   "id": "91571509",
   "metadata": {},
   "source": [
    "## Doing data cleaning and NA filling"
   ]
  },
  {
   "cell_type": "code",
   "execution_count": 32,
   "id": "4f89bd46",
   "metadata": {},
   "outputs": [],
   "source": [
    "#Replacing NA in v2a1(monthly rent payment) with 0 as crossed referenced with tipovivi1-5\n",
    "\n",
    "train['v2a1'] = train['v2a1'].fillna(0)"
   ]
  },
  {
   "cell_type": "code",
   "execution_count": 33,
   "id": "c99cd779",
   "metadata": {},
   "outputs": [],
   "source": [
    "#Replacing NA in v18q1(number of tablets household owns) with 0 as crossed referenced with v18q\n",
    "\n",
    "train['v18q1'] = train['v18q1'].fillna(0)"
   ]
  },
  {
   "cell_type": "code",
   "execution_count": 34,
   "id": "f322a771",
   "metadata": {},
   "outputs": [],
   "source": [
    "#Replacing 5 NA in meaneduc(average years of education for adults (18+) same NA as SQBmeaned below\n",
    "\n",
    "train['meaneduc'] = train['meaneduc'].fillna(0)"
   ]
  },
  {
   "cell_type": "code",
   "execution_count": 35,
   "id": "e8956e8f",
   "metadata": {},
   "outputs": [],
   "source": [
    "#Replacing 5 NA in sqbmeaned(square of the mean years of education of adults (>=18)) same NA as meaneduc above\n",
    "\n",
    "train['SQBmeaned'] = train['SQBmeaned'].fillna(0)"
   ]
  },
  {
   "cell_type": "code",
   "execution_count": 36,
   "id": "7a91fa51",
   "metadata": {},
   "outputs": [],
   "source": [
    "#Dropping rez_esc - Years behind in school from dataframe due to large amount of null values 7928 out of 9557 rows\n",
    "\n",
    "train = train.drop('rez_esc', axis = 1)"
   ]
  },
  {
   "cell_type": "code",
   "execution_count": 37,
   "id": "8b0ec8b6",
   "metadata": {},
   "outputs": [],
   "source": [
    "#Replacing No string values in dependency to 0\n",
    "\n",
    "train['dependency'] = train['dependency'].replace('no', 0 )"
   ]
  },
  {
   "cell_type": "code",
   "execution_count": 38,
   "id": "cf94400d",
   "metadata": {},
   "outputs": [
    {
     "data": {
      "text/plain": [
       "0.5"
      ]
     },
     "execution_count": 38,
     "metadata": {},
     "output_type": "execute_result"
    }
   ],
   "source": [
    "#Finding the median dependency value to replace the yes\n",
    "\n",
    "pd.to_numeric(train['dependency'],errors='coerce').median()"
   ]
  },
  {
   "cell_type": "code",
   "execution_count": 39,
   "id": "670fd254",
   "metadata": {},
   "outputs": [],
   "source": [
    "#Replacing Yes string values in dependency to the median of 0.5\n",
    "\n",
    "train['dependency'] = train['dependency'].replace('yes', 0.5 )"
   ]
  },
  {
   "cell_type": "code",
   "execution_count": 40,
   "id": "e2c81c71",
   "metadata": {},
   "outputs": [
    {
     "data": {
      "text/plain": [
       "0          0\n",
       "1          8\n",
       "2          8\n",
       "3        0.5\n",
       "4        0.5\n",
       "        ... \n",
       "9552    0.25\n",
       "9553    0.25\n",
       "9554    0.25\n",
       "9555    0.25\n",
       "9556    0.25\n",
       "Name: dependency, Length: 9557, dtype: object"
      ]
     },
     "execution_count": 40,
     "metadata": {},
     "output_type": "execute_result"
    }
   ],
   "source": [
    "train['dependency']"
   ]
  },
  {
   "cell_type": "code",
   "execution_count": 41,
   "id": "871e7b76",
   "metadata": {},
   "outputs": [],
   "source": [
    "#Replacing No string values in edjefe to 0\n",
    "\n",
    "train['edjefe'] = train['edjefe'].replace('no', 0 )"
   ]
  },
  {
   "cell_type": "code",
   "execution_count": 42,
   "id": "c671a05f",
   "metadata": {},
   "outputs": [
    {
     "data": {
      "text/plain": [
       "6.0"
      ]
     },
     "execution_count": 42,
     "metadata": {},
     "output_type": "execute_result"
    }
   ],
   "source": [
    "#Finding the median edjefe value to replace the yes\n",
    "\n",
    "pd.to_numeric(train['edjefe'],errors='coerce').median()"
   ]
  },
  {
   "cell_type": "code",
   "execution_count": 43,
   "id": "2e7e6646",
   "metadata": {},
   "outputs": [],
   "source": [
    "train['edjefe'] = train['edjefe'].replace('yes', 6 )"
   ]
  },
  {
   "cell_type": "code",
   "execution_count": 44,
   "id": "347c0e84",
   "metadata": {},
   "outputs": [
    {
     "data": {
      "text/plain": [
       "0       10\n",
       "1       12\n",
       "2        0\n",
       "3       11\n",
       "4       11\n",
       "        ..\n",
       "9552     9\n",
       "9553     9\n",
       "9554     9\n",
       "9555     9\n",
       "9556     9\n",
       "Name: edjefe, Length: 9557, dtype: object"
      ]
     },
     "execution_count": 44,
     "metadata": {},
     "output_type": "execute_result"
    }
   ],
   "source": [
    "train['edjefe']"
   ]
  },
  {
   "cell_type": "code",
   "execution_count": 45,
   "id": "aeff10c6",
   "metadata": {},
   "outputs": [],
   "source": [
    "#Replacing No string values in edjefa to 0\n",
    "\n",
    "train['edjefa'] = train['edjefa'].replace('no', 0 )"
   ]
  },
  {
   "cell_type": "code",
   "execution_count": 46,
   "id": "a3bd1aac",
   "metadata": {},
   "outputs": [
    {
     "data": {
      "text/plain": [
       "0.0"
      ]
     },
     "execution_count": 46,
     "metadata": {},
     "output_type": "execute_result"
    }
   ],
   "source": [
    "#Finding the median edjefa value to replace the yes\n",
    "\n",
    "pd.to_numeric(train['edjefa'],errors='coerce').median()"
   ]
  },
  {
   "cell_type": "code",
   "execution_count": 47,
   "id": "885bae7a",
   "metadata": {},
   "outputs": [],
   "source": [
    "train['edjefa'] = train['edjefa'].replace('yes', 0 )"
   ]
  },
  {
   "cell_type": "markdown",
   "id": "8d7db915",
   "metadata": {},
   "source": [
    "### Qn 6 Set the poverty level of the members and the head of the house same in a family."
   ]
  },
  {
   "cell_type": "code",
   "execution_count": 48,
   "id": "1ae9663c",
   "metadata": {},
   "outputs": [],
   "source": [
    "#Identify heads of household for each household\n",
    "\n",
    "head_of_household = train.loc[train['parentesco1'] == 1, ['idhogar', 'Target']]\n",
    "\n",
    "head_of_household = head_of_household.rename(columns={'Target': 'HeadTarget'})"
   ]
  },
  {
   "cell_type": "code",
   "execution_count": 49,
   "id": "7fbfb423",
   "metadata": {},
   "outputs": [],
   "source": [
    "head_mapping = head_of_household.set_index('idhogar')['HeadTarget']"
   ]
  },
  {
   "cell_type": "code",
   "execution_count": 50,
   "id": "17094fbf",
   "metadata": {},
   "outputs": [],
   "source": [
    "households_with_heads = train['idhogar'].isin(head_mapping.index)"
   ]
  },
  {
   "cell_type": "code",
   "execution_count": 51,
   "id": "da235c01",
   "metadata": {},
   "outputs": [],
   "source": [
    "train.loc[households_with_heads, 'Target'] = train.loc[households_with_heads, 'idhogar'].map(head_mapping)"
   ]
  },
  {
   "cell_type": "code",
   "execution_count": 52,
   "id": "dd9a0f84",
   "metadata": {},
   "outputs": [],
   "source": [
    "#Check that there are no households with more than 1 unique poverty level\n",
    "\n",
    "household_check = train.groupby(['idhogar'])['Target'].nunique()\n",
    "\n",
    "household_check = household_check[household_check != 1].sort_values(ascending=False)"
   ]
  },
  {
   "cell_type": "code",
   "execution_count": 53,
   "id": "2e6d1330",
   "metadata": {},
   "outputs": [
    {
     "data": {
      "text/plain": [
       "Series([], Name: Target, dtype: int64)"
      ]
     },
     "execution_count": 53,
     "metadata": {},
     "output_type": "execute_result"
    }
   ],
   "source": [
    "household_check"
   ]
  },
  {
   "cell_type": "markdown",
   "id": "cb3e4ede",
   "metadata": {},
   "source": [
    "### Qn 9 Predict the accuracy using random forest classifier."
   ]
  },
  {
   "cell_type": "code",
   "execution_count": 54,
   "id": "fca6f215",
   "metadata": {},
   "outputs": [],
   "source": [
    "#Random Forest Modelling\n",
    "\n",
    "from sklearn.ensemble import RandomForestClassifier\n",
    "from sklearn.metrics import accuracy_score, confusion_matrix, precision_score, recall_score, ConfusionMatrixDisplay, classification_report\n",
    "from sklearn.model_selection import RandomizedSearchCV, train_test_split\n",
    "from scipy.stats import randint\n",
    "\n",
    "# Tree Visualisation\n",
    "from sklearn.tree import export_graphviz\n",
    "from IPython.display import Image\n",
    "import graphviz"
   ]
  },
  {
   "cell_type": "code",
   "execution_count": 55,
   "id": "f9748856",
   "metadata": {},
   "outputs": [],
   "source": [
    "#Dropping unneeded columns\n",
    "train.drop(['Id', 'idhogar'], axis=1, inplace=True)"
   ]
  },
  {
   "cell_type": "code",
   "execution_count": 56,
   "id": "16c1bf1c",
   "metadata": {},
   "outputs": [],
   "source": [
    "# Split the data into features (X) and target (y)\n",
    "X = train.drop('Target', axis=1)\n",
    "y = train['Target']\n",
    "\n",
    "# Split the data into training and test sets\n",
    "X_train, X_test, y_train, y_test = train_test_split(X, y, test_size=0.3)"
   ]
  },
  {
   "cell_type": "code",
   "execution_count": 57,
   "id": "2f0f6a22",
   "metadata": {
    "scrolled": true
   },
   "outputs": [
    {
     "data": {
      "text/html": [
       "<style>#sk-container-id-1 {color: black;}#sk-container-id-1 pre{padding: 0;}#sk-container-id-1 div.sk-toggleable {background-color: white;}#sk-container-id-1 label.sk-toggleable__label {cursor: pointer;display: block;width: 100%;margin-bottom: 0;padding: 0.3em;box-sizing: border-box;text-align: center;}#sk-container-id-1 label.sk-toggleable__label-arrow:before {content: \"▸\";float: left;margin-right: 0.25em;color: #696969;}#sk-container-id-1 label.sk-toggleable__label-arrow:hover:before {color: black;}#sk-container-id-1 div.sk-estimator:hover label.sk-toggleable__label-arrow:before {color: black;}#sk-container-id-1 div.sk-toggleable__content {max-height: 0;max-width: 0;overflow: hidden;text-align: left;background-color: #f0f8ff;}#sk-container-id-1 div.sk-toggleable__content pre {margin: 0.2em;color: black;border-radius: 0.25em;background-color: #f0f8ff;}#sk-container-id-1 input.sk-toggleable__control:checked~div.sk-toggleable__content {max-height: 200px;max-width: 100%;overflow: auto;}#sk-container-id-1 input.sk-toggleable__control:checked~label.sk-toggleable__label-arrow:before {content: \"▾\";}#sk-container-id-1 div.sk-estimator input.sk-toggleable__control:checked~label.sk-toggleable__label {background-color: #d4ebff;}#sk-container-id-1 div.sk-label input.sk-toggleable__control:checked~label.sk-toggleable__label {background-color: #d4ebff;}#sk-container-id-1 input.sk-hidden--visually {border: 0;clip: rect(1px 1px 1px 1px);clip: rect(1px, 1px, 1px, 1px);height: 1px;margin: -1px;overflow: hidden;padding: 0;position: absolute;width: 1px;}#sk-container-id-1 div.sk-estimator {font-family: monospace;background-color: #f0f8ff;border: 1px dotted black;border-radius: 0.25em;box-sizing: border-box;margin-bottom: 0.5em;}#sk-container-id-1 div.sk-estimator:hover {background-color: #d4ebff;}#sk-container-id-1 div.sk-parallel-item::after {content: \"\";width: 100%;border-bottom: 1px solid gray;flex-grow: 1;}#sk-container-id-1 div.sk-label:hover label.sk-toggleable__label {background-color: #d4ebff;}#sk-container-id-1 div.sk-serial::before {content: \"\";position: absolute;border-left: 1px solid gray;box-sizing: border-box;top: 0;bottom: 0;left: 50%;z-index: 0;}#sk-container-id-1 div.sk-serial {display: flex;flex-direction: column;align-items: center;background-color: white;padding-right: 0.2em;padding-left: 0.2em;position: relative;}#sk-container-id-1 div.sk-item {position: relative;z-index: 1;}#sk-container-id-1 div.sk-parallel {display: flex;align-items: stretch;justify-content: center;background-color: white;position: relative;}#sk-container-id-1 div.sk-item::before, #sk-container-id-1 div.sk-parallel-item::before {content: \"\";position: absolute;border-left: 1px solid gray;box-sizing: border-box;top: 0;bottom: 0;left: 50%;z-index: -1;}#sk-container-id-1 div.sk-parallel-item {display: flex;flex-direction: column;z-index: 1;position: relative;background-color: white;}#sk-container-id-1 div.sk-parallel-item:first-child::after {align-self: flex-end;width: 50%;}#sk-container-id-1 div.sk-parallel-item:last-child::after {align-self: flex-start;width: 50%;}#sk-container-id-1 div.sk-parallel-item:only-child::after {width: 0;}#sk-container-id-1 div.sk-dashed-wrapped {border: 1px dashed gray;margin: 0 0.4em 0.5em 0.4em;box-sizing: border-box;padding-bottom: 0.4em;background-color: white;}#sk-container-id-1 div.sk-label label {font-family: monospace;font-weight: bold;display: inline-block;line-height: 1.2em;}#sk-container-id-1 div.sk-label-container {text-align: center;}#sk-container-id-1 div.sk-container {/* jupyter's `normalize.less` sets `[hidden] { display: none; }` but bootstrap.min.css set `[hidden] { display: none !important; }` so we also need the `!important` here to be able to override the default hidden behavior on the sphinx rendered scikit-learn.org. See: https://github.com/scikit-learn/scikit-learn/issues/21755 */display: inline-block !important;position: relative;}#sk-container-id-1 div.sk-text-repr-fallback {display: none;}</style><div id=\"sk-container-id-1\" class=\"sk-top-container\"><div class=\"sk-text-repr-fallback\"><pre>RandomForestClassifier()</pre><b>In a Jupyter environment, please rerun this cell to show the HTML representation or trust the notebook. <br />On GitHub, the HTML representation is unable to render, please try loading this page with nbviewer.org.</b></div><div class=\"sk-container\" hidden><div class=\"sk-item\"><div class=\"sk-estimator sk-toggleable\"><input class=\"sk-toggleable__control sk-hidden--visually\" id=\"sk-estimator-id-1\" type=\"checkbox\" checked><label for=\"sk-estimator-id-1\" class=\"sk-toggleable__label sk-toggleable__label-arrow\">RandomForestClassifier</label><div class=\"sk-toggleable__content\"><pre>RandomForestClassifier()</pre></div></div></div></div></div>"
      ],
      "text/plain": [
       "RandomForestClassifier()"
      ]
     },
     "execution_count": 57,
     "metadata": {},
     "output_type": "execute_result"
    }
   ],
   "source": [
    "#Fitting and evaluating the RF\n",
    "rf = RandomForestClassifier()\n",
    "rf.fit(X_train, y_train)"
   ]
  },
  {
   "cell_type": "code",
   "execution_count": 58,
   "id": "3d20118b",
   "metadata": {},
   "outputs": [],
   "source": [
    "base_y_pred = rf.predict(X_test)"
   ]
  },
  {
   "cell_type": "code",
   "execution_count": 59,
   "id": "7234ce23",
   "metadata": {},
   "outputs": [
    {
     "name": "stdout",
     "output_type": "stream",
     "text": [
      "              precision    recall  f1-score   support\n",
      "\n",
      "           1       0.97      0.87      0.92       235\n",
      "           2       0.96      0.86      0.91       478\n",
      "           3       0.98      0.78      0.86       370\n",
      "           4       0.91      0.99      0.95      1785\n",
      "\n",
      "    accuracy                           0.93      2868\n",
      "   macro avg       0.96      0.87      0.91      2868\n",
      "weighted avg       0.94      0.93      0.93      2868\n",
      "\n",
      "Accuracy: 0.9323570432357043\n"
     ]
    }
   ],
   "source": [
    "base_report = classification_report(y_test, base_y_pred)\n",
    "base_accuracy = accuracy_score(y_test, base_y_pred)\n",
    "print(base_report)\n",
    "print(\"Accuracy:\", base_accuracy)"
   ]
  },
  {
   "cell_type": "code",
   "execution_count": 60,
   "id": "b6411fc9",
   "metadata": {},
   "outputs": [
    {
     "data": {
      "text/plain": [
       "array([[ 205,    2,    1,   27],\n",
       "       [   2,  410,    2,   64],\n",
       "       [   2,    6,  287,   75],\n",
       "       [   2,    7,    4, 1772]], dtype=int64)"
      ]
     },
     "execution_count": 60,
     "metadata": {},
     "output_type": "execute_result"
    }
   ],
   "source": [
    "# View confusion matrix for test data and predictions\n",
    "confusion_matrix(y_test, base_y_pred)"
   ]
  },
  {
   "cell_type": "markdown",
   "id": "64d5014f",
   "metadata": {},
   "source": [
    "#### Random Forest Tree visualization"
   ]
  },
  {
   "cell_type": "code",
   "execution_count": 61,
   "id": "ef5a70a9",
   "metadata": {},
   "outputs": [
    {
     "data": {
      "image/svg+xml": [
       "<?xml version=\"1.0\" encoding=\"UTF-8\" standalone=\"no\"?>\n",
       "<!DOCTYPE svg PUBLIC \"-//W3C//DTD SVG 1.1//EN\"\n",
       " \"http://www.w3.org/Graphics/SVG/1.1/DTD/svg11.dtd\">\n",
       "<!-- Generated by graphviz version 2.50.0 (0)\n",
       " -->\n",
       "<!-- Title: Tree Pages: 1 -->\n",
       "<svg width=\"966pt\" height=\"311pt\"\n",
       " viewBox=\"0.00 0.00 966.00 311.00\" xmlns=\"http://www.w3.org/2000/svg\" xmlns:xlink=\"http://www.w3.org/1999/xlink\">\n",
       "<g id=\"graph0\" class=\"graph\" transform=\"scale(1 1) rotate(0) translate(4 307)\">\n",
       "<title>Tree</title>\n",
       "<polygon fill=\"white\" stroke=\"transparent\" points=\"-4,4 -4,-307 962,-307 962,4 -4,4\"/>\n",
       "<!-- 0 -->\n",
       "<g id=\"node1\" class=\"node\">\n",
       "<title>0</title>\n",
       "<polygon fill=\"#e990f0\" stroke=\"black\" points=\"596,-303 366,-303 366,-250 596,-250 596,-303\"/>\n",
       "<text text-anchor=\"middle\" x=\"481\" y=\"-287.8\" font-family=\"Helvetica,sans-Serif\" font-size=\"14.00\">SQBdependency &lt;= 0.536</text>\n",
       "<text text-anchor=\"middle\" x=\"481\" y=\"-272.8\" font-family=\"Helvetica,sans-Serif\" font-size=\"14.00\">samples = 100.0%</text>\n",
       "<text text-anchor=\"middle\" x=\"481\" y=\"-257.8\" font-family=\"Helvetica,sans-Serif\" font-size=\"14.00\">value = [0.075, 0.161, 0.133, 0.631]</text>\n",
       "</g>\n",
       "<!-- 1 -->\n",
       "<g id=\"node2\" class=\"node\">\n",
       "<title>1</title>\n",
       "<polygon fill=\"#e16bec\" stroke=\"black\" points=\"466.5,-214 251.5,-214 251.5,-161 466.5,-161 466.5,-214\"/>\n",
       "<text text-anchor=\"middle\" x=\"359\" y=\"-198.8\" font-family=\"Helvetica,sans-Serif\" font-size=\"14.00\">meaneduc &lt;= 7.633</text>\n",
       "<text text-anchor=\"middle\" x=\"359\" y=\"-183.8\" font-family=\"Helvetica,sans-Serif\" font-size=\"14.00\">samples = 49.9%</text>\n",
       "<text text-anchor=\"middle\" x=\"359\" y=\"-168.8\" font-family=\"Helvetica,sans-Serif\" font-size=\"14.00\">value = [0.042, 0.083, 0.1, 0.775]</text>\n",
       "</g>\n",
       "<!-- 0&#45;&gt;1 -->\n",
       "<g id=\"edge1\" class=\"edge\">\n",
       "<title>0&#45;&gt;1</title>\n",
       "<path fill=\"none\" stroke=\"black\" d=\"M445.06,-249.87C432.02,-240.57 417.13,-229.95 403.45,-220.2\"/>\n",
       "<polygon fill=\"black\" stroke=\"black\" points=\"405.28,-217.21 395.11,-214.25 401.22,-222.91 405.28,-217.21\"/>\n",
       "<text text-anchor=\"middle\" x=\"399.24\" y=\"-235.21\" font-family=\"Helvetica,sans-Serif\" font-size=\"14.00\">True</text>\n",
       "</g>\n",
       "<!-- 980 -->\n",
       "<g id=\"node9\" class=\"node\">\n",
       "<title>980</title>\n",
       "<polygon fill=\"#f2bef6\" stroke=\"black\" points=\"718,-214 488,-214 488,-161 718,-161 718,-214\"/>\n",
       "<text text-anchor=\"middle\" x=\"603\" y=\"-198.8\" font-family=\"Helvetica,sans-Serif\" font-size=\"14.00\">epared1 &lt;= 0.5</text>\n",
       "<text text-anchor=\"middle\" x=\"603\" y=\"-183.8\" font-family=\"Helvetica,sans-Serif\" font-size=\"14.00\">samples = 50.1%</text>\n",
       "<text text-anchor=\"middle\" x=\"603\" y=\"-168.8\" font-family=\"Helvetica,sans-Serif\" font-size=\"14.00\">value = [0.108, 0.238, 0.166, 0.489]</text>\n",
       "</g>\n",
       "<!-- 0&#45;&gt;980 -->\n",
       "<g id=\"edge8\" class=\"edge\">\n",
       "<title>0&#45;&gt;980</title>\n",
       "<path fill=\"none\" stroke=\"black\" d=\"M516.94,-249.87C529.98,-240.57 544.87,-229.95 558.55,-220.2\"/>\n",
       "<polygon fill=\"black\" stroke=\"black\" points=\"560.78,-222.91 566.89,-214.25 556.72,-217.21 560.78,-222.91\"/>\n",
       "<text text-anchor=\"middle\" x=\"562.76\" y=\"-235.21\" font-family=\"Helvetica,sans-Serif\" font-size=\"14.00\">False</text>\n",
       "</g>\n",
       "<!-- 2 -->\n",
       "<g id=\"node3\" class=\"node\">\n",
       "<title>2</title>\n",
       "<polygon fill=\"#eca2f3\" stroke=\"black\" points=\"230,-125 0,-125 0,-72 230,-72 230,-125\"/>\n",
       "<text text-anchor=\"middle\" x=\"115\" y=\"-109.8\" font-family=\"Helvetica,sans-Serif\" font-size=\"14.00\">SQBdependency &lt;= 0.014</text>\n",
       "<text text-anchor=\"middle\" x=\"115\" y=\"-94.8\" font-family=\"Helvetica,sans-Serif\" font-size=\"14.00\">samples = 15.2%</text>\n",
       "<text text-anchor=\"middle\" x=\"115\" y=\"-79.8\" font-family=\"Helvetica,sans-Serif\" font-size=\"14.00\">value = [0.084, 0.156, 0.189, 0.571]</text>\n",
       "</g>\n",
       "<!-- 1&#45;&gt;2 -->\n",
       "<g id=\"edge2\" class=\"edge\">\n",
       "<title>1&#45;&gt;2</title>\n",
       "<path fill=\"none\" stroke=\"black\" d=\"M287.44,-160.98C258.76,-150.76 225.57,-138.93 196.02,-128.39\"/>\n",
       "<polygon fill=\"black\" stroke=\"black\" points=\"197.15,-125.08 186.56,-125.01 194.8,-131.67 197.15,-125.08\"/>\n",
       "</g>\n",
       "<!-- 467 -->\n",
       "<g id=\"node6\" class=\"node\">\n",
       "<title>467</title>\n",
       "<polygon fill=\"#dd57e9\" stroke=\"black\" points=\"470,-125 248,-125 248,-72 470,-72 470,-125\"/>\n",
       "<text text-anchor=\"middle\" x=\"359\" y=\"-109.8\" font-family=\"Helvetica,sans-Serif\" font-size=\"14.00\">pisocemento &lt;= 0.5</text>\n",
       "<text text-anchor=\"middle\" x=\"359\" y=\"-94.8\" font-family=\"Helvetica,sans-Serif\" font-size=\"14.00\">samples = 34.7%</text>\n",
       "<text text-anchor=\"middle\" x=\"359\" y=\"-79.8\" font-family=\"Helvetica,sans-Serif\" font-size=\"14.00\">value = [0.025, 0.052, 0.063, 0.86]</text>\n",
       "</g>\n",
       "<!-- 1&#45;&gt;467 -->\n",
       "<g id=\"edge5\" class=\"edge\">\n",
       "<title>1&#45;&gt;467</title>\n",
       "<path fill=\"none\" stroke=\"black\" d=\"M359,-160.87C359,-152.89 359,-143.93 359,-135.38\"/>\n",
       "<polygon fill=\"black\" stroke=\"black\" points=\"362.5,-135.25 359,-125.25 355.5,-135.25 362.5,-135.25\"/>\n",
       "</g>\n",
       "<!-- 3 -->\n",
       "<g id=\"node4\" class=\"node\">\n",
       "<title>3</title>\n",
       "<polygon fill=\"#c0c0c0\" stroke=\"black\" points=\"106,-36 52,-36 52,0 106,0 106,-36\"/>\n",
       "<text text-anchor=\"middle\" x=\"79\" y=\"-14.3\" font-family=\"Helvetica,sans-Serif\" font-size=\"14.00\">(...)</text>\n",
       "</g>\n",
       "<!-- 2&#45;&gt;3 -->\n",
       "<g id=\"edge3\" class=\"edge\">\n",
       "<title>2&#45;&gt;3</title>\n",
       "<path fill=\"none\" stroke=\"black\" d=\"M103.21,-71.8C99.34,-63.35 95.03,-53.95 91.13,-45.45\"/>\n",
       "<polygon fill=\"black\" stroke=\"black\" points=\"94.3,-43.96 86.95,-36.33 87.93,-46.88 94.3,-43.96\"/>\n",
       "</g>\n",
       "<!-- 156 -->\n",
       "<g id=\"node5\" class=\"node\">\n",
       "<title>156</title>\n",
       "<polygon fill=\"#c0c0c0\" stroke=\"black\" points=\"178,-36 124,-36 124,0 178,0 178,-36\"/>\n",
       "<text text-anchor=\"middle\" x=\"151\" y=\"-14.3\" font-family=\"Helvetica,sans-Serif\" font-size=\"14.00\">(...)</text>\n",
       "</g>\n",
       "<!-- 2&#45;&gt;156 -->\n",
       "<g id=\"edge4\" class=\"edge\">\n",
       "<title>2&#45;&gt;156</title>\n",
       "<path fill=\"none\" stroke=\"black\" d=\"M126.79,-71.8C130.66,-63.35 134.97,-53.95 138.87,-45.45\"/>\n",
       "<polygon fill=\"black\" stroke=\"black\" points=\"142.07,-46.88 143.05,-36.33 135.7,-43.96 142.07,-46.88\"/>\n",
       "</g>\n",
       "<!-- 468 -->\n",
       "<g id=\"node7\" class=\"node\">\n",
       "<title>468</title>\n",
       "<polygon fill=\"#c0c0c0\" stroke=\"black\" points=\"350,-36 296,-36 296,0 350,0 350,-36\"/>\n",
       "<text text-anchor=\"middle\" x=\"323\" y=\"-14.3\" font-family=\"Helvetica,sans-Serif\" font-size=\"14.00\">(...)</text>\n",
       "</g>\n",
       "<!-- 467&#45;&gt;468 -->\n",
       "<g id=\"edge6\" class=\"edge\">\n",
       "<title>467&#45;&gt;468</title>\n",
       "<path fill=\"none\" stroke=\"black\" d=\"M347.21,-71.8C343.34,-63.35 339.03,-53.95 335.13,-45.45\"/>\n",
       "<polygon fill=\"black\" stroke=\"black\" points=\"338.3,-43.96 330.95,-36.33 331.93,-46.88 338.3,-43.96\"/>\n",
       "</g>\n",
       "<!-- 861 -->\n",
       "<g id=\"node8\" class=\"node\">\n",
       "<title>861</title>\n",
       "<polygon fill=\"#c0c0c0\" stroke=\"black\" points=\"422,-36 368,-36 368,0 422,0 422,-36\"/>\n",
       "<text text-anchor=\"middle\" x=\"395\" y=\"-14.3\" font-family=\"Helvetica,sans-Serif\" font-size=\"14.00\">(...)</text>\n",
       "</g>\n",
       "<!-- 467&#45;&gt;861 -->\n",
       "<g id=\"edge7\" class=\"edge\">\n",
       "<title>467&#45;&gt;861</title>\n",
       "<path fill=\"none\" stroke=\"black\" d=\"M370.79,-71.8C374.66,-63.35 378.97,-53.95 382.87,-45.45\"/>\n",
       "<polygon fill=\"black\" stroke=\"black\" points=\"386.07,-46.88 387.05,-36.33 379.7,-43.96 386.07,-46.88\"/>\n",
       "</g>\n",
       "<!-- 981 -->\n",
       "<g id=\"node10\" class=\"node\">\n",
       "<title>981</title>\n",
       "<polygon fill=\"#efb0f5\" stroke=\"black\" points=\"718,-125 488,-125 488,-72 718,-72 718,-125\"/>\n",
       "<text text-anchor=\"middle\" x=\"603\" y=\"-109.8\" font-family=\"Helvetica,sans-Serif\" font-size=\"14.00\">pisomoscer &lt;= 0.5</text>\n",
       "<text text-anchor=\"middle\" x=\"603\" y=\"-94.8\" font-family=\"Helvetica,sans-Serif\" font-size=\"14.00\">samples = 44.2%</text>\n",
       "<text text-anchor=\"middle\" x=\"603\" y=\"-79.8\" font-family=\"Helvetica,sans-Serif\" font-size=\"14.00\">value = [0.093, 0.214, 0.167, 0.526]</text>\n",
       "</g>\n",
       "<!-- 980&#45;&gt;981 -->\n",
       "<g id=\"edge9\" class=\"edge\">\n",
       "<title>980&#45;&gt;981</title>\n",
       "<path fill=\"none\" stroke=\"black\" d=\"M603,-160.87C603,-152.89 603,-143.93 603,-135.38\"/>\n",
       "<polygon fill=\"black\" stroke=\"black\" points=\"606.5,-135.25 603,-125.25 599.5,-135.25 606.5,-135.25\"/>\n",
       "</g>\n",
       "<!-- 1974 -->\n",
       "<g id=\"node13\" class=\"node\">\n",
       "<title>1974</title>\n",
       "<polygon fill=\"#d1f8ce\" stroke=\"black\" points=\"958,-125 736,-125 736,-72 958,-72 958,-125\"/>\n",
       "<text text-anchor=\"middle\" x=\"847\" y=\"-109.8\" font-family=\"Helvetica,sans-Serif\" font-size=\"14.00\">refrig &lt;= 0.5</text>\n",
       "<text text-anchor=\"middle\" x=\"847\" y=\"-94.8\" font-family=\"Helvetica,sans-Serif\" font-size=\"14.00\">samples = 5.9%</text>\n",
       "<text text-anchor=\"middle\" x=\"847\" y=\"-79.8\" font-family=\"Helvetica,sans-Serif\" font-size=\"14.00\">value = [0.22, 0.415, 0.152, 0.213]</text>\n",
       "</g>\n",
       "<!-- 980&#45;&gt;1974 -->\n",
       "<g id=\"edge12\" class=\"edge\">\n",
       "<title>980&#45;&gt;1974</title>\n",
       "<path fill=\"none\" stroke=\"black\" d=\"M674.56,-160.98C703.24,-150.76 736.43,-138.93 765.98,-128.39\"/>\n",
       "<polygon fill=\"black\" stroke=\"black\" points=\"767.2,-131.67 775.44,-125.01 764.85,-125.08 767.2,-131.67\"/>\n",
       "</g>\n",
       "<!-- 982 -->\n",
       "<g id=\"node11\" class=\"node\">\n",
       "<title>982</title>\n",
       "<polygon fill=\"#c0c0c0\" stroke=\"black\" points=\"594,-36 540,-36 540,0 594,0 594,-36\"/>\n",
       "<text text-anchor=\"middle\" x=\"567\" y=\"-14.3\" font-family=\"Helvetica,sans-Serif\" font-size=\"14.00\">(...)</text>\n",
       "</g>\n",
       "<!-- 981&#45;&gt;982 -->\n",
       "<g id=\"edge10\" class=\"edge\">\n",
       "<title>981&#45;&gt;982</title>\n",
       "<path fill=\"none\" stroke=\"black\" d=\"M591.21,-71.8C587.34,-63.35 583.03,-53.95 579.13,-45.45\"/>\n",
       "<polygon fill=\"black\" stroke=\"black\" points=\"582.3,-43.96 574.95,-36.33 575.93,-46.88 582.3,-43.96\"/>\n",
       "</g>\n",
       "<!-- 1303 -->\n",
       "<g id=\"node12\" class=\"node\">\n",
       "<title>1303</title>\n",
       "<polygon fill=\"#c0c0c0\" stroke=\"black\" points=\"666,-36 612,-36 612,0 666,0 666,-36\"/>\n",
       "<text text-anchor=\"middle\" x=\"639\" y=\"-14.3\" font-family=\"Helvetica,sans-Serif\" font-size=\"14.00\">(...)</text>\n",
       "</g>\n",
       "<!-- 981&#45;&gt;1303 -->\n",
       "<g id=\"edge11\" class=\"edge\">\n",
       "<title>981&#45;&gt;1303</title>\n",
       "<path fill=\"none\" stroke=\"black\" d=\"M614.79,-71.8C618.66,-63.35 622.97,-53.95 626.87,-45.45\"/>\n",
       "<polygon fill=\"black\" stroke=\"black\" points=\"630.07,-46.88 631.05,-36.33 623.7,-43.96 630.07,-46.88\"/>\n",
       "</g>\n",
       "<!-- 1975 -->\n",
       "<g id=\"node14\" class=\"node\">\n",
       "<title>1975</title>\n",
       "<polygon fill=\"#c0c0c0\" stroke=\"black\" points=\"838,-36 784,-36 784,0 838,0 838,-36\"/>\n",
       "<text text-anchor=\"middle\" x=\"811\" y=\"-14.3\" font-family=\"Helvetica,sans-Serif\" font-size=\"14.00\">(...)</text>\n",
       "</g>\n",
       "<!-- 1974&#45;&gt;1975 -->\n",
       "<g id=\"edge13\" class=\"edge\">\n",
       "<title>1974&#45;&gt;1975</title>\n",
       "<path fill=\"none\" stroke=\"black\" d=\"M835.21,-71.8C831.34,-63.35 827.03,-53.95 823.13,-45.45\"/>\n",
       "<polygon fill=\"black\" stroke=\"black\" points=\"826.3,-43.96 818.95,-36.33 819.93,-46.88 826.3,-43.96\"/>\n",
       "</g>\n",
       "<!-- 1996 -->\n",
       "<g id=\"node15\" class=\"node\">\n",
       "<title>1996</title>\n",
       "<polygon fill=\"#c0c0c0\" stroke=\"black\" points=\"910,-36 856,-36 856,0 910,0 910,-36\"/>\n",
       "<text text-anchor=\"middle\" x=\"883\" y=\"-14.3\" font-family=\"Helvetica,sans-Serif\" font-size=\"14.00\">(...)</text>\n",
       "</g>\n",
       "<!-- 1974&#45;&gt;1996 -->\n",
       "<g id=\"edge14\" class=\"edge\">\n",
       "<title>1974&#45;&gt;1996</title>\n",
       "<path fill=\"none\" stroke=\"black\" d=\"M858.79,-71.8C862.66,-63.35 866.97,-53.95 870.87,-45.45\"/>\n",
       "<polygon fill=\"black\" stroke=\"black\" points=\"874.07,-46.88 875.05,-36.33 867.7,-43.96 874.07,-46.88\"/>\n",
       "</g>\n",
       "</g>\n",
       "</svg>\n"
      ],
      "text/plain": [
       "<graphviz.sources.Source at 0x17d8f97f050>"
      ]
     },
     "metadata": {},
     "output_type": "display_data"
    },
    {
     "data": {
      "image/svg+xml": [
       "<?xml version=\"1.0\" encoding=\"UTF-8\" standalone=\"no\"?>\n",
       "<!DOCTYPE svg PUBLIC \"-//W3C//DTD SVG 1.1//EN\"\n",
       " \"http://www.w3.org/Graphics/SVG/1.1/DTD/svg11.dtd\">\n",
       "<!-- Generated by graphviz version 2.50.0 (0)\n",
       " -->\n",
       "<!-- Title: Tree Pages: 1 -->\n",
       "<svg width=\"965pt\" height=\"311pt\"\n",
       " viewBox=\"0.00 0.00 964.50 311.00\" xmlns=\"http://www.w3.org/2000/svg\" xmlns:xlink=\"http://www.w3.org/1999/xlink\">\n",
       "<g id=\"graph0\" class=\"graph\" transform=\"scale(1 1) rotate(0) translate(4 307)\">\n",
       "<title>Tree</title>\n",
       "<polygon fill=\"white\" stroke=\"transparent\" points=\"-4,4 -4,-307 960.5,-307 960.5,4 -4,4\"/>\n",
       "<!-- 0 -->\n",
       "<g id=\"node1\" class=\"node\">\n",
       "<title>0</title>\n",
       "<polygon fill=\"#e991f1\" stroke=\"black\" points=\"590.5,-303 368.5,-303 368.5,-250 590.5,-250 590.5,-303\"/>\n",
       "<text text-anchor=\"middle\" x=\"479.5\" y=\"-287.8\" font-family=\"Helvetica,sans-Serif\" font-size=\"14.00\">SQBdependency &lt;= 0.536</text>\n",
       "<text text-anchor=\"middle\" x=\"479.5\" y=\"-272.8\" font-family=\"Helvetica,sans-Serif\" font-size=\"14.00\">samples = 100.0%</text>\n",
       "<text text-anchor=\"middle\" x=\"479.5\" y=\"-257.8\" font-family=\"Helvetica,sans-Serif\" font-size=\"14.00\">value = [0.08, 0.165, 0.124, 0.631]</text>\n",
       "</g>\n",
       "<!-- 1 -->\n",
       "<g id=\"node2\" class=\"node\">\n",
       "<title>1</title>\n",
       "<polygon fill=\"#e16aeb\" stroke=\"black\" points=\"470.5,-214 240.5,-214 240.5,-161 470.5,-161 470.5,-214\"/>\n",
       "<text text-anchor=\"middle\" x=\"355.5\" y=\"-198.8\" font-family=\"Helvetica,sans-Serif\" font-size=\"14.00\">edjefe &lt;= 7.5</text>\n",
       "<text text-anchor=\"middle\" x=\"355.5\" y=\"-183.8\" font-family=\"Helvetica,sans-Serif\" font-size=\"14.00\">samples = 49.6%</text>\n",
       "<text text-anchor=\"middle\" x=\"355.5\" y=\"-168.8\" font-family=\"Helvetica,sans-Serif\" font-size=\"14.00\">value = [0.051, 0.084, 0.092, 0.773]</text>\n",
       "</g>\n",
       "<!-- 0&#45;&gt;1 -->\n",
       "<g id=\"edge1\" class=\"edge\">\n",
       "<title>0&#45;&gt;1</title>\n",
       "<path fill=\"none\" stroke=\"black\" d=\"M442.97,-249.87C429.71,-240.57 414.58,-229.95 400.68,-220.2\"/>\n",
       "<polygon fill=\"black\" stroke=\"black\" points=\"402.4,-217.13 392.2,-214.25 398.38,-222.86 402.4,-217.13\"/>\n",
       "<text text-anchor=\"middle\" x=\"396.52\" y=\"-235.17\" font-family=\"Helvetica,sans-Serif\" font-size=\"14.00\">True</text>\n",
       "</g>\n",
       "<!-- 966 -->\n",
       "<g id=\"node9\" class=\"node\">\n",
       "<title>966</title>\n",
       "<polygon fill=\"#f2c0f7\" stroke=\"black\" points=\"718.5,-214 488.5,-214 488.5,-161 718.5,-161 718.5,-214\"/>\n",
       "<text text-anchor=\"middle\" x=\"603.5\" y=\"-198.8\" font-family=\"Helvetica,sans-Serif\" font-size=\"14.00\">paredblolad &lt;= 0.5</text>\n",
       "<text text-anchor=\"middle\" x=\"603.5\" y=\"-183.8\" font-family=\"Helvetica,sans-Serif\" font-size=\"14.00\">samples = 50.4%</text>\n",
       "<text text-anchor=\"middle\" x=\"603.5\" y=\"-168.8\" font-family=\"Helvetica,sans-Serif\" font-size=\"14.00\">value = [0.109, 0.247, 0.157, 0.487]</text>\n",
       "</g>\n",
       "<!-- 0&#45;&gt;966 -->\n",
       "<g id=\"edge8\" class=\"edge\">\n",
       "<title>0&#45;&gt;966</title>\n",
       "<path fill=\"none\" stroke=\"black\" d=\"M516.03,-249.87C529.29,-240.57 544.42,-229.95 558.32,-220.2\"/>\n",
       "<polygon fill=\"black\" stroke=\"black\" points=\"560.62,-222.86 566.8,-214.25 556.6,-217.13 560.62,-222.86\"/>\n",
       "<text text-anchor=\"middle\" x=\"562.48\" y=\"-235.17\" font-family=\"Helvetica,sans-Serif\" font-size=\"14.00\">False</text>\n",
       "</g>\n",
       "<!-- 2 -->\n",
       "<g id=\"node3\" class=\"node\">\n",
       "<title>2</title>\n",
       "<polygon fill=\"#e477ed\" stroke=\"black\" points=\"229,-125 0,-125 0,-72 229,-72 229,-125\"/>\n",
       "<text text-anchor=\"middle\" x=\"114.5\" y=\"-109.8\" font-family=\"Helvetica,sans-Serif\" font-size=\"14.00\">v18q1 &lt;= 0.5</text>\n",
       "<text text-anchor=\"middle\" x=\"114.5\" y=\"-94.8\" font-family=\"Helvetica,sans-Serif\" font-size=\"14.00\">samples = 34.3%</text>\n",
       "<text text-anchor=\"middle\" x=\"114.5\" y=\"-79.8\" font-family=\"Helvetica,sans-Serif\" font-size=\"14.00\">value = [0.061, 0.102, 0.115, 0.723]</text>\n",
       "</g>\n",
       "<!-- 1&#45;&gt;2 -->\n",
       "<g id=\"edge2\" class=\"edge\">\n",
       "<title>1&#45;&gt;2</title>\n",
       "<path fill=\"none\" stroke=\"black\" d=\"M284.82,-160.98C256.62,-150.8 224,-139.03 194.9,-128.52\"/>\n",
       "<polygon fill=\"black\" stroke=\"black\" points=\"195.77,-125.12 185.18,-125.01 193.4,-131.7 195.77,-125.12\"/>\n",
       "</g>\n",
       "<!-- 795 -->\n",
       "<g id=\"node6\" class=\"node\">\n",
       "<title>795</title>\n",
       "<polygon fill=\"#dc51e8\" stroke=\"black\" points=\"469.5,-125 247.5,-125 247.5,-72 469.5,-72 469.5,-125\"/>\n",
       "<text text-anchor=\"middle\" x=\"358.5\" y=\"-109.8\" font-family=\"Helvetica,sans-Serif\" font-size=\"14.00\">cielorazo &lt;= 0.5</text>\n",
       "<text text-anchor=\"middle\" x=\"358.5\" y=\"-94.8\" font-family=\"Helvetica,sans-Serif\" font-size=\"14.00\">samples = 15.3%</text>\n",
       "<text text-anchor=\"middle\" x=\"358.5\" y=\"-79.8\" font-family=\"Helvetica,sans-Serif\" font-size=\"14.00\">value = [0.03, 0.043, 0.042, 0.885]</text>\n",
       "</g>\n",
       "<!-- 1&#45;&gt;795 -->\n",
       "<g id=\"edge5\" class=\"edge\">\n",
       "<title>1&#45;&gt;795</title>\n",
       "<path fill=\"none\" stroke=\"black\" d=\"M356.38,-160.87C356.66,-152.89 356.97,-143.93 357.26,-135.38\"/>\n",
       "<polygon fill=\"black\" stroke=\"black\" points=\"360.77,-135.36 357.61,-125.25 353.77,-135.12 360.77,-135.36\"/>\n",
       "</g>\n",
       "<!-- 3 -->\n",
       "<g id=\"node4\" class=\"node\">\n",
       "<title>3</title>\n",
       "<polygon fill=\"#c0c0c0\" stroke=\"black\" points=\"105.5,-36 51.5,-36 51.5,0 105.5,0 105.5,-36\"/>\n",
       "<text text-anchor=\"middle\" x=\"78.5\" y=\"-14.3\" font-family=\"Helvetica,sans-Serif\" font-size=\"14.00\">(...)</text>\n",
       "</g>\n",
       "<!-- 2&#45;&gt;3 -->\n",
       "<g id=\"edge3\" class=\"edge\">\n",
       "<title>2&#45;&gt;3</title>\n",
       "<path fill=\"none\" stroke=\"black\" d=\"M102.71,-71.8C98.84,-63.35 94.53,-53.95 90.63,-45.45\"/>\n",
       "<polygon fill=\"black\" stroke=\"black\" points=\"93.8,-43.96 86.45,-36.33 87.43,-46.88 93.8,-43.96\"/>\n",
       "</g>\n",
       "<!-- 732 -->\n",
       "<g id=\"node5\" class=\"node\">\n",
       "<title>732</title>\n",
       "<polygon fill=\"#c0c0c0\" stroke=\"black\" points=\"177.5,-36 123.5,-36 123.5,0 177.5,0 177.5,-36\"/>\n",
       "<text text-anchor=\"middle\" x=\"150.5\" y=\"-14.3\" font-family=\"Helvetica,sans-Serif\" font-size=\"14.00\">(...)</text>\n",
       "</g>\n",
       "<!-- 2&#45;&gt;732 -->\n",
       "<g id=\"edge4\" class=\"edge\">\n",
       "<title>2&#45;&gt;732</title>\n",
       "<path fill=\"none\" stroke=\"black\" d=\"M126.29,-71.8C130.16,-63.35 134.47,-53.95 138.37,-45.45\"/>\n",
       "<polygon fill=\"black\" stroke=\"black\" points=\"141.57,-46.88 142.55,-36.33 135.2,-43.96 141.57,-46.88\"/>\n",
       "</g>\n",
       "<!-- 796 -->\n",
       "<g id=\"node7\" class=\"node\">\n",
       "<title>796</title>\n",
       "<polygon fill=\"#c0c0c0\" stroke=\"black\" points=\"349.5,-36 295.5,-36 295.5,0 349.5,0 349.5,-36\"/>\n",
       "<text text-anchor=\"middle\" x=\"322.5\" y=\"-14.3\" font-family=\"Helvetica,sans-Serif\" font-size=\"14.00\">(...)</text>\n",
       "</g>\n",
       "<!-- 795&#45;&gt;796 -->\n",
       "<g id=\"edge6\" class=\"edge\">\n",
       "<title>795&#45;&gt;796</title>\n",
       "<path fill=\"none\" stroke=\"black\" d=\"M346.71,-71.8C342.84,-63.35 338.53,-53.95 334.63,-45.45\"/>\n",
       "<polygon fill=\"black\" stroke=\"black\" points=\"337.8,-43.96 330.45,-36.33 331.43,-46.88 337.8,-43.96\"/>\n",
       "</g>\n",
       "<!-- 843 -->\n",
       "<g id=\"node8\" class=\"node\">\n",
       "<title>843</title>\n",
       "<polygon fill=\"#c0c0c0\" stroke=\"black\" points=\"421.5,-36 367.5,-36 367.5,0 421.5,0 421.5,-36\"/>\n",
       "<text text-anchor=\"middle\" x=\"394.5\" y=\"-14.3\" font-family=\"Helvetica,sans-Serif\" font-size=\"14.00\">(...)</text>\n",
       "</g>\n",
       "<!-- 795&#45;&gt;843 -->\n",
       "<g id=\"edge7\" class=\"edge\">\n",
       "<title>795&#45;&gt;843</title>\n",
       "<path fill=\"none\" stroke=\"black\" d=\"M370.29,-71.8C374.16,-63.35 378.47,-53.95 382.37,-45.45\"/>\n",
       "<polygon fill=\"black\" stroke=\"black\" points=\"385.57,-46.88 386.55,-36.33 379.2,-43.96 385.57,-46.88\"/>\n",
       "</g>\n",
       "<!-- 967 -->\n",
       "<g id=\"node10\" class=\"node\">\n",
       "<title>967</title>\n",
       "<polygon fill=\"#fdfffd\" stroke=\"black\" points=\"708,-125 493,-125 493,-72 708,-72 708,-125\"/>\n",
       "<text text-anchor=\"middle\" x=\"600.5\" y=\"-109.8\" font-family=\"Helvetica,sans-Serif\" font-size=\"14.00\">eviv3 &lt;= 0.5</text>\n",
       "<text text-anchor=\"middle\" x=\"600.5\" y=\"-94.8\" font-family=\"Helvetica,sans-Serif\" font-size=\"14.00\">samples = 23.8%</text>\n",
       "<text text-anchor=\"middle\" x=\"600.5\" y=\"-79.8\" font-family=\"Helvetica,sans-Serif\" font-size=\"14.00\">value = [0.15, 0.348, 0.16, 0.342]</text>\n",
       "</g>\n",
       "<!-- 966&#45;&gt;967 -->\n",
       "<g id=\"edge9\" class=\"edge\">\n",
       "<title>966&#45;&gt;967</title>\n",
       "<path fill=\"none\" stroke=\"black\" d=\"M602.62,-160.87C602.34,-152.89 602.03,-143.93 601.74,-135.38\"/>\n",
       "<polygon fill=\"black\" stroke=\"black\" points=\"605.23,-135.12 601.39,-125.25 598.23,-135.36 605.23,-135.12\"/>\n",
       "</g>\n",
       "<!-- 1638 -->\n",
       "<g id=\"node13\" class=\"node\">\n",
       "<title>1638</title>\n",
       "<polygon fill=\"#e993f1\" stroke=\"black\" points=\"956.5,-125 726.5,-125 726.5,-72 956.5,-72 956.5,-125\"/>\n",
       "<text text-anchor=\"middle\" x=\"841.5\" y=\"-109.8\" font-family=\"Helvetica,sans-Serif\" font-size=\"14.00\">r4m3 &lt;= 2.5</text>\n",
       "<text text-anchor=\"middle\" x=\"841.5\" y=\"-94.8\" font-family=\"Helvetica,sans-Serif\" font-size=\"14.00\">samples = 26.5%</text>\n",
       "<text text-anchor=\"middle\" x=\"841.5\" y=\"-79.8\" font-family=\"Helvetica,sans-Serif\" font-size=\"14.00\">value = [0.071, 0.157, 0.154, 0.618]</text>\n",
       "</g>\n",
       "<!-- 966&#45;&gt;1638 -->\n",
       "<g id=\"edge12\" class=\"edge\">\n",
       "<title>966&#45;&gt;1638</title>\n",
       "<path fill=\"none\" stroke=\"black\" d=\"M673.3,-160.98C701.15,-150.8 733.36,-139.03 762.1,-128.52\"/>\n",
       "<polygon fill=\"black\" stroke=\"black\" points=\"763.51,-131.74 771.7,-125.01 761.11,-125.16 763.51,-131.74\"/>\n",
       "</g>\n",
       "<!-- 968 -->\n",
       "<g id=\"node11\" class=\"node\">\n",
       "<title>968</title>\n",
       "<polygon fill=\"#c0c0c0\" stroke=\"black\" points=\"591.5,-36 537.5,-36 537.5,0 591.5,0 591.5,-36\"/>\n",
       "<text text-anchor=\"middle\" x=\"564.5\" y=\"-14.3\" font-family=\"Helvetica,sans-Serif\" font-size=\"14.00\">(...)</text>\n",
       "</g>\n",
       "<!-- 967&#45;&gt;968 -->\n",
       "<g id=\"edge10\" class=\"edge\">\n",
       "<title>967&#45;&gt;968</title>\n",
       "<path fill=\"none\" stroke=\"black\" d=\"M588.71,-71.8C584.84,-63.35 580.53,-53.95 576.63,-45.45\"/>\n",
       "<polygon fill=\"black\" stroke=\"black\" points=\"579.8,-43.96 572.45,-36.33 573.43,-46.88 579.8,-43.96\"/>\n",
       "</g>\n",
       "<!-- 1307 -->\n",
       "<g id=\"node12\" class=\"node\">\n",
       "<title>1307</title>\n",
       "<polygon fill=\"#c0c0c0\" stroke=\"black\" points=\"663.5,-36 609.5,-36 609.5,0 663.5,0 663.5,-36\"/>\n",
       "<text text-anchor=\"middle\" x=\"636.5\" y=\"-14.3\" font-family=\"Helvetica,sans-Serif\" font-size=\"14.00\">(...)</text>\n",
       "</g>\n",
       "<!-- 967&#45;&gt;1307 -->\n",
       "<g id=\"edge11\" class=\"edge\">\n",
       "<title>967&#45;&gt;1307</title>\n",
       "<path fill=\"none\" stroke=\"black\" d=\"M612.29,-71.8C616.16,-63.35 620.47,-53.95 624.37,-45.45\"/>\n",
       "<polygon fill=\"black\" stroke=\"black\" points=\"627.57,-46.88 628.55,-36.33 621.2,-43.96 627.57,-46.88\"/>\n",
       "</g>\n",
       "<!-- 1639 -->\n",
       "<g id=\"node14\" class=\"node\">\n",
       "<title>1639</title>\n",
       "<polygon fill=\"#c0c0c0\" stroke=\"black\" points=\"832.5,-36 778.5,-36 778.5,0 832.5,0 832.5,-36\"/>\n",
       "<text text-anchor=\"middle\" x=\"805.5\" y=\"-14.3\" font-family=\"Helvetica,sans-Serif\" font-size=\"14.00\">(...)</text>\n",
       "</g>\n",
       "<!-- 1638&#45;&gt;1639 -->\n",
       "<g id=\"edge13\" class=\"edge\">\n",
       "<title>1638&#45;&gt;1639</title>\n",
       "<path fill=\"none\" stroke=\"black\" d=\"M829.71,-71.8C825.84,-63.35 821.53,-53.95 817.63,-45.45\"/>\n",
       "<polygon fill=\"black\" stroke=\"black\" points=\"820.8,-43.96 813.45,-36.33 814.43,-46.88 820.8,-43.96\"/>\n",
       "</g>\n",
       "<!-- 2036 -->\n",
       "<g id=\"node15\" class=\"node\">\n",
       "<title>2036</title>\n",
       "<polygon fill=\"#c0c0c0\" stroke=\"black\" points=\"904.5,-36 850.5,-36 850.5,0 904.5,0 904.5,-36\"/>\n",
       "<text text-anchor=\"middle\" x=\"877.5\" y=\"-14.3\" font-family=\"Helvetica,sans-Serif\" font-size=\"14.00\">(...)</text>\n",
       "</g>\n",
       "<!-- 1638&#45;&gt;2036 -->\n",
       "<g id=\"edge14\" class=\"edge\">\n",
       "<title>1638&#45;&gt;2036</title>\n",
       "<path fill=\"none\" stroke=\"black\" d=\"M853.29,-71.8C857.16,-63.35 861.47,-53.95 865.37,-45.45\"/>\n",
       "<polygon fill=\"black\" stroke=\"black\" points=\"868.57,-46.88 869.55,-36.33 862.2,-43.96 868.57,-46.88\"/>\n",
       "</g>\n",
       "</g>\n",
       "</svg>\n"
      ],
      "text/plain": [
       "<graphviz.sources.Source at 0x17d8b623590>"
      ]
     },
     "metadata": {},
     "output_type": "display_data"
    },
    {
     "data": {
      "image/svg+xml": [
       "<?xml version=\"1.0\" encoding=\"UTF-8\" standalone=\"no\"?>\n",
       "<!DOCTYPE svg PUBLIC \"-//W3C//DTD SVG 1.1//EN\"\n",
       " \"http://www.w3.org/Graphics/SVG/1.1/DTD/svg11.dtd\">\n",
       "<!-- Generated by graphviz version 2.50.0 (0)\n",
       " -->\n",
       "<!-- Title: Tree Pages: 1 -->\n",
       "<svg width=\"946pt\" height=\"311pt\"\n",
       " viewBox=\"0.00 0.00 946.00 311.00\" xmlns=\"http://www.w3.org/2000/svg\" xmlns:xlink=\"http://www.w3.org/1999/xlink\">\n",
       "<g id=\"graph0\" class=\"graph\" transform=\"scale(1 1) rotate(0) translate(4 307)\">\n",
       "<title>Tree</title>\n",
       "<polygon fill=\"white\" stroke=\"transparent\" points=\"-4,4 -4,-307 942,-307 942,4 -4,4\"/>\n",
       "<!-- 0 -->\n",
       "<g id=\"node1\" class=\"node\">\n",
       "<title>0</title>\n",
       "<polygon fill=\"#e992f1\" stroke=\"black\" points=\"583.5,-303 353.5,-303 353.5,-250 583.5,-250 583.5,-303\"/>\n",
       "<text text-anchor=\"middle\" x=\"468.5\" y=\"-287.8\" font-family=\"Helvetica,sans-Serif\" font-size=\"14.00\">edjefe &lt;= 10.5</text>\n",
       "<text text-anchor=\"middle\" x=\"468.5\" y=\"-272.8\" font-family=\"Helvetica,sans-Serif\" font-size=\"14.00\">samples = 100.0%</text>\n",
       "<text text-anchor=\"middle\" x=\"468.5\" y=\"-257.8\" font-family=\"Helvetica,sans-Serif\" font-size=\"14.00\">value = [0.078, 0.165, 0.131, 0.627]</text>\n",
       "</g>\n",
       "<!-- 1 -->\n",
       "<g id=\"node2\" class=\"node\">\n",
       "<title>1</title>\n",
       "<polygon fill=\"#eca3f3\" stroke=\"black\" points=\"459.5,-214 229.5,-214 229.5,-161 459.5,-161 459.5,-214\"/>\n",
       "<text text-anchor=\"middle\" x=\"344.5\" y=\"-198.8\" font-family=\"Helvetica,sans-Serif\" font-size=\"14.00\">SQBmeaned &lt;= 57.005</text>\n",
       "<text text-anchor=\"middle\" x=\"344.5\" y=\"-183.8\" font-family=\"Helvetica,sans-Serif\" font-size=\"14.00\">samples = 80.7%</text>\n",
       "<text text-anchor=\"middle\" x=\"344.5\" y=\"-168.8\" font-family=\"Helvetica,sans-Serif\" font-size=\"14.00\">value = [0.092, 0.192, 0.147, 0.569]</text>\n",
       "</g>\n",
       "<!-- 0&#45;&gt;1 -->\n",
       "<g id=\"edge1\" class=\"edge\">\n",
       "<title>0&#45;&gt;1</title>\n",
       "<path fill=\"none\" stroke=\"black\" d=\"M431.97,-249.87C418.71,-240.57 403.58,-229.95 389.68,-220.2\"/>\n",
       "<polygon fill=\"black\" stroke=\"black\" points=\"391.4,-217.13 381.2,-214.25 387.38,-222.86 391.4,-217.13\"/>\n",
       "<text text-anchor=\"middle\" x=\"385.52\" y=\"-235.17\" font-family=\"Helvetica,sans-Serif\" font-size=\"14.00\">True</text>\n",
       "</g>\n",
       "<!-- 2060 -->\n",
       "<g id=\"node9\" class=\"node\">\n",
       "<title>2060</title>\n",
       "<polygon fill=\"#dd56e9\" stroke=\"black\" points=\"707.5,-214 477.5,-214 477.5,-161 707.5,-161 707.5,-214\"/>\n",
       "<text text-anchor=\"middle\" x=\"592.5\" y=\"-198.8\" font-family=\"Helvetica,sans-Serif\" font-size=\"14.00\">eviv3 &lt;= 0.5</text>\n",
       "<text text-anchor=\"middle\" x=\"592.5\" y=\"-183.8\" font-family=\"Helvetica,sans-Serif\" font-size=\"14.00\">samples = 19.3%</text>\n",
       "<text text-anchor=\"middle\" x=\"592.5\" y=\"-168.8\" font-family=\"Helvetica,sans-Serif\" font-size=\"14.00\">value = [0.021, 0.054, 0.062, 0.863]</text>\n",
       "</g>\n",
       "<!-- 0&#45;&gt;2060 -->\n",
       "<g id=\"edge8\" class=\"edge\">\n",
       "<title>0&#45;&gt;2060</title>\n",
       "<path fill=\"none\" stroke=\"black\" d=\"M505.03,-249.87C518.29,-240.57 533.42,-229.95 547.32,-220.2\"/>\n",
       "<polygon fill=\"black\" stroke=\"black\" points=\"549.62,-222.86 555.8,-214.25 545.6,-217.13 549.62,-222.86\"/>\n",
       "<text text-anchor=\"middle\" x=\"551.48\" y=\"-235.17\" font-family=\"Helvetica,sans-Serif\" font-size=\"14.00\">False</text>\n",
       "</g>\n",
       "<!-- 2 -->\n",
       "<g id=\"node3\" class=\"node\">\n",
       "<title>2</title>\n",
       "<polygon fill=\"#f7d6fa\" stroke=\"black\" points=\"221,-125 0,-125 0,-72 221,-72 221,-125\"/>\n",
       "<text text-anchor=\"middle\" x=\"110.5\" y=\"-109.8\" font-family=\"Helvetica,sans-Serif\" font-size=\"14.00\">dependency &lt;= 1.417</text>\n",
       "<text text-anchor=\"middle\" x=\"110.5\" y=\"-94.8\" font-family=\"Helvetica,sans-Serif\" font-size=\"14.00\">samples = 38.5%</text>\n",
       "<text text-anchor=\"middle\" x=\"110.5\" y=\"-79.8\" font-family=\"Helvetica,sans-Serif\" font-size=\"14.00\">value = [0.117, 0.272, 0.19, 0.422]</text>\n",
       "</g>\n",
       "<!-- 1&#45;&gt;2 -->\n",
       "<g id=\"edge2\" class=\"edge\">\n",
       "<title>1&#45;&gt;2</title>\n",
       "<path fill=\"none\" stroke=\"black\" d=\"M275.87,-160.98C248.49,-150.8 216.82,-139.03 188.56,-128.52\"/>\n",
       "<polygon fill=\"black\" stroke=\"black\" points=\"189.72,-125.22 179.13,-125.01 187.28,-131.78 189.72,-125.22\"/>\n",
       "</g>\n",
       "<!-- 1145 -->\n",
       "<g id=\"node6\" class=\"node\">\n",
       "<title>1145</title>\n",
       "<polygon fill=\"#e57dee\" stroke=\"black\" points=\"453.5,-125 239.5,-125 239.5,-72 453.5,-72 453.5,-125\"/>\n",
       "<text text-anchor=\"middle\" x=\"346.5\" y=\"-109.8\" font-family=\"Helvetica,sans-Serif\" font-size=\"14.00\">cielorazo &lt;= 0.5</text>\n",
       "<text text-anchor=\"middle\" x=\"346.5\" y=\"-94.8\" font-family=\"Helvetica,sans-Serif\" font-size=\"14.00\">samples = 42.2%</text>\n",
       "<text text-anchor=\"middle\" x=\"346.5\" y=\"-79.8\" font-family=\"Helvetica,sans-Serif\" font-size=\"14.00\">value = [0.07, 0.121, 0.11, 0.699]</text>\n",
       "</g>\n",
       "<!-- 1&#45;&gt;1145 -->\n",
       "<g id=\"edge5\" class=\"edge\">\n",
       "<title>1&#45;&gt;1145</title>\n",
       "<path fill=\"none\" stroke=\"black\" d=\"M345.09,-160.87C345.27,-152.89 345.48,-143.93 345.68,-135.38\"/>\n",
       "<polygon fill=\"black\" stroke=\"black\" points=\"349.18,-135.33 345.91,-125.25 342.18,-135.17 349.18,-135.33\"/>\n",
       "</g>\n",
       "<!-- 3 -->\n",
       "<g id=\"node4\" class=\"node\">\n",
       "<title>3</title>\n",
       "<polygon fill=\"#c0c0c0\" stroke=\"black\" points=\"101.5,-36 47.5,-36 47.5,0 101.5,0 101.5,-36\"/>\n",
       "<text text-anchor=\"middle\" x=\"74.5\" y=\"-14.3\" font-family=\"Helvetica,sans-Serif\" font-size=\"14.00\">(...)</text>\n",
       "</g>\n",
       "<!-- 2&#45;&gt;3 -->\n",
       "<g id=\"edge3\" class=\"edge\">\n",
       "<title>2&#45;&gt;3</title>\n",
       "<path fill=\"none\" stroke=\"black\" d=\"M98.71,-71.8C94.84,-63.35 90.53,-53.95 86.63,-45.45\"/>\n",
       "<polygon fill=\"black\" stroke=\"black\" points=\"89.8,-43.96 82.45,-36.33 83.43,-46.88 89.8,-43.96\"/>\n",
       "</g>\n",
       "<!-- 794 -->\n",
       "<g id=\"node5\" class=\"node\">\n",
       "<title>794</title>\n",
       "<polygon fill=\"#c0c0c0\" stroke=\"black\" points=\"173.5,-36 119.5,-36 119.5,0 173.5,0 173.5,-36\"/>\n",
       "<text text-anchor=\"middle\" x=\"146.5\" y=\"-14.3\" font-family=\"Helvetica,sans-Serif\" font-size=\"14.00\">(...)</text>\n",
       "</g>\n",
       "<!-- 2&#45;&gt;794 -->\n",
       "<g id=\"edge4\" class=\"edge\">\n",
       "<title>2&#45;&gt;794</title>\n",
       "<path fill=\"none\" stroke=\"black\" d=\"M122.29,-71.8C126.16,-63.35 130.47,-53.95 134.37,-45.45\"/>\n",
       "<polygon fill=\"black\" stroke=\"black\" points=\"137.57,-46.88 138.55,-36.33 131.2,-43.96 137.57,-46.88\"/>\n",
       "</g>\n",
       "<!-- 1146 -->\n",
       "<g id=\"node7\" class=\"node\">\n",
       "<title>1146</title>\n",
       "<polygon fill=\"#c0c0c0\" stroke=\"black\" points=\"337.5,-36 283.5,-36 283.5,0 337.5,0 337.5,-36\"/>\n",
       "<text text-anchor=\"middle\" x=\"310.5\" y=\"-14.3\" font-family=\"Helvetica,sans-Serif\" font-size=\"14.00\">(...)</text>\n",
       "</g>\n",
       "<!-- 1145&#45;&gt;1146 -->\n",
       "<g id=\"edge6\" class=\"edge\">\n",
       "<title>1145&#45;&gt;1146</title>\n",
       "<path fill=\"none\" stroke=\"black\" d=\"M334.71,-71.8C330.84,-63.35 326.53,-53.95 322.63,-45.45\"/>\n",
       "<polygon fill=\"black\" stroke=\"black\" points=\"325.8,-43.96 318.45,-36.33 319.43,-46.88 325.8,-43.96\"/>\n",
       "</g>\n",
       "<!-- 1405 -->\n",
       "<g id=\"node8\" class=\"node\">\n",
       "<title>1405</title>\n",
       "<polygon fill=\"#c0c0c0\" stroke=\"black\" points=\"409.5,-36 355.5,-36 355.5,0 409.5,0 409.5,-36\"/>\n",
       "<text text-anchor=\"middle\" x=\"382.5\" y=\"-14.3\" font-family=\"Helvetica,sans-Serif\" font-size=\"14.00\">(...)</text>\n",
       "</g>\n",
       "<!-- 1145&#45;&gt;1405 -->\n",
       "<g id=\"edge7\" class=\"edge\">\n",
       "<title>1145&#45;&gt;1405</title>\n",
       "<path fill=\"none\" stroke=\"black\" d=\"M358.29,-71.8C362.16,-63.35 366.47,-53.95 370.37,-45.45\"/>\n",
       "<polygon fill=\"black\" stroke=\"black\" points=\"373.57,-46.88 374.55,-36.33 367.2,-43.96 373.57,-46.88\"/>\n",
       "</g>\n",
       "<!-- 2061 -->\n",
       "<g id=\"node10\" class=\"node\">\n",
       "<title>2061</title>\n",
       "<polygon fill=\"#e88ff0\" stroke=\"black\" points=\"705,-125 476,-125 476,-72 705,-72 705,-125\"/>\n",
       "<text text-anchor=\"middle\" x=\"590.5\" y=\"-109.8\" font-family=\"Helvetica,sans-Serif\" font-size=\"14.00\">r4m3 &lt;= 2.5</text>\n",
       "<text text-anchor=\"middle\" x=\"590.5\" y=\"-94.8\" font-family=\"Helvetica,sans-Serif\" font-size=\"14.00\">samples = 2.9%</text>\n",
       "<text text-anchor=\"middle\" x=\"590.5\" y=\"-79.8\" font-family=\"Helvetica,sans-Serif\" font-size=\"14.00\">value = [0.049, 0.211, 0.083, 0.657]</text>\n",
       "</g>\n",
       "<!-- 2060&#45;&gt;2061 -->\n",
       "<g id=\"edge9\" class=\"edge\">\n",
       "<title>2060&#45;&gt;2061</title>\n",
       "<path fill=\"none\" stroke=\"black\" d=\"M591.91,-160.87C591.73,-152.89 591.52,-143.93 591.32,-135.38\"/>\n",
       "<polygon fill=\"black\" stroke=\"black\" points=\"594.82,-135.17 591.09,-125.25 587.82,-135.33 594.82,-135.17\"/>\n",
       "</g>\n",
       "<!-- 2146 -->\n",
       "<g id=\"node13\" class=\"node\">\n",
       "<title>2146</title>\n",
       "<polygon fill=\"#db4ee8\" stroke=\"black\" points=\"938,-125 723,-125 723,-72 938,-72 938,-125\"/>\n",
       "<text text-anchor=\"middle\" x=\"830.5\" y=\"-109.8\" font-family=\"Helvetica,sans-Serif\" font-size=\"14.00\">tamviv &lt;= 10.0</text>\n",
       "<text text-anchor=\"middle\" x=\"830.5\" y=\"-94.8\" font-family=\"Helvetica,sans-Serif\" font-size=\"14.00\">samples = 16.4%</text>\n",
       "<text text-anchor=\"middle\" x=\"830.5\" y=\"-79.8\" font-family=\"Helvetica,sans-Serif\" font-size=\"14.00\">value = [0.016, 0.025, 0.058, 0.9]</text>\n",
       "</g>\n",
       "<!-- 2060&#45;&gt;2146 -->\n",
       "<g id=\"edge12\" class=\"edge\">\n",
       "<title>2060&#45;&gt;2146</title>\n",
       "<path fill=\"none\" stroke=\"black\" d=\"M662.3,-160.98C690.15,-150.8 722.36,-139.03 751.1,-128.52\"/>\n",
       "<polygon fill=\"black\" stroke=\"black\" points=\"752.51,-131.74 760.7,-125.01 750.11,-125.16 752.51,-131.74\"/>\n",
       "</g>\n",
       "<!-- 2062 -->\n",
       "<g id=\"node11\" class=\"node\">\n",
       "<title>2062</title>\n",
       "<polygon fill=\"#c0c0c0\" stroke=\"black\" points=\"581.5,-36 527.5,-36 527.5,0 581.5,0 581.5,-36\"/>\n",
       "<text text-anchor=\"middle\" x=\"554.5\" y=\"-14.3\" font-family=\"Helvetica,sans-Serif\" font-size=\"14.00\">(...)</text>\n",
       "</g>\n",
       "<!-- 2061&#45;&gt;2062 -->\n",
       "<g id=\"edge10\" class=\"edge\">\n",
       "<title>2061&#45;&gt;2062</title>\n",
       "<path fill=\"none\" stroke=\"black\" d=\"M578.71,-71.8C574.84,-63.35 570.53,-53.95 566.63,-45.45\"/>\n",
       "<polygon fill=\"black\" stroke=\"black\" points=\"569.8,-43.96 562.45,-36.33 563.43,-46.88 569.8,-43.96\"/>\n",
       "</g>\n",
       "<!-- 2119 -->\n",
       "<g id=\"node12\" class=\"node\">\n",
       "<title>2119</title>\n",
       "<polygon fill=\"#c0c0c0\" stroke=\"black\" points=\"653.5,-36 599.5,-36 599.5,0 653.5,0 653.5,-36\"/>\n",
       "<text text-anchor=\"middle\" x=\"626.5\" y=\"-14.3\" font-family=\"Helvetica,sans-Serif\" font-size=\"14.00\">(...)</text>\n",
       "</g>\n",
       "<!-- 2061&#45;&gt;2119 -->\n",
       "<g id=\"edge11\" class=\"edge\">\n",
       "<title>2061&#45;&gt;2119</title>\n",
       "<path fill=\"none\" stroke=\"black\" d=\"M602.29,-71.8C606.16,-63.35 610.47,-53.95 614.37,-45.45\"/>\n",
       "<polygon fill=\"black\" stroke=\"black\" points=\"617.57,-46.88 618.55,-36.33 611.2,-43.96 617.57,-46.88\"/>\n",
       "</g>\n",
       "<!-- 2147 -->\n",
       "<g id=\"node14\" class=\"node\">\n",
       "<title>2147</title>\n",
       "<polygon fill=\"#c0c0c0\" stroke=\"black\" points=\"821.5,-36 767.5,-36 767.5,0 821.5,0 821.5,-36\"/>\n",
       "<text text-anchor=\"middle\" x=\"794.5\" y=\"-14.3\" font-family=\"Helvetica,sans-Serif\" font-size=\"14.00\">(...)</text>\n",
       "</g>\n",
       "<!-- 2146&#45;&gt;2147 -->\n",
       "<g id=\"edge13\" class=\"edge\">\n",
       "<title>2146&#45;&gt;2147</title>\n",
       "<path fill=\"none\" stroke=\"black\" d=\"M818.71,-71.8C814.84,-63.35 810.53,-53.95 806.63,-45.45\"/>\n",
       "<polygon fill=\"black\" stroke=\"black\" points=\"809.8,-43.96 802.45,-36.33 803.43,-46.88 809.8,-43.96\"/>\n",
       "</g>\n",
       "<!-- 2298 -->\n",
       "<g id=\"node15\" class=\"node\">\n",
       "<title>2298</title>\n",
       "<polygon fill=\"#c0c0c0\" stroke=\"black\" points=\"893.5,-36 839.5,-36 839.5,0 893.5,0 893.5,-36\"/>\n",
       "<text text-anchor=\"middle\" x=\"866.5\" y=\"-14.3\" font-family=\"Helvetica,sans-Serif\" font-size=\"14.00\">(...)</text>\n",
       "</g>\n",
       "<!-- 2146&#45;&gt;2298 -->\n",
       "<g id=\"edge14\" class=\"edge\">\n",
       "<title>2146&#45;&gt;2298</title>\n",
       "<path fill=\"none\" stroke=\"black\" d=\"M842.29,-71.8C846.16,-63.35 850.47,-53.95 854.37,-45.45\"/>\n",
       "<polygon fill=\"black\" stroke=\"black\" points=\"857.57,-46.88 858.55,-36.33 851.2,-43.96 857.57,-46.88\"/>\n",
       "</g>\n",
       "</g>\n",
       "</svg>\n"
      ],
      "text/plain": [
       "<graphviz.sources.Source at 0x17d8fc1f0d0>"
      ]
     },
     "metadata": {},
     "output_type": "display_data"
    }
   ],
   "source": [
    "for i in range(3):\n",
    "    tree = rf.estimators_[i]\n",
    "    dot_data = export_graphviz(tree,\n",
    "                               feature_names=X_train.columns,  \n",
    "                               filled=True,  \n",
    "                               max_depth=2, \n",
    "                               impurity=False, \n",
    "                               proportion=True)\n",
    "    graph = graphviz.Source(dot_data)\n",
    "    display(graph)"
   ]
  },
  {
   "cell_type": "markdown",
   "id": "2b1472ea",
   "metadata": {},
   "source": [
    "### Hyperparam on base model with RandomizedSearchCV"
   ]
  },
  {
   "cell_type": "code",
   "execution_count": 62,
   "id": "57ccda06",
   "metadata": {},
   "outputs": [
    {
     "data": {
      "text/html": [
       "<style>#sk-container-id-2 {color: black;}#sk-container-id-2 pre{padding: 0;}#sk-container-id-2 div.sk-toggleable {background-color: white;}#sk-container-id-2 label.sk-toggleable__label {cursor: pointer;display: block;width: 100%;margin-bottom: 0;padding: 0.3em;box-sizing: border-box;text-align: center;}#sk-container-id-2 label.sk-toggleable__label-arrow:before {content: \"▸\";float: left;margin-right: 0.25em;color: #696969;}#sk-container-id-2 label.sk-toggleable__label-arrow:hover:before {color: black;}#sk-container-id-2 div.sk-estimator:hover label.sk-toggleable__label-arrow:before {color: black;}#sk-container-id-2 div.sk-toggleable__content {max-height: 0;max-width: 0;overflow: hidden;text-align: left;background-color: #f0f8ff;}#sk-container-id-2 div.sk-toggleable__content pre {margin: 0.2em;color: black;border-radius: 0.25em;background-color: #f0f8ff;}#sk-container-id-2 input.sk-toggleable__control:checked~div.sk-toggleable__content {max-height: 200px;max-width: 100%;overflow: auto;}#sk-container-id-2 input.sk-toggleable__control:checked~label.sk-toggleable__label-arrow:before {content: \"▾\";}#sk-container-id-2 div.sk-estimator input.sk-toggleable__control:checked~label.sk-toggleable__label {background-color: #d4ebff;}#sk-container-id-2 div.sk-label input.sk-toggleable__control:checked~label.sk-toggleable__label {background-color: #d4ebff;}#sk-container-id-2 input.sk-hidden--visually {border: 0;clip: rect(1px 1px 1px 1px);clip: rect(1px, 1px, 1px, 1px);height: 1px;margin: -1px;overflow: hidden;padding: 0;position: absolute;width: 1px;}#sk-container-id-2 div.sk-estimator {font-family: monospace;background-color: #f0f8ff;border: 1px dotted black;border-radius: 0.25em;box-sizing: border-box;margin-bottom: 0.5em;}#sk-container-id-2 div.sk-estimator:hover {background-color: #d4ebff;}#sk-container-id-2 div.sk-parallel-item::after {content: \"\";width: 100%;border-bottom: 1px solid gray;flex-grow: 1;}#sk-container-id-2 div.sk-label:hover label.sk-toggleable__label {background-color: #d4ebff;}#sk-container-id-2 div.sk-serial::before {content: \"\";position: absolute;border-left: 1px solid gray;box-sizing: border-box;top: 0;bottom: 0;left: 50%;z-index: 0;}#sk-container-id-2 div.sk-serial {display: flex;flex-direction: column;align-items: center;background-color: white;padding-right: 0.2em;padding-left: 0.2em;position: relative;}#sk-container-id-2 div.sk-item {position: relative;z-index: 1;}#sk-container-id-2 div.sk-parallel {display: flex;align-items: stretch;justify-content: center;background-color: white;position: relative;}#sk-container-id-2 div.sk-item::before, #sk-container-id-2 div.sk-parallel-item::before {content: \"\";position: absolute;border-left: 1px solid gray;box-sizing: border-box;top: 0;bottom: 0;left: 50%;z-index: -1;}#sk-container-id-2 div.sk-parallel-item {display: flex;flex-direction: column;z-index: 1;position: relative;background-color: white;}#sk-container-id-2 div.sk-parallel-item:first-child::after {align-self: flex-end;width: 50%;}#sk-container-id-2 div.sk-parallel-item:last-child::after {align-self: flex-start;width: 50%;}#sk-container-id-2 div.sk-parallel-item:only-child::after {width: 0;}#sk-container-id-2 div.sk-dashed-wrapped {border: 1px dashed gray;margin: 0 0.4em 0.5em 0.4em;box-sizing: border-box;padding-bottom: 0.4em;background-color: white;}#sk-container-id-2 div.sk-label label {font-family: monospace;font-weight: bold;display: inline-block;line-height: 1.2em;}#sk-container-id-2 div.sk-label-container {text-align: center;}#sk-container-id-2 div.sk-container {/* jupyter's `normalize.less` sets `[hidden] { display: none; }` but bootstrap.min.css set `[hidden] { display: none !important; }` so we also need the `!important` here to be able to override the default hidden behavior on the sphinx rendered scikit-learn.org. See: https://github.com/scikit-learn/scikit-learn/issues/21755 */display: inline-block !important;position: relative;}#sk-container-id-2 div.sk-text-repr-fallback {display: none;}</style><div id=\"sk-container-id-2\" class=\"sk-top-container\"><div class=\"sk-text-repr-fallback\"><pre>RandomizedSearchCV(cv=5, estimator=RandomForestClassifier(), n_iter=5,\n",
       "                   param_distributions={&#x27;max_depth&#x27;: &lt;scipy.stats._distn_infrastructure.rv_discrete_frozen object at 0x0000017D8DA5BB90&gt;,\n",
       "                                        &#x27;n_estimators&#x27;: &lt;scipy.stats._distn_infrastructure.rv_discrete_frozen object at 0x0000017D8FCB5CD0&gt;})</pre><b>In a Jupyter environment, please rerun this cell to show the HTML representation or trust the notebook. <br />On GitHub, the HTML representation is unable to render, please try loading this page with nbviewer.org.</b></div><div class=\"sk-container\" hidden><div class=\"sk-item sk-dashed-wrapped\"><div class=\"sk-label-container\"><div class=\"sk-label sk-toggleable\"><input class=\"sk-toggleable__control sk-hidden--visually\" id=\"sk-estimator-id-2\" type=\"checkbox\" ><label for=\"sk-estimator-id-2\" class=\"sk-toggleable__label sk-toggleable__label-arrow\">RandomizedSearchCV</label><div class=\"sk-toggleable__content\"><pre>RandomizedSearchCV(cv=5, estimator=RandomForestClassifier(), n_iter=5,\n",
       "                   param_distributions={&#x27;max_depth&#x27;: &lt;scipy.stats._distn_infrastructure.rv_discrete_frozen object at 0x0000017D8DA5BB90&gt;,\n",
       "                                        &#x27;n_estimators&#x27;: &lt;scipy.stats._distn_infrastructure.rv_discrete_frozen object at 0x0000017D8FCB5CD0&gt;})</pre></div></div></div><div class=\"sk-parallel\"><div class=\"sk-parallel-item\"><div class=\"sk-item\"><div class=\"sk-label-container\"><div class=\"sk-label sk-toggleable\"><input class=\"sk-toggleable__control sk-hidden--visually\" id=\"sk-estimator-id-3\" type=\"checkbox\" ><label for=\"sk-estimator-id-3\" class=\"sk-toggleable__label sk-toggleable__label-arrow\">estimator: RandomForestClassifier</label><div class=\"sk-toggleable__content\"><pre>RandomForestClassifier()</pre></div></div></div><div class=\"sk-serial\"><div class=\"sk-item\"><div class=\"sk-estimator sk-toggleable\"><input class=\"sk-toggleable__control sk-hidden--visually\" id=\"sk-estimator-id-4\" type=\"checkbox\" ><label for=\"sk-estimator-id-4\" class=\"sk-toggleable__label sk-toggleable__label-arrow\">RandomForestClassifier</label><div class=\"sk-toggleable__content\"><pre>RandomForestClassifier()</pre></div></div></div></div></div></div></div></div></div></div>"
      ],
      "text/plain": [
       "RandomizedSearchCV(cv=5, estimator=RandomForestClassifier(), n_iter=5,\n",
       "                   param_distributions={'max_depth': <scipy.stats._distn_infrastructure.rv_discrete_frozen object at 0x0000017D8DA5BB90>,\n",
       "                                        'n_estimators': <scipy.stats._distn_infrastructure.rv_discrete_frozen object at 0x0000017D8FCB5CD0>})"
      ]
     },
     "execution_count": 62,
     "metadata": {},
     "output_type": "execute_result"
    }
   ],
   "source": [
    "#Hyper Parameter Tuning of Random Forest Using RandomizedSearchCV\n",
    "\n",
    "param_dist = {'n_estimators': randint(50,500),\n",
    "             'max_depth': randint(1,20)}\n",
    "\n",
    "# Create a random forest classifier\n",
    "rf = RandomForestClassifier()\n",
    "\n",
    "rand_search = RandomizedSearchCV(rf,\n",
    "                                param_distributions = param_dist,\n",
    "                                n_iter = 5,\n",
    "                                cv = 5)\n",
    "\n",
    "# Fit the random search object to the data\n",
    "rand_search.fit(X_train, y_train)"
   ]
  },
  {
   "cell_type": "code",
   "execution_count": 63,
   "id": "0bc7cf4a",
   "metadata": {},
   "outputs": [
    {
     "name": "stdout",
     "output_type": "stream",
     "text": [
      "Best hyperparameters: {'max_depth': 18, 'n_estimators': 161}\n"
     ]
    }
   ],
   "source": [
    "# Best Model RandomizedSearchCV\n",
    "best_rf = rand_search.best_estimator_\n",
    "\n",
    "# Print the best hyperparameters\n",
    "print('Best hyperparameters:',  rand_search.best_params_)"
   ]
  },
  {
   "cell_type": "markdown",
   "id": "055532a7",
   "metadata": {},
   "source": [
    "### Qn 10. Rerun Random Forest based on Best Hyperparameters and Running K Fold CV "
   ]
  },
  {
   "cell_type": "code",
   "execution_count": 64,
   "id": "8895224f",
   "metadata": {},
   "outputs": [
    {
     "name": "stdout",
     "output_type": "stream",
     "text": [
      "              precision    recall  f1-score   support\n",
      "\n",
      "           1       0.99      0.85      0.91       235\n",
      "           2       0.97      0.81      0.89       478\n",
      "           3       1.00      0.70      0.82       370\n",
      "           4       0.89      1.00      0.94      1785\n",
      "\n",
      "    accuracy                           0.92      2868\n",
      "   macro avg       0.96      0.84      0.89      2868\n",
      "weighted avg       0.92      0.92      0.91      2868\n",
      "\n",
      "Accuracy: 0.9163179916317992\n"
     ]
    }
   ],
   "source": [
    "#Rerun RF on test data with new hyperparams RandomizedSearchCV\n",
    "\n",
    "# Create the best Random Forest model with the best hyperparameters\n",
    "best_rf = RandomForestClassifier(max_depth=17, n_estimators=299)\n",
    "\n",
    "# Fit the model on the training data\n",
    "best_rf.fit(X_train, y_train)\n",
    "\n",
    "# Make predictions on the test data\n",
    "rand_y_pred = best_rf.predict(X_test)\n",
    "\n",
    "\n",
    "# Evaluate the model's performance\n",
    "rand_accuracy = accuracy_score(y_test, rand_y_pred)\n",
    "rand_report = classification_report(y_test, rand_y_pred)\n",
    "accuracy = accuracy_score(y_test, rand_y_pred)\n",
    "print(rand_report)\n",
    "print(\"Accuracy:\", rand_accuracy)"
   ]
  },
  {
   "cell_type": "code",
   "execution_count": 65,
   "id": "a2c4be71",
   "metadata": {},
   "outputs": [],
   "source": [
    "# Running Kfold Cross Validation RandomizedSearchCV\n",
    "from sklearn.model_selection import StratifiedKFold\n",
    "\n",
    "# Define the number of folds (k)\n",
    "k = 5\n",
    "\n",
    "# Create the KFold object\n",
    "kf = StratifiedKFold(n_splits=k, shuffle=True, random_state=42)\n",
    "\n",
    "# Create a RandomForestClassifier using the same best hyperparams\n",
    "rf = RandomForestClassifier(max_depth=17, n_estimators=299)\n",
    "\n",
    "# Lists to store the accuracy scores for each fold\n",
    "accuracies = []"
   ]
  },
  {
   "cell_type": "code",
   "execution_count": 66,
   "id": "12aecc93",
   "metadata": {},
   "outputs": [
    {
     "name": "stdout",
     "output_type": "stream",
     "text": [
      "Average Accuracy across 5-fold CV: 0.90697350069735\n"
     ]
    }
   ],
   "source": [
    "# Create a 70/30 train/test split 5 fold RandomizedSearchCV\n",
    "X_train, X_test, y_train, y_test = train_test_split(X, y, test_size=0.3, random_state=42)\n",
    "\n",
    "# Iterate through the folds\n",
    "for _ in range(k):\n",
    "    # Fit the model on the training data\n",
    "    best_rf.fit(X_train, y_train)\n",
    "    \n",
    "# Make predictions on the test data\n",
    "    best_y_pred = best_rf.predict(X_test)\n",
    "\n",
    "    # Calculate accuracy for this fold and store it\n",
    "    accuracy = accuracy_score(y_test, best_y_pred)\n",
    "    accuracies.append(accuracy)\n",
    "    \n",
    "# Calculate and print the average accuracy across all folds\n",
    "average_accuracy = sum(accuracies) / len(accuracies)\n",
    "print(f'Average Accuracy across {k}-fold CV: {average_accuracy}')"
   ]
  },
  {
   "cell_type": "code",
   "execution_count": 67,
   "id": "b8d3ad1c",
   "metadata": {},
   "outputs": [],
   "source": [
    "# Running Kfold Cross Validation RandomizedSearchCV\n",
    "from sklearn.model_selection import KFold\n",
    "\n",
    "# Define the number of folds (k)\n",
    "k = 10\n",
    "\n",
    "# Create the KFold object\n",
    "kf = StratifiedKFold(n_splits=k, shuffle=True, random_state=42)\n",
    "\n",
    "# Create a RandomForestClassifier using the same best hyperparams\n",
    "rf = RandomForestClassifier(max_depth=17, n_estimators=299)\n",
    "\n",
    "# Lists to store the accuracy scores for each fold\n",
    "accuracies = []"
   ]
  },
  {
   "cell_type": "code",
   "execution_count": 68,
   "id": "f0b83b43",
   "metadata": {},
   "outputs": [
    {
     "name": "stdout",
     "output_type": "stream",
     "text": [
      "Average Accuracy across 10-fold CV: 0.9063458856345885\n"
     ]
    }
   ],
   "source": [
    "# Create a 70/30 train/test split 10 fold RandomizedSearchCV\n",
    "X_train, X_test, y_train, y_test = train_test_split(X, y, test_size=0.3, random_state=42)\n",
    "\n",
    "# Iterate through the folds\n",
    "for _ in range(k):\n",
    "    # Fit the model on the training data\n",
    "    best_rf.fit(X_train, y_train)\n",
    "    \n",
    "# Make predictions on the test data\n",
    "    best_y_pred = best_rf.predict(X_test)\n",
    "\n",
    "    # Calculate accuracy for this fold and store it\n",
    "    accuracy = accuracy_score(y_test, best_y_pred)\n",
    "    accuracies.append(accuracy)\n",
    "    \n",
    "# Calculate and print the average accuracy across all folds\n",
    "average_accuracy = sum(accuracies) / len(accuracies)\n",
    "print(f'Average Accuracy across {k}-fold CV: {average_accuracy}')"
   ]
  },
  {
   "cell_type": "markdown",
   "id": "d80d4f07",
   "metadata": {},
   "source": [
    "### Hyperparam on base model with GridSearchCV"
   ]
  },
  {
   "cell_type": "code",
   "execution_count": 69,
   "id": "3adab5c5",
   "metadata": {},
   "outputs": [
    {
     "name": "stdout",
     "output_type": "stream",
     "text": [
      "{'max_depth': 20, 'max_features': 30, 'n_estimators': 300}\n"
     ]
    }
   ],
   "source": [
    "#Hyper Parameter Tuning of Random Forest Using GridSearchCV\n",
    "\n",
    "from sklearn.model_selection import GridSearchCV\n",
    "\n",
    "gs_param_grid = {\n",
    "    \"n_estimators\":[20,40,60,80,100,200,300],\n",
    "    \"max_depth\":[5,10,15,20],\n",
    "    \"max_features\":[5,10,15,20,25,30]\n",
    "}\n",
    "\n",
    "# Create a random forest classifier\n",
    "rf = RandomForestClassifier()\n",
    "\n",
    "Grid_rf = GridSearchCV(rf, gs_param_grid, cv = 5, scoring='accuracy')\n",
    "\n",
    "Grid_rf.fit(X_train, y_train)\n",
    "\n",
    "print(Grid_rf.best_params_)"
   ]
  },
  {
   "cell_type": "code",
   "execution_count": 70,
   "id": "44e2ebc5",
   "metadata": {},
   "outputs": [
    {
     "name": "stdout",
     "output_type": "stream",
     "text": [
      "              precision    recall  f1-score   support\n",
      "\n",
      "           1       0.98      0.86      0.91       249\n",
      "           2       0.94      0.87      0.91       462\n",
      "           3       0.97      0.78      0.86       382\n",
      "           4       0.92      0.99      0.95      1775\n",
      "\n",
      "    accuracy                           0.93      2868\n",
      "   macro avg       0.95      0.87      0.91      2868\n",
      "weighted avg       0.93      0.93      0.93      2868\n",
      "\n",
      "Accuracy: 0.9316596931659693\n"
     ]
    }
   ],
   "source": [
    "#Rerun RF on test data with new hyperparams from  GridSearchCV\n",
    "\n",
    "# Create the best Random Forest model with the best hyperparameters\n",
    "grid_best_rf = RandomForestClassifier(max_depth=20, n_estimators=300, max_features=30)\n",
    "\n",
    "# Fit the model on the training data\n",
    "grid_best_rf.fit(X_train, y_train)\n",
    "\n",
    "# Make predictions on the test data\n",
    "grid_y_pred = grid_best_rf.predict(X_test)\n",
    "\n",
    "\n",
    "# Evaluate the model's performance\n",
    "grid_report = classification_report(y_test, grid_y_pred)\n",
    "grid_accuracy = accuracy_score(y_test, grid_y_pred)\n",
    "print(grid_report)\n",
    "print(\"Accuracy:\", grid_accuracy)"
   ]
  },
  {
   "cell_type": "code",
   "execution_count": 71,
   "id": "35ecc8b5",
   "metadata": {},
   "outputs": [],
   "source": [
    "# Running Kfold Cross Validation for GridSearchCV\n",
    "from sklearn.model_selection import KFold\n",
    "\n",
    "# Define the number of folds (k)\n",
    "k = 5\n",
    "\n",
    "# Create the KFold object\n",
    "kf = KFold(n_splits=k, shuffle=True, random_state=42)\n",
    "\n",
    "# Create a RandomForestClassifier using the same best hyperparams\n",
    "grid_best_rf = RandomForestClassifier(max_depth=20, n_estimators=300, max_features=30)\n",
    "\n",
    "# Lists to store the accuracy scores for each fold\n",
    "accuracies = []\n"
   ]
  },
  {
   "cell_type": "code",
   "execution_count": 72,
   "id": "5c59c12d",
   "metadata": {},
   "outputs": [
    {
     "name": "stdout",
     "output_type": "stream",
     "text": [
      "Average Accuracy across 5-fold CV: 0.9301255230125524\n"
     ]
    }
   ],
   "source": [
    "# Create a 70/30 train/test split 10 fold  GridSearchCV\n",
    "X_train, X_test, y_train, y_test = train_test_split(X, y, test_size=0.3, random_state=42)\n",
    "\n",
    "# Iterate through the folds\n",
    "for _ in range(k):\n",
    "    # Fit the model on the training data\n",
    "    grid_best_rf.fit(X_train, y_train)\n",
    "    \n",
    "# Make predictions on the test data\n",
    "    grid_best_y_pred = grid_best_rf.predict(X_test)\n",
    "\n",
    "    # Calculate accuracy for this fold and store it\n",
    "    accuracy = accuracy_score(y_test, grid_best_y_pred)\n",
    "    accuracies.append(accuracy)\n",
    "    \n",
    "# Calculate and print the average accuracy across all folds\n",
    "average_accuracy = sum(accuracies) / len(accuracies)\n",
    "print(f'Average Accuracy across {k}-fold CV: {average_accuracy}')"
   ]
  },
  {
   "cell_type": "code",
   "execution_count": 73,
   "id": "3c398efe",
   "metadata": {},
   "outputs": [],
   "source": [
    "# Running Kfold Cross Validation  GridSearchCV\n",
    "from sklearn.model_selection import KFold\n",
    "\n",
    "# Define the number of folds (k)\n",
    "k = 10\n",
    "\n",
    "# Create the KFold object\n",
    "kf = KFold(n_splits=k, shuffle=True, random_state=42)\n",
    "\n",
    "# Create a RandomForestClassifier using the same best hyperparams\n",
    "grid_best_rf = RandomForestClassifier(max_depth=20, n_estimators=300, max_features=30)\n",
    "\n",
    "# Lists to store the accuracy scores for each fold\n",
    "accuracies = []"
   ]
  },
  {
   "cell_type": "code",
   "execution_count": 74,
   "id": "8698ab9e",
   "metadata": {},
   "outputs": [
    {
     "name": "stdout",
     "output_type": "stream",
     "text": [
      "Average Accuracy across 10-fold CV: 0.9316945606694562\n"
     ]
    }
   ],
   "source": [
    "# Create a 70/30 train/test split 10 fold  GridSearchCV\n",
    "X_train, X_test, y_train, y_test = train_test_split(X, y, test_size=0.3, random_state=42)\n",
    "\n",
    "# Iterate through the folds\n",
    "for _ in range(k):\n",
    "    # Fit the model on the training data\n",
    "    grid_best_rf.fit(X_train, y_train)\n",
    "    \n",
    "# Make predictions on the test data\n",
    "    grid_best_y_pred = grid_best_rf.predict(X_test)\n",
    "\n",
    "    # Calculate accuracy for this fold and store it\n",
    "    accuracy = accuracy_score(y_test, grid_best_y_pred)\n",
    "    accuracies.append(accuracy)\n",
    "    \n",
    "# Calculate and print the average accuracy across all folds\n",
    "average_accuracy = sum(accuracies) / len(accuracies)\n",
    "print(f'Average Accuracy across {k}-fold CV: {average_accuracy}')"
   ]
  },
  {
   "cell_type": "markdown",
   "id": "53865b85",
   "metadata": {},
   "source": [
    "### Attempting to deal with Bias in Target Values through 3 methods\n",
    "### SMOTE(Oversampling), Undersampling and Weighted Random Forest"
   ]
  },
  {
   "cell_type": "code",
   "execution_count": 75,
   "id": "f02fad58",
   "metadata": {},
   "outputs": [
    {
     "data": {
      "text/plain": [
       "Target\n",
       "4    6004\n",
       "2    1558\n",
       "3    1221\n",
       "1     774\n",
       "Name: count, dtype: int64"
      ]
     },
     "execution_count": 75,
     "metadata": {},
     "output_type": "execute_result"
    }
   ],
   "source": [
    "#Method 1 Oversampling to deal with bias in test group\n",
    "train[\"Target\"].value_counts()"
   ]
  },
  {
   "cell_type": "code",
   "execution_count": 76,
   "id": "c59fffa6",
   "metadata": {},
   "outputs": [
    {
     "data": {
      "text/plain": [
       "Text(0.5, 1.0, 'Distribution of Target Values')"
      ]
     },
     "execution_count": 76,
     "metadata": {},
     "output_type": "execute_result"
    },
    {
     "data": {
      "image/png": "[encoded data removed]",
      "text/plain": [
       "<Figure size 640x480 with 1 Axes>"
      ]
     },
     "metadata": {},
     "output_type": "display_data"
    }
   ],
   "source": [
    "sns.countplot(data=train, x=\"Target\")\n",
    "\n",
    "plt.xlabel(\"Target\")\n",
    "plt.ylabel(\"Count\")\n",
    "plt.title(\"Distribution of Target Values\")\n"
   ]
  },
  {
   "cell_type": "code",
   "execution_count": 77,
   "id": "de632963",
   "metadata": {},
   "outputs": [],
   "source": [
    "from imblearn.over_sampling import SMOTE"
   ]
  },
  {
   "cell_type": "code",
   "execution_count": 78,
   "id": "e888b194",
   "metadata": {},
   "outputs": [
    {
     "name": "stdout",
     "output_type": "stream",
     "text": [
      "Number of samples after SMOTE: 16720\n",
      "              precision    recall  f1-score   support\n",
      "\n",
      "           1       0.92      0.88      0.90       215\n",
      "           2       0.93      0.86      0.90       459\n",
      "           3       0.94      0.82      0.87       370\n",
      "           4       0.94      0.98      0.96      1824\n",
      "\n",
      "    accuracy                           0.93      2868\n",
      "   macro avg       0.93      0.89      0.91      2868\n",
      "weighted avg       0.93      0.93      0.93      2868\n",
      "\n",
      "Accuracy: 0.9344490934449093\n"
     ]
    }
   ],
   "source": [
    "# Split the data into features (X) and target (y)\n",
    "X = train.drop('Target', axis=1)\n",
    "y = train['Target']\n",
    "\n",
    "# Split the data into training and test sets\n",
    "X_train, X_test, y_train, y_test = train_test_split(X, y, test_size=0.3,random_state=50)\n",
    "\n",
    "# Apply SMOTE to balance the class distribution\n",
    "smote = SMOTE(random_state=50)\n",
    "X_resampled, y_resampled = smote.fit_resample(X_train, y_train)\n",
    "\n",
    "# Check the number of samples used after SMOTE\n",
    "num_samples_after_smote = len(X_resampled)\n",
    "print(f\"Number of samples after SMOTE: {num_samples_after_smote}\")\n",
    "\n",
    "# Create and train the Random Forest classifier on the resampled data\n",
    "rf_classifier = RandomForestClassifier()\n",
    "rf_classifier.fit(X_resampled, y_resampled)\n",
    "\n",
    "# Evaluate the model on the test dataset\n",
    "smote_y_pred = rf_classifier.predict(X_test)\n",
    "smote_accuracy = accuracy_score(y_test, smote_y_pred)\n",
    "smote_report = classification_report(y_test, smote_y_pred)\n",
    "print(smote_report)\n",
    "print(\"Accuracy:\", smote_accuracy)"
   ]
  },
  {
   "cell_type": "code",
   "execution_count": 79,
   "id": "ef068cae",
   "metadata": {},
   "outputs": [
    {
     "name": "stdout",
     "output_type": "stream",
     "text": [
      "Number of samples after undersampling: 2132\n",
      "              precision    recall  f1-score   support\n",
      "\n",
      "           1       0.59      0.92      0.72       241\n",
      "           2       0.64      0.75      0.69       489\n",
      "           3       0.50      0.79      0.61       373\n",
      "           4       0.95      0.72      0.82      1765\n",
      "\n",
      "    accuracy                           0.75      2868\n",
      "   macro avg       0.67      0.79      0.71      2868\n",
      "weighted avg       0.81      0.75      0.76      2868\n",
      "\n",
      "Accuracy: 0.75\n"
     ]
    }
   ],
   "source": [
    "#Method 2 Undersampling to deal with bias in test group\n",
    "from imblearn.under_sampling import RandomUnderSampler\n",
    "\n",
    "# Split the data into features (X) and target (y)\n",
    "X = train.drop('Target', axis=1)\n",
    "y = train['Target']\n",
    "\n",
    "# Split the data into training and test sets\n",
    "X_train, X_test, y_train, y_test = train_test_split(X, y, test_size=0.3,random_state=51)\n",
    "\n",
    "#Apply Undersampling\n",
    "rus = RandomUnderSampler(random_state=51)\n",
    "X_resampled, y_resampled = rus.fit_resample(X_train, y_train)\n",
    "\n",
    "# Check the number of samples used after undersampling\n",
    "num_samples_after_undersampling = len(X_resampled)\n",
    "print(f\"Number of samples after undersampling: {num_samples_after_undersampling}\")\n",
    "\n",
    "# Create and train the Random Forest classifier on the undersampled data\n",
    "rf_classifier = RandomForestClassifier()\n",
    "rf_classifier.fit(X_resampled, y_resampled)\n",
    "\n",
    "# Evaluate the model on the test dataset\n",
    "rus_y_pred = rf_classifier.predict(X_test)\n",
    "rus_accuracy = accuracy_score(y_test, rus_y_pred)\n",
    "rus_report = classification_report(y_test, rus_y_pred)\n",
    "print(rus_report)\n",
    "print(\"Accuracy:\", rus_accuracy)\n"
   ]
  },
  {
   "cell_type": "code",
   "execution_count": 80,
   "id": "9776d9aa",
   "metadata": {},
   "outputs": [
    {
     "name": "stdout",
     "output_type": "stream",
     "text": [
      "              precision    recall  f1-score   support\n",
      "\n",
      "           1       0.98      0.80      0.88       222\n",
      "           2       0.95      0.83      0.89       451\n",
      "           3       0.99      0.75      0.85       369\n",
      "           4       0.90      1.00      0.95      1826\n",
      "\n",
      "    accuracy                           0.92      2868\n",
      "   macro avg       0.96      0.84      0.89      2868\n",
      "weighted avg       0.93      0.92      0.92      2868\n",
      "\n",
      "Accuracy: 0.9229428172942817\n"
     ]
    }
   ],
   "source": [
    "## Method 3 Weighted Random Forest\n",
    "\n",
    "# Split the data into features (X) and target (y)\n",
    "X = train.drop('Target', axis=1)\n",
    "y = train['Target']\n",
    "\n",
    "# Split the data into training and test sets\n",
    "X_train, X_test, y_train, y_test = train_test_split(X, y, test_size=0.3)\n",
    "\n",
    "# Define class weights based on the inverse weights\n",
    "class_weights = {\n",
    "    1: (6004 + 1558 + 1221) / 774,  # Weight for class 1\n",
    "    2: (6004 + 1558 + 1221) / 1558,  # Weight for class 2\n",
    "    3: (6004 + 1558 + 1221) / 1221,  # Weight for class 3\n",
    "    4: 1.0   # Weight for class 4 (majority class)\n",
    "}\n",
    "\n",
    "# Create the weighted random forest classifier\n",
    "weighted_rf_classifier = RandomForestClassifier(class_weight=class_weights, random_state=50)\n",
    "\n",
    "# Train the model on your training data\n",
    "weighted_rf_classifier.fit(X_train, y_train)\n",
    "\n",
    "# Evaluate the model's performance\n",
    "weighted_y_pred = weighted_rf_classifier.predict(X_test)\n",
    "weighted_accuracy = accuracy_score(y_test, weighted_y_pred)\n",
    "weighted_report = classification_report(y_test, weighted_y_pred)\n",
    "print(weighted_report)\n",
    "print(\"Accuracy:\", weighted_accuracy)"
   ]
  },
  {
   "cell_type": "code",
   "execution_count": 81,
   "id": "8f0037f5",
   "metadata": {},
   "outputs": [
    {
     "name": "stdout",
     "output_type": "stream",
     "text": [
      "Base Model Accuracy: 0.9323570432357043\n",
      "Weighted Random Forest Accuracy: 0.9229428172942817\n",
      "Random Under-Sampling Accuracy: 0.75\n",
      "SMOTE Accuracy: 0.9344490934449093\n"
     ]
    }
   ],
   "source": [
    "## Comparing the accuracy of all models to test\n",
    "\n",
    "print(\"Base Model Accuracy:\", base_accuracy)\n",
    "print(\"Weighted Random Forest Accuracy:\", weighted_accuracy)\n",
    "print(\"Random Under-Sampling Accuracy:\", rus_accuracy)\n",
    "print(\"SMOTE Accuracy:\", smote_accuracy)"
   ]
  },
  {
   "cell_type": "code",
   "execution_count": 82,
   "id": "76932d7f",
   "metadata": {},
   "outputs": [
    {
     "name": "stdout",
     "output_type": "stream",
     "text": [
      "\n",
      "==================================================\n",
      "Classification Report for Base Model:\n",
      "              precision    recall  f1-score   support\n",
      "\n",
      "           1       0.97      0.87      0.92       235\n",
      "           2       0.96      0.86      0.91       478\n",
      "           3       0.98      0.78      0.86       370\n",
      "           4       0.91      0.99      0.95      1785\n",
      "\n",
      "    accuracy                           0.93      2868\n",
      "   macro avg       0.96      0.87      0.91      2868\n",
      "weighted avg       0.94      0.93      0.93      2868\n",
      "\n",
      "Accuracy: 0.9323570432357043\n",
      "==================================================\n",
      "\n",
      "\n",
      "==================================================\n",
      "Classification Report for Weighted Random Forest:\n",
      "              precision    recall  f1-score   support\n",
      "\n",
      "           1       0.98      0.80      0.88       222\n",
      "           2       0.95      0.83      0.89       451\n",
      "           3       0.99      0.75      0.85       369\n",
      "           4       0.90      1.00      0.95      1826\n",
      "\n",
      "    accuracy                           0.92      2868\n",
      "   macro avg       0.96      0.84      0.89      2868\n",
      "weighted avg       0.93      0.92      0.92      2868\n",
      "\n",
      "Accuracy: 0.9229428172942817\n",
      "==================================================\n",
      "\n",
      "\n",
      "==================================================\n",
      "Classification Report for SMOTE:\n",
      "              precision    recall  f1-score   support\n",
      "\n",
      "           1       0.92      0.88      0.90       215\n",
      "           2       0.93      0.86      0.90       459\n",
      "           3       0.94      0.82      0.87       370\n",
      "           4       0.94      0.98      0.96      1824\n",
      "\n",
      "    accuracy                           0.93      2868\n",
      "   macro avg       0.93      0.89      0.91      2868\n",
      "weighted avg       0.93      0.93      0.93      2868\n",
      "\n",
      "Accuracy: 0.9344490934449093\n",
      "==================================================\n",
      "\n",
      "\n",
      "==================================================\n",
      "Classification Report for Random Under-Sampling (RUS):\n",
      "              precision    recall  f1-score   support\n",
      "\n",
      "           1       0.59      0.92      0.72       241\n",
      "           2       0.64      0.75      0.69       489\n",
      "           3       0.50      0.79      0.61       373\n",
      "           4       0.95      0.72      0.82      1765\n",
      "\n",
      "    accuracy                           0.75      2868\n",
      "   macro avg       0.67      0.79      0.71      2868\n",
      "weighted avg       0.81      0.75      0.76      2868\n",
      "\n",
      "Accuracy: 0.75\n",
      "==================================================\n",
      "\n"
     ]
    }
   ],
   "source": [
    "def print_classification_report(report, label):\n",
    "    print(f\"Classification Report for {label}:\")\n",
    "    print(report)\n",
    "\n",
    "# Print classification reports with dividers and labels\n",
    "print(\"\\n\" + \"=\"*50)\n",
    "print_classification_report(base_report, \"Base Model\")\n",
    "print(\"Accuracy:\", base_accuracy)\n",
    "print(\"=\"*50 + \"\\n\")\n",
    "\n",
    "print(\"\\n\" + \"=\"*50)\n",
    "print_classification_report(weighted_report, \"Weighted Random Forest\")\n",
    "print(\"Accuracy:\", weighted_accuracy)\n",
    "print(\"=\"*50 + \"\\n\")\n",
    "\n",
    "print(\"\\n\" + \"=\"*50)\n",
    "print_classification_report(smote_report, \"SMOTE\")\n",
    "print(\"Accuracy:\", smote_accuracy)\n",
    "print(\"=\"*50 + \"\\n\")\n",
    "\n",
    "print(\"\\n\" + \"=\"*50)\n",
    "print_classification_report(rus_report, \"Random Under-Sampling (RUS)\")\n",
    "print(\"Accuracy:\", rus_accuracy)\n",
    "print(\"=\"*50 + \"\\n\")"
   ]
  },
  {
   "cell_type": "markdown",
   "id": "244f005e",
   "metadata": {},
   "source": [
    "### I have chosen the SMOTE Model to do futher hyperparam tuning as the SMOTE model demonstrates balanced performance across all classes, with well-matched precision and recall values. Its accuracy of 93.51% is on par with the base model, showcasing its competitive performance. \n",
    "\n",
    "### Notably, SMOTE significantly enhances the model's ability to correctly classify instances in underrepresented classes, particularly class 3. This improvement is evident when compared to the weighted random forest model, which exhibited lower precision and recall for various classes. Considering its balanced and competitive performance, the SMOTE model is a strong choice for future use, especially when achieving equitable classification results is a key objective."
   ]
  },
  {
   "cell_type": "code",
   "execution_count": 83,
   "id": "e3d9e7a3",
   "metadata": {},
   "outputs": [
    {
     "name": "stdout",
     "output_type": "stream",
     "text": [
      "Best Parameters: {'max_depth': 20, 'max_features': 30, 'n_estimators': 300}\n",
      "              precision    recall  f1-score   support\n",
      "\n",
      "           1       0.95      0.90      0.92       215\n",
      "           2       0.94      0.88      0.91       459\n",
      "           3       0.94      0.86      0.90       370\n",
      "           4       0.95      0.98      0.97      1824\n",
      "\n",
      "    accuracy                           0.95      2868\n",
      "   macro avg       0.94      0.91      0.93      2868\n",
      "weighted avg       0.95      0.95      0.95      2868\n",
      "\n",
      "Accuracy: 0.9459553695955369\n"
     ]
    }
   ],
   "source": [
    "#Hyper Parameter Tuning of SMOTE Model Using GridSearchCV\n",
    "\n",
    "X = train.drop('Target', axis=1)\n",
    "y = train['Target']\n",
    "\n",
    "X_train, X_test, y_train, y_test = train_test_split(X, y, test_size=0.3, random_state=50)\n",
    "\n",
    "smote = SMOTE(random_state=50)\n",
    "\n",
    "X_resampled, y_resampled = smote.fit_resample(X_train, y_train)\n",
    "\n",
    "gs_smote_param_grid = {\n",
    "    \"n_estimators\":[20,40,60,80,100,200,300],\n",
    "    \"max_depth\":[5,10,15,20],\n",
    "    \"max_features\":[5,10,15,20,25,30]\n",
    "}\n",
    "\n",
    "best_smotehyper_rf_classifier = RandomForestClassifier(oob_score=True)\n",
    "\n",
    "grid_search = GridSearchCV(estimator=best_smotehyper_rf_classifier, param_grid=gs_smote_param_grid, scoring='accuracy', cv=3, n_jobs=-1)\n",
    "\n",
    "grid_search.fit(X_resampled, y_resampled)\n",
    "\n",
    "best_smotehyper_params = grid_search.best_params_\n",
    "best_smotehyper_estimator = grid_search.best_estimator_\n",
    "\n",
    "smotehyper_y_pred = best_smotehyper_estimator.predict(X_test)\n",
    "smotehyper_accuracy = accuracy_score(y_test, smotehyper_y_pred)\n",
    "smotehyper_report = classification_report(y_test, smotehyper_y_pred)\n",
    "\n",
    "print(\"Best Parameters:\", best_smotehyper_params)\n",
    "print(smotehyper_report)\n",
    "print(\"Accuracy:\", smotehyper_accuracy)"
   ]
  },
  {
   "cell_type": "code",
   "execution_count": 84,
   "id": "003f2373",
   "metadata": {},
   "outputs": [
    {
     "name": "stdout",
     "output_type": "stream",
     "text": [
      "OOB Score: 0.9563397129186603\n",
      "Confusion Matrix:\n",
      "[[ 194    6    3   12]\n",
      " [   4  405    6   44]\n",
      " [   1    6  319   44]\n",
      " [   6   13   10 1795]]\n"
     ]
    }
   ],
   "source": [
    "## OOB scoring and confusion matrix\n",
    "\n",
    "oob_score = best_smotehyper_estimator.oob_score_\n",
    "\n",
    "print(\"OOB Score:\", oob_score)\n",
    "\n",
    "smotehyper_confusion_matrix = confusion_matrix(y_test, smotehyper_y_pred)\n",
    "\n",
    "print(\"Confusion Matrix:\")\n",
    "print(smotehyper_confusion_matrix)"
   ]
  },
  {
   "cell_type": "code",
   "execution_count": 85,
   "id": "5930a58a",
   "metadata": {},
   "outputs": [
    {
     "name": "stdout",
     "output_type": "stream",
     "text": [
      "              precision    recall  f1-score   support\n",
      "\n",
      "           1       0.92      0.88      0.90       215\n",
      "           2       0.93      0.86      0.90       459\n",
      "           3       0.94      0.82      0.87       370\n",
      "           4       0.94      0.98      0.96      1824\n",
      "\n",
      "    accuracy                           0.93      2868\n",
      "   macro avg       0.93      0.89      0.91      2868\n",
      "weighted avg       0.93      0.93      0.93      2868\n",
      "\n",
      "Accuracy: 0.9344490934449093\n",
      "              precision    recall  f1-score   support\n",
      "\n",
      "           1       0.95      0.90      0.92       215\n",
      "           2       0.94      0.88      0.91       459\n",
      "           3       0.94      0.86      0.90       370\n",
      "           4       0.95      0.98      0.97      1824\n",
      "\n",
      "    accuracy                           0.95      2868\n",
      "   macro avg       0.94      0.91      0.93      2868\n",
      "weighted avg       0.95      0.95      0.95      2868\n",
      "\n",
      "Accuracy: 0.9459553695955369\n"
     ]
    }
   ],
   "source": [
    "##Compare SMOTE and Hyperparam Tuning SMOTE\n",
    "\n",
    "print(smote_report)\n",
    "print(\"Accuracy:\", smote_accuracy)\n",
    "\n",
    "print(smotehyper_report)\n",
    "print(\"Accuracy:\", smotehyper_accuracy)"
   ]
  },
  {
   "cell_type": "markdown",
   "id": "2d7f1347",
   "metadata": {},
   "source": [
    "### The hyperparameter tuning for the SMOTE model has led to noticeable improvements in its classification performance. In the post-tuning results, we observe that precision, recall, and F1-scores for all classes have become more balanced. The accuracy has also increased, reaching 93.83% or 94.04% in the two instances.\n",
    "\n",
    "### The improvements can be summarized as follows:\n",
    "\n",
    "### Precision and Recall: The model now exhibits consistent precision and recall values across all classes. This balanced performance suggests that the model is making fewer false positive and false negative predictions.\n",
    "\n",
    "### F1-Scores: F1-scores, which consider both precision and recall, have also improved for all classes. This indicates a better overall trade-off between precision and recall.\n",
    "\n",
    "### Accuracy: The accuracy of the model has increased, signifying a higher proportion of correctly classified instances in the test data.\n",
    "\n",
    "### Macro and Weighted Averages: Both macro and weighted averages for precision, recall, and F1-scores show improved values. These averages provide a comprehensive view of the model's performance across all classes.\n",
    "\n",
    "### In conclusion, the hyperparameter improvements have made the SMOTE model more effective in its classification, with balanced and competitive performance. These results demonstrate the positive impact of hyperparameter tuning in enhancing the model's predictive capabilities."
   ]
  },
  {
   "cell_type": "code",
   "execution_count": 86,
   "id": "600b0205",
   "metadata": {},
   "outputs": [
    {
     "name": "stdout",
     "output_type": "stream",
     "text": [
      "             Feature  Importance\n",
      "100         meaneduc    0.042073\n",
      "137        SQBmeaned    0.039945\n",
      "136    SQBdependency    0.038890\n",
      "97        dependency    0.035260\n",
      "135  SQBovercrowding    0.029694\n",
      "111     overcrowding    0.027699\n",
      "98            edjefe    0.027598\n",
      "133        SQBedjefe    0.025991\n",
      "120     qmobilephone    0.023012\n",
      "138            agesq    0.022551\n"
     ]
    }
   ],
   "source": [
    "best_smotehyper_rf_classifier.fit(X_resampled, y_resampled)\n",
    "\n",
    "feature_importance = best_smotehyper_rf_classifier.feature_importances_\n",
    "\n",
    "feature_names = X.columns\n",
    "\n",
    "importance_df = pd.DataFrame({'Feature': feature_names, 'Importance': feature_importance})\n",
    "\n",
    "importance_df = importance_df.sort_values(by='Importance', ascending=False)\n",
    "\n",
    "top_10_features = importance_df.head(10)\n",
    "print(top_10_features)"
   ]
  },
  {
   "cell_type": "code",
   "execution_count": 87,
   "id": "876ccdec",
   "metadata": {},
   "outputs": [
    {
     "data": {
      "image/png": "[encoded data removed]",
      "text/plain": [
       "<Figure size 1000x600 with 1 Axes>"
      ]
     },
     "metadata": {},
     "output_type": "display_data"
    }
   ],
   "source": [
    "importance_df = importance_df.sort_values(by='Importance', ascending=False)\n",
    "\n",
    "sns.set(style=\"whitegrid\")\n",
    "\n",
    "plt.figure(figsize=(10, 6))\n",
    "sns.barplot(x=\"Importance\", y=\"Feature\", data=importance_df.head(10), palette=\"RdBu\")\n",
    "\n",
    "\n",
    "plt.xlabel('Feature Importance')\n",
    "plt.ylabel('Feature')\n",
    "plt.title('Top 10 Feature Importance')\n",
    "plt.show()"
   ]
  },
  {
   "cell_type": "code",
   "execution_count": 88,
   "id": "7f1c22b6",
   "metadata": {},
   "outputs": [
    {
     "name": "stdout",
     "output_type": "stream",
     "text": [
      "Cross-Validation Scores: [0.94736842 0.94886364 0.94049043 0.93600478 0.94527512]\n",
      "Mean Accuracy: 0.9436004784688995\n"
     ]
    }
   ],
   "source": [
    "from sklearn.model_selection import StratifiedKFold\n",
    "from sklearn.model_selection import cross_val_score\n",
    "\n",
    "smotehyper = best_smotehyper_estimator\n",
    "\n",
    "num_folds = 5\n",
    "\n",
    "cv = StratifiedKFold(n_splits=num_folds, shuffle=True, random_state=50)\n",
    "\n",
    "scores = cross_val_score(smotehyper, X_resampled, y_resampled, cv=cv, scoring='accuracy')\n",
    "\n",
    "print(\"Cross-Validation Scores:\", scores)\n",
    "print(\"Mean Accuracy:\", scores.mean())"
   ]
  },
  {
   "cell_type": "code",
   "execution_count": 89,
   "id": "b8f2e4a9",
   "metadata": {},
   "outputs": [
    {
     "name": "stdout",
     "output_type": "stream",
     "text": [
      "Cross-Validation Scores: [0.95334928 0.95992823 0.95394737 0.95753589 0.95215311 0.95574163\n",
      " 0.94078947 0.95095694 0.94557416 0.95454545]\n",
      "Mean Accuracy: 0.9524521531100479\n"
     ]
    }
   ],
   "source": [
    "smotehyper = best_smotehyper_estimator\n",
    "\n",
    "num_folds = 10\n",
    "\n",
    "cv = StratifiedKFold(n_splits=num_folds, shuffle=True, random_state=50)\n",
    "\n",
    "scores = cross_val_score(smotehyper, X_resampled, y_resampled, cv=cv, scoring='accuracy')\n",
    "\n",
    "print(\"Cross-Validation Scores:\", scores)\n",
    "print(\"Mean Accuracy:\", scores.mean())"
   ]
  },
  {
   "cell_type": "markdown",
   "id": "957838ba",
   "metadata": {},
   "source": [
    "#### Decided to run the stratified Kfold on the final model as it is more suited to Classification tasks as it maintains the class distribution in each fold which is also better for imbalanced datasets like this one."
   ]
  },
  {
   "cell_type": "code",
   "execution_count": null,
   "id": "5eaf33cd",
   "metadata": {},
   "outputs": [],
   "source": []
  }
 ],
 "metadata": {
  "kernelspec": {
   "display_name": "Python 3 (ipykernel)",
   "language": "python",
   "name": "python3"
  },
  "language_info": {
   "codemirror_mode": {
    "name": "ipython",
    "version": 3
   },
   "file_extension": ".py",
   "mimetype": "text/x-python",
   "name": "python",
   "nbconvert_exporter": "python",
   "pygments_lexer": "ipython3",
   "version": "3.11.5"
  }
 },
 "nbformat": 4,
 "nbformat_minor": 5
}
